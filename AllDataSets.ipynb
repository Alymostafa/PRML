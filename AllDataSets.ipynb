{
  "nbformat": 4,
  "nbformat_minor": 0,
  "metadata": {
    "colab": {
      "name": "AllDataSets.ipynb",
      "provenance": [],
      "collapsed_sections": [
        "10Q4C9D1TtT6",
        "q2DUzfTBVGDh",
        "LftfGaf7VxA5",
        "IC8WTXSKWG4Y"
      ],
      "toc_visible": true,
      "include_colab_link": true
    },
    "kernelspec": {
      "name": "python3",
      "display_name": "Python 3"
    },
    "accelerator": "GPU"
  },
  "cells": [
    {
      "cell_type": "markdown",
      "metadata": {
        "id": "view-in-github",
        "colab_type": "text"
      },
      "source": [
        "<a href=\"https://colab.research.google.com/github/Alymostafa/PRML/blob/master/AllDataSets.ipynb\" target=\"_parent\"><img src=\"https://colab.research.google.com/assets/colab-badge.svg\" alt=\"Open In Colab\"/></a>"
      ]
    },
    {
      "cell_type": "markdown",
      "metadata": {
        "id": "10Q4C9D1TtT6"
      },
      "source": [
        "##weights and biases"
      ]
    },
    {
      "cell_type": "code",
      "metadata": {
        "id": "cS4H24CcTb3m"
      },
      "source": [
        "!pip install --upgrade wandb"
      ],
      "execution_count": null,
      "outputs": []
    },
    {
      "cell_type": "code",
      "metadata": {
        "id": "OXhzr-ddTytT",
        "outputId": "55b734d8-5de0-4ea8-df77-16645959e871",
        "colab": {
          "base_uri": "https://localhost:8080/",
          "height": 34
        }
      },
      "source": [
        "!wandb login d3214840db57c8ceb248f2168774d9d01ddd1d3c"
      ],
      "execution_count": null,
      "outputs": [
        {
          "output_type": "stream",
          "text": [
            "\u001b[34m\u001b[1mwandb\u001b[0m: Appending key for api.wandb.ai to your netrc file: /root/.netrc\n"
          ],
          "name": "stdout"
        }
      ]
    },
    {
      "cell_type": "markdown",
      "metadata": {
        "id": "q2DUzfTBVGDh"
      },
      "source": [
        "##imports"
      ]
    },
    {
      "cell_type": "code",
      "metadata": {
        "id": "5KQyzsfVTSu7",
        "outputId": "f709625a-03f3-46b5-a133-e84c739b5cfb",
        "colab": {
          "base_uri": "https://localhost:8080/",
          "height": 126
        }
      },
      "source": [
        "from sklearn.linear_model import SGDClassifier\n",
        "from sklearn.svm import SVC\n",
        "from sklearn import metrics\n",
        "from pprint import pprint\n",
        "from sklearn.preprocessing import MultiLabelBinarizer\n",
        "import tensorflow as tf\n",
        "import tensorflow_hub as hub\n",
        "import numpy as np\n",
        "import os, sys\n",
        "import pandas as pd\n",
        "from sklearn.metrics.pairwise import cosine_similarity\n",
        "from collections import defaultdict\n",
        "from nltk.stem import WordNetLemmatizer\n",
        "from nltk.corpus import names\n",
        "import nltk\n",
        "nltk.download('names')\n",
        "nltk.download('wordnet')\n",
        "nltk.download('stopwords')\n",
        "from nltk import word_tokenize\n",
        "from nltk.stem.porter import PorterStemmer\n",
        "from nltk.corpus import stopwords\n",
        "import re \n",
        "from nltk.corpus import stopwords\n",
        "#from sklearn.datasets import fetch_rcv1\n"
      ],
      "execution_count": 157,
      "outputs": [
        {
          "output_type": "stream",
          "text": [
            "[nltk_data] Downloading package names to /root/nltk_data...\n",
            "[nltk_data]   Unzipping corpora/names.zip.\n",
            "[nltk_data] Downloading package wordnet to /root/nltk_data...\n",
            "[nltk_data]   Unzipping corpora/wordnet.zip.\n",
            "[nltk_data] Downloading package stopwords to /root/nltk_data...\n",
            "[nltk_data]   Package stopwords is already up-to-date!\n"
          ],
          "name": "stdout"
        }
      ]
    },
    {
      "cell_type": "markdown",
      "metadata": {
        "id": "LftfGaf7VxA5"
      },
      "source": [
        "##<h1>First DataSets</h1>"
      ]
    },
    {
      "cell_type": "code",
      "metadata": {
        "id": "CMB81FoajP3E"
      },
      "source": [
        ""
      ],
      "execution_count": null,
      "outputs": []
    },
    {
      "cell_type": "code",
      "metadata": {
        "id": "wlZaGfDMjP0Z"
      },
      "source": [
        ""
      ],
      "execution_count": null,
      "outputs": []
    },
    {
      "cell_type": "code",
      "metadata": {
        "id": "O9FSY4FJjPXY"
      },
      "source": [
        ""
      ],
      "execution_count": null,
      "outputs": []
    },
    {
      "cell_type": "code",
      "metadata": {
        "id": "IlsdfEhcTa5U"
      },
      "source": [
        "from sklearn.datasets import fetch_20newsgroups\n",
        "import pandas as pd\n",
        "def twenty_newsgroup_to_csv(data,name):\n",
        "    newsgroups_train = fetch_20newsgroups(subset= data , remove=('headers', 'footers', 'quotes'))\n",
        "\n",
        "    df = pd.DataFrame([newsgroups_train.data, newsgroups_train.target.tolist()]).T\n",
        "    df.columns = ['text', 'target']\n",
        "\n",
        "    targets = pd.DataFrame( newsgroups_train.target_names)\n",
        "    targets.columns=['title']\n",
        "\n",
        "    out = pd.merge(df, targets, left_on='target', right_index=True)\n",
        "    out['date'] = pd.to_datetime('now')\n",
        "    out.to_csv(name+'.csv')\n",
        "\n",
        "twenty_newsgroup_to_csv('train','train')\n",
        "twenty_newsgroup_to_csv('test','test')"
      ],
      "execution_count": null,
      "outputs": []
    },
    {
      "cell_type": "code",
      "metadata": {
        "id": "IUh0cOm6VOTn"
      },
      "source": [
        "df = pd.read_csv(\"train.csv\")\n",
        "df_test = pd.read_csv(\"test.csv\")"
      ],
      "execution_count": null,
      "outputs": []
    },
    {
      "cell_type": "code",
      "metadata": {
        "id": "ZTKU_zQ0VQQF"
      },
      "source": [
        "df.dropna(subset = [\"text\"], inplace=True)\n",
        "df_test.dropna(subset = [\"text\"], inplace=True)"
      ],
      "execution_count": null,
      "outputs": []
    },
    {
      "cell_type": "code",
      "metadata": {
        "id": "TfCWwSQaVR2U"
      },
      "source": [
        "all_names = names.words()\n",
        "WNL = WordNetLemmatizer()\n",
        "def clean(data):\n",
        "    cleaned = defaultdict(list)\n",
        "    count = 0\n",
        "    for group in data:\n",
        "        for words in group.split():\n",
        "            if words.isalpha() and words not in all_names:\n",
        "                cleaned[count].append(WNL.lemmatize(words.lower()))\n",
        "        cleaned[count] = ' '.join(cleaned[count])\n",
        "        count +=1 \n",
        "    return(list(cleaned.values()))"
      ],
      "execution_count": null,
      "outputs": []
    },
    {
      "cell_type": "code",
      "metadata": {
        "id": "-caJuK8-VT-e"
      },
      "source": [
        "df['text'] = clean(df['text'])\n",
        "df_test['text'] = clean(df_test['text'])"
      ],
      "execution_count": null,
      "outputs": []
    },
    {
      "cell_type": "code",
      "metadata": {
        "id": "ecqTmBE_VYB3",
        "outputId": "6cc47fc7-50f3-4d23-a577-fc22be24df79",
        "colab": {
          "base_uri": "https://localhost:8080/",
          "height": 51
        }
      },
      "source": [
        "print(len(df))\n",
        "print(len(df_test))\n"
      ],
      "execution_count": null,
      "outputs": [
        {
          "output_type": "stream",
          "text": [
            "11096\n",
            "7370\n"
          ],
          "name": "stdout"
        }
      ]
    },
    {
      "cell_type": "code",
      "metadata": {
        "id": "7Cfx_qrTc4uZ"
      },
      "source": [
        "df.drop(labels=['target','date'],axis=1,inplace=True)\n"
      ],
      "execution_count": null,
      "outputs": []
    },
    {
      "cell_type": "code",
      "metadata": {
        "id": "3mSVxTOLdYgF"
      },
      "source": [
        "df_test.drop(labels=['target','date'],axis=1,inplace=True)\n"
      ],
      "execution_count": null,
      "outputs": []
    },
    {
      "cell_type": "markdown",
      "metadata": {
        "id": "IC8WTXSKWG4Y"
      },
      "source": [
        "##<h1>Second Dataset</h1>"
      ]
    },
    {
      "cell_type": "code",
      "metadata": {
        "id": "VnQjj487WGV1",
        "outputId": "92684f61-7975-4414-97f3-8275a9eb0eec",
        "colab": {
          "base_uri": "https://localhost:8080/",
          "height": 85
        }
      },
      "source": [
        "nltk.download('reuters')\n",
        "nltk.download('punkt')\n",
        "from nltk.corpus import stopwords, reuters"
      ],
      "execution_count": null,
      "outputs": [
        {
          "output_type": "stream",
          "text": [
            "[nltk_data] Downloading package reuters to /root/nltk_data...\n",
            "[nltk_data]   Package reuters is already up-to-date!\n",
            "[nltk_data] Downloading package punkt to /root/nltk_data...\n",
            "[nltk_data]   Package punkt is already up-to-date!\n"
          ],
          "name": "stdout"
        }
      ]
    },
    {
      "cell_type": "code",
      "metadata": {
        "id": "9qNHmTA4WGZt"
      },
      "source": [
        "documents = reuters.fileids()\n",
        " \n",
        "train_docs_id = list(filter(lambda doc: doc.startswith(\"train\"),\n",
        "                            documents))\n",
        "test_docs_id = list(filter(lambda doc: doc.startswith(\"test\"),\n",
        "                           documents))\n",
        " \n",
        "train_docs = [reuters.raw(doc_id) for doc_id in train_docs_id]\n",
        "test_docs = [reuters.raw(doc_id) for doc_id in test_docs_id]"
      ],
      "execution_count": null,
      "outputs": []
    },
    {
      "cell_type": "code",
      "metadata": {
        "id": "qWlWSSVnWvni"
      },
      "source": [
        "docs_pdf_train = pd.DataFrame(train_docs) \n",
        "docs_pdf_test = pd.DataFrame(test_docs) \n",
        "docs_pdf_train['text'] = pd.DataFrame(train_docs) \n",
        "docs_pdf_test['text'] = pd.DataFrame(test_docs) \n",
        "docs_pdf_train.drop([docs_pdf_train.columns[0]], axis ='columns',inplace=True)\n",
        "docs_pdf_test.drop([docs_pdf_test.columns[0]], axis ='columns',inplace=True)\n",
        "docs_pdf_train.dropna(inplace=True)\n",
        "docs_pdf_test.dropna(inplace=True)"
      ],
      "execution_count": null,
      "outputs": []
    },
    {
      "cell_type": "code",
      "metadata": {
        "id": "k9fJXsNgWxXl"
      },
      "source": [
        "docs_pdf_train.dropna(subset = [\"text\"], inplace=True)\n",
        "docs_pdf_train.replace(r'-', ' ', regex=True,inplace=True)\n",
        "docs_pdf_train.replace(r'\\t', ' ', regex=True,inplace=True)\n",
        "docs_pdf_train.replace(r'\\n', ' ', regex=True,inplace=True)\n",
        "docs_pdf_train.replace(r'   ', ' ', regex=True,inplace=True)\n",
        "docs_pdf_test.replace(r'-', ' ', regex=True,inplace=True)\n",
        "docs_pdf_test.replace(r'\\t', ' ', regex=True,inplace=True)\n",
        "docs_pdf_test.replace(r'\\n', ' ', regex=True,inplace=True)\n",
        "docs_pdf_test.replace(r'   ', ' ', regex=True,inplace=True)"
      ],
      "execution_count": null,
      "outputs": []
    },
    {
      "cell_type": "code",
      "metadata": {
        "id": "qhPS757oWzAE"
      },
      "source": [
        "docs_pdf_train['text'] = clean(docs_pdf_train['text'])\n",
        "docs_pdf_test['text'] = clean(docs_pdf_test['text'])"
      ],
      "execution_count": null,
      "outputs": []
    },
    {
      "cell_type": "code",
      "metadata": {
        "id": "rz_dt1BFW-wj"
      },
      "source": [
        "train_labels = [reuters.categories(doc_id)for doc_id in train_docs_id]\n",
        "test_labels = [reuters.categories(doc_id)for doc_id in test_docs_id]"
      ],
      "execution_count": null,
      "outputs": []
    },
    {
      "cell_type": "code",
      "metadata": {
        "id": "Rm-V3oLvXf0X"
      },
      "source": [
        "achedStopWords = stopwords.words(\"english\")\n",
        " \n",
        "def tokenize(text):\n",
        "  min_length = 3\n",
        "  words = map(lambda word: word.lower(), word_tokenize(text))\n",
        "  words = [word for word in words if word not in achedStopWords]\n",
        "  tokens = (list(map(lambda token: PorterStemmer().stem(token),\n",
        "                                   words)))\n",
        "  p = re.compile('[a-zA-Z]+');\n",
        "  filtered_tokens =list(filter (lambda token: p.match(token) and\n",
        "                               len(token) >= min_length,\n",
        "                               tokens))\n",
        "  return filtered_tokens\n",
        "\n",
        "def word_tokenizer():\n",
        "  tokenize_docs = []\n",
        "  docs_tokens = docs_pdf_train['text'].tolist()\n",
        "  length = len(docs_tokens)\n",
        "  for i in range(length):\n",
        "    tokenize_docs.append(tokenize(docs_tokens[i]))\n",
        "  return tokenize_docs"
      ],
      "execution_count": 153,
      "outputs": []
    },
    {
      "cell_type": "code",
      "metadata": {
        "id": "nGBstEu1Xlg7"
      },
      "source": [
        "tokenize_docs = word_tokenizer()"
      ],
      "execution_count": null,
      "outputs": []
    },
    {
      "cell_type": "code",
      "metadata": {
        "id": "0ZbeJ_w7XnJV"
      },
      "source": [
        "def word_tokenizer_test():\n",
        "  tokenize_docs = []\n",
        "  docs_tokens = docs_pdf_test['text'].tolist()\n",
        "  length = len(docs_tokens)\n",
        "  for i in range(length):\n",
        "    tokenize_docs.append(tokenize(docs_tokens[i]))\n",
        "  return tokenize_docs"
      ],
      "execution_count": null,
      "outputs": []
    },
    {
      "cell_type": "code",
      "metadata": {
        "id": "Qrk2e6C-Yigy"
      },
      "source": [
        "tokenize_docs_test = word_tokenizer_test()"
      ],
      "execution_count": null,
      "outputs": []
    },
    {
      "cell_type": "code",
      "metadata": {
        "id": "IX5V-zHeZBRO"
      },
      "source": [
        "df_train_2=pd.DataFrame(docs_pdf_train,columns=['text'])\n",
        "df_train_2['target']=''\n",
        "df_train_2['target']=train_labels\n"
      ],
      "execution_count": null,
      "outputs": []
    },
    {
      "cell_type": "code",
      "metadata": {
        "id": "WlA8Zg9lZS8b",
        "outputId": "df9c038e-8bd7-46c0-87ac-9e2ad78f8aba",
        "colab": {
          "base_uri": "https://localhost:8080/",
          "height": 419
        }
      },
      "source": [
        "df_test_2=pd.DataFrame(docs_pdf_test,columns=['text'])\n",
        "df_test_2['target']=''\n",
        "df_test_2['target']=test_labels\n",
        "df_test_2"
      ],
      "execution_count": null,
      "outputs": [
        {
          "output_type": "execute_result",
          "data": {
            "text/html": [
              "<div>\n",
              "<style scoped>\n",
              "    .dataframe tbody tr th:only-of-type {\n",
              "        vertical-align: middle;\n",
              "    }\n",
              "\n",
              "    .dataframe tbody tr th {\n",
              "        vertical-align: top;\n",
              "    }\n",
              "\n",
              "    .dataframe thead th {\n",
              "        text-align: right;\n",
              "    }\n",
              "</style>\n",
              "<table border=\"1\" class=\"dataframe\">\n",
              "  <thead>\n",
              "    <tr style=\"text-align: right;\">\n",
              "      <th></th>\n",
              "      <th>text</th>\n",
              "      <th>target</th>\n",
              "    </tr>\n",
              "  </thead>\n",
              "  <tbody>\n",
              "    <tr>\n",
              "      <th>0</th>\n",
              "      <td>asian exporter fear damage from japan rift mou...</td>\n",
              "      <td>[trade]</td>\n",
              "    </tr>\n",
              "    <tr>\n",
              "      <th>1</th>\n",
              "      <td>china daily say vermin eat pct grain stock a s...</td>\n",
              "      <td>[grain]</td>\n",
              "    </tr>\n",
              "    <tr>\n",
              "      <th>2</th>\n",
              "      <td>japan to revise long term energy demand downwa...</td>\n",
              "      <td>[crude, nat-gas]</td>\n",
              "    </tr>\n",
              "    <tr>\n",
              "      <th>3</th>\n",
              "      <td>thai trade deficit widens in first quarter tra...</td>\n",
              "      <td>[corn, grain, rice, rubber, sugar, tin, trade]</td>\n",
              "    </tr>\n",
              "    <tr>\n",
              "      <th>4</th>\n",
              "      <td>indonesia see cpo price rising sharply indones...</td>\n",
              "      <td>[palm-oil, veg-oil]</td>\n",
              "    </tr>\n",
              "    <tr>\n",
              "      <th>...</th>\n",
              "      <td>...</td>\n",
              "      <td>...</td>\n",
              "    </tr>\n",
              "    <tr>\n",
              "      <th>3014</th>\n",
              "      <td>chase corp make offer for entregrowth corp ltd...</td>\n",
              "      <td>[acq]</td>\n",
              "    </tr>\n",
              "    <tr>\n",
              "      <th>3015</th>\n",
              "      <td>tokyo dealer see dollar poised to breach yen f...</td>\n",
              "      <td>[dlr, money-fx, yen]</td>\n",
              "    </tr>\n",
              "    <tr>\n",
              "      <th>3016</th>\n",
              "      <td>conference cut gulf war risk charge the pakist...</td>\n",
              "      <td>[ship]</td>\n",
              "    </tr>\n",
              "    <tr>\n",
              "      <th>3017</th>\n",
              "      <td>soviet industrial slower in the soviet industr...</td>\n",
              "      <td>[ipi]</td>\n",
              "    </tr>\n",
              "    <tr>\n",
              "      <th>3018</th>\n",
              "      <td>six killed in south african gold mine accident...</td>\n",
              "      <td>[gold]</td>\n",
              "    </tr>\n",
              "  </tbody>\n",
              "</table>\n",
              "<p>3019 rows × 2 columns</p>\n",
              "</div>"
            ],
            "text/plain": [
              "                                                   text                                          target\n",
              "0     asian exporter fear damage from japan rift mou...                                         [trade]\n",
              "1     china daily say vermin eat pct grain stock a s...                                         [grain]\n",
              "2     japan to revise long term energy demand downwa...                                [crude, nat-gas]\n",
              "3     thai trade deficit widens in first quarter tra...  [corn, grain, rice, rubber, sugar, tin, trade]\n",
              "4     indonesia see cpo price rising sharply indones...                             [palm-oil, veg-oil]\n",
              "...                                                 ...                                             ...\n",
              "3014  chase corp make offer for entregrowth corp ltd...                                           [acq]\n",
              "3015  tokyo dealer see dollar poised to breach yen f...                            [dlr, money-fx, yen]\n",
              "3016  conference cut gulf war risk charge the pakist...                                          [ship]\n",
              "3017  soviet industrial slower in the soviet industr...                                           [ipi]\n",
              "3018  six killed in south african gold mine accident...                                          [gold]\n",
              "\n",
              "[3019 rows x 2 columns]"
            ]
          },
          "metadata": {
            "tags": []
          },
          "execution_count": 30
        }
      ]
    },
    {
      "cell_type": "code",
      "metadata": {
        "id": "H80bi5mJdij8"
      },
      "source": [
        "df_train_2.rename(columns={'target':'title'},inplace=True)\n",
        "df_test_2.rename(columns={'target':'title'},inplace=True)\n"
      ],
      "execution_count": null,
      "outputs": []
    },
    {
      "cell_type": "code",
      "metadata": {
        "id": "WtSPEEMJbkT2"
      },
      "source": [
        "frames_train=[df,df_train_2]\n",
        "frames_test=[df_test,df_test_2]\n",
        "all_dataframes_train=pd.concat(frames_train,keys=['x','y'])\n",
        "all_dataframes_test=pd.concat(frames_test,keys=['x','y'])\n"
      ],
      "execution_count": null,
      "outputs": []
    },
    {
      "cell_type": "code",
      "metadata": {
        "id": "6hD4urXUcO-j"
      },
      "source": [
        "all_dataframes_train.drop(labels='Unnamed: 0',inplace=True,axis=1)\n",
        "all_dataframes_test.drop(labels='Unnamed: 0',inplace=True,axis=1)"
      ],
      "execution_count": null,
      "outputs": []
    },
    {
      "cell_type": "markdown",
      "metadata": {
        "id": "LC1-CTjwf73w"
      },
      "source": [
        "##Bert"
      ]
    },
    {
      "cell_type": "code",
      "metadata": {
        "id": "ByKWd3XifaR-"
      },
      "source": [
        "#import wandb\n",
        "#from wandb.keras import WandbCallback\n",
        "#wandb.init(project=\"gru-wikipedia\")"
      ],
      "execution_count": null,
      "outputs": []
    },
    {
      "cell_type": "code",
      "metadata": {
        "id": "d5v3uYAsgKhg",
        "outputId": "da38e3ee-9dcb-4022-bc71-5cf209a43398",
        "colab": {
          "base_uri": "https://localhost:8080/",
          "height": 983
        }
      },
      "source": [
        "!pip install 'kashgari>=2.0.0'\t"
      ],
      "execution_count": 1,
      "outputs": [
        {
          "output_type": "stream",
          "text": [
            "Requirement already satisfied: kashgari>=2.0.0 in /usr/local/lib/python3.6/dist-packages (2.0.0)\n",
            "Requirement already satisfied: pandas>=1.0.1 in /usr/local/lib/python3.6/dist-packages (from kashgari>=2.0.0) (1.1.2)\n",
            "Requirement already satisfied: scikit-learn>=0.21.1 in /usr/local/lib/python3.6/dist-packages (from kashgari>=2.0.0) (0.22.2.post1)\n",
            "Requirement already satisfied: bert4keras>=0.7.9 in /usr/local/lib/python3.6/dist-packages (from kashgari>=2.0.0) (0.8.8)\n",
            "Requirement already satisfied: numpy>=1.18.1 in /usr/local/lib/python3.6/dist-packages (from kashgari>=2.0.0) (1.18.5)\n",
            "Requirement already satisfied: tensorflow-addons in /usr/local/lib/python3.6/dist-packages (from kashgari>=2.0.0) (0.8.3)\n",
            "Requirement already satisfied: tensorflow>=2.1.0 in /usr/local/lib/python3.6/dist-packages (from kashgari>=2.0.0) (2.3.0)\n",
            "Requirement already satisfied: tqdm in /usr/local/lib/python3.6/dist-packages (from kashgari>=2.0.0) (4.41.1)\n",
            "Requirement already satisfied: gensim>=3.8.1 in /usr/local/lib/python3.6/dist-packages (from kashgari>=2.0.0) (3.8.3)\n",
            "Requirement already satisfied: pytz>=2017.2 in /usr/local/lib/python3.6/dist-packages (from pandas>=1.0.1->kashgari>=2.0.0) (2018.9)\n",
            "Requirement already satisfied: python-dateutil>=2.7.3 in /usr/local/lib/python3.6/dist-packages (from pandas>=1.0.1->kashgari>=2.0.0) (2.8.1)\n",
            "Requirement already satisfied: scipy>=0.17.0 in /usr/local/lib/python3.6/dist-packages (from scikit-learn>=0.21.1->kashgari>=2.0.0) (1.4.1)\n",
            "Requirement already satisfied: joblib>=0.11 in /usr/local/lib/python3.6/dist-packages (from scikit-learn>=0.21.1->kashgari>=2.0.0) (0.16.0)\n",
            "Requirement already satisfied: keras<=2.3.1 in /usr/local/lib/python3.6/dist-packages (from bert4keras>=0.7.9->kashgari>=2.0.0) (2.3.1)\n",
            "Requirement already satisfied: typeguard in /usr/local/lib/python3.6/dist-packages (from tensorflow-addons->kashgari>=2.0.0) (2.7.1)\n",
            "Requirement already satisfied: astunparse==1.6.3 in /usr/local/lib/python3.6/dist-packages (from tensorflow>=2.1.0->kashgari>=2.0.0) (1.6.3)\n",
            "Requirement already satisfied: gast==0.3.3 in /usr/local/lib/python3.6/dist-packages (from tensorflow>=2.1.0->kashgari>=2.0.0) (0.3.3)\n",
            "Requirement already satisfied: protobuf>=3.9.2 in /usr/local/lib/python3.6/dist-packages (from tensorflow>=2.1.0->kashgari>=2.0.0) (3.12.4)\n",
            "Requirement already satisfied: keras-preprocessing<1.2,>=1.1.1 in /usr/local/lib/python3.6/dist-packages (from tensorflow>=2.1.0->kashgari>=2.0.0) (1.1.2)\n",
            "Requirement already satisfied: wrapt>=1.11.1 in /usr/local/lib/python3.6/dist-packages (from tensorflow>=2.1.0->kashgari>=2.0.0) (1.12.1)\n",
            "Requirement already satisfied: wheel>=0.26 in /usr/local/lib/python3.6/dist-packages (from tensorflow>=2.1.0->kashgari>=2.0.0) (0.35.1)\n",
            "Requirement already satisfied: h5py<2.11.0,>=2.10.0 in /usr/local/lib/python3.6/dist-packages (from tensorflow>=2.1.0->kashgari>=2.0.0) (2.10.0)\n",
            "Requirement already satisfied: absl-py>=0.7.0 in /usr/local/lib/python3.6/dist-packages (from tensorflow>=2.1.0->kashgari>=2.0.0) (0.10.0)\n",
            "Requirement already satisfied: termcolor>=1.1.0 in /usr/local/lib/python3.6/dist-packages (from tensorflow>=2.1.0->kashgari>=2.0.0) (1.1.0)\n",
            "Requirement already satisfied: opt-einsum>=2.3.2 in /usr/local/lib/python3.6/dist-packages (from tensorflow>=2.1.0->kashgari>=2.0.0) (3.3.0)\n",
            "Requirement already satisfied: tensorboard<3,>=2.3.0 in /usr/local/lib/python3.6/dist-packages (from tensorflow>=2.1.0->kashgari>=2.0.0) (2.3.0)\n",
            "Requirement already satisfied: tensorflow-estimator<2.4.0,>=2.3.0 in /usr/local/lib/python3.6/dist-packages (from tensorflow>=2.1.0->kashgari>=2.0.0) (2.3.0)\n",
            "Requirement already satisfied: google-pasta>=0.1.8 in /usr/local/lib/python3.6/dist-packages (from tensorflow>=2.1.0->kashgari>=2.0.0) (0.2.0)\n",
            "Requirement already satisfied: six>=1.12.0 in /usr/local/lib/python3.6/dist-packages (from tensorflow>=2.1.0->kashgari>=2.0.0) (1.15.0)\n",
            "Requirement already satisfied: grpcio>=1.8.6 in /usr/local/lib/python3.6/dist-packages (from tensorflow>=2.1.0->kashgari>=2.0.0) (1.32.0)\n",
            "Requirement already satisfied: smart-open>=1.8.1 in /usr/local/lib/python3.6/dist-packages (from gensim>=3.8.1->kashgari>=2.0.0) (2.2.0)\n",
            "Requirement already satisfied: pyyaml in /usr/local/lib/python3.6/dist-packages (from keras<=2.3.1->bert4keras>=0.7.9->kashgari>=2.0.0) (3.13)\n",
            "Requirement already satisfied: keras-applications>=1.0.6 in /usr/local/lib/python3.6/dist-packages (from keras<=2.3.1->bert4keras>=0.7.9->kashgari>=2.0.0) (1.0.8)\n",
            "Requirement already satisfied: setuptools in /usr/local/lib/python3.6/dist-packages (from protobuf>=3.9.2->tensorflow>=2.1.0->kashgari>=2.0.0) (50.3.0)\n",
            "Requirement already satisfied: markdown>=2.6.8 in /usr/local/lib/python3.6/dist-packages (from tensorboard<3,>=2.3.0->tensorflow>=2.1.0->kashgari>=2.0.0) (3.2.2)\n",
            "Requirement already satisfied: requests<3,>=2.21.0 in /usr/local/lib/python3.6/dist-packages (from tensorboard<3,>=2.3.0->tensorflow>=2.1.0->kashgari>=2.0.0) (2.23.0)\n",
            "Requirement already satisfied: google-auth-oauthlib<0.5,>=0.4.1 in /usr/local/lib/python3.6/dist-packages (from tensorboard<3,>=2.3.0->tensorflow>=2.1.0->kashgari>=2.0.0) (0.4.1)\n",
            "Requirement already satisfied: werkzeug>=0.11.15 in /usr/local/lib/python3.6/dist-packages (from tensorboard<3,>=2.3.0->tensorflow>=2.1.0->kashgari>=2.0.0) (1.0.1)\n",
            "Requirement already satisfied: google-auth<2,>=1.6.3 in /usr/local/lib/python3.6/dist-packages (from tensorboard<3,>=2.3.0->tensorflow>=2.1.0->kashgari>=2.0.0) (1.17.2)\n",
            "Requirement already satisfied: tensorboard-plugin-wit>=1.6.0 in /usr/local/lib/python3.6/dist-packages (from tensorboard<3,>=2.3.0->tensorflow>=2.1.0->kashgari>=2.0.0) (1.7.0)\n",
            "Requirement already satisfied: importlib-metadata; python_version < \"3.8\" in /usr/local/lib/python3.6/dist-packages (from markdown>=2.6.8->tensorboard<3,>=2.3.0->tensorflow>=2.1.0->kashgari>=2.0.0) (2.0.0)\n",
            "Requirement already satisfied: urllib3!=1.25.0,!=1.25.1,<1.26,>=1.21.1 in /usr/local/lib/python3.6/dist-packages (from requests<3,>=2.21.0->tensorboard<3,>=2.3.0->tensorflow>=2.1.0->kashgari>=2.0.0) (1.24.3)\n",
            "Requirement already satisfied: idna<3,>=2.5 in /usr/local/lib/python3.6/dist-packages (from requests<3,>=2.21.0->tensorboard<3,>=2.3.0->tensorflow>=2.1.0->kashgari>=2.0.0) (2.10)\n",
            "Requirement already satisfied: chardet<4,>=3.0.2 in /usr/local/lib/python3.6/dist-packages (from requests<3,>=2.21.0->tensorboard<3,>=2.3.0->tensorflow>=2.1.0->kashgari>=2.0.0) (3.0.4)\n",
            "Requirement already satisfied: certifi>=2017.4.17 in /usr/local/lib/python3.6/dist-packages (from requests<3,>=2.21.0->tensorboard<3,>=2.3.0->tensorflow>=2.1.0->kashgari>=2.0.0) (2020.6.20)\n",
            "Requirement already satisfied: requests-oauthlib>=0.7.0 in /usr/local/lib/python3.6/dist-packages (from google-auth-oauthlib<0.5,>=0.4.1->tensorboard<3,>=2.3.0->tensorflow>=2.1.0->kashgari>=2.0.0) (1.3.0)\n",
            "Requirement already satisfied: pyasn1-modules>=0.2.1 in /usr/local/lib/python3.6/dist-packages (from google-auth<2,>=1.6.3->tensorboard<3,>=2.3.0->tensorflow>=2.1.0->kashgari>=2.0.0) (0.2.8)\n",
            "Requirement already satisfied: cachetools<5.0,>=2.0.0 in /usr/local/lib/python3.6/dist-packages (from google-auth<2,>=1.6.3->tensorboard<3,>=2.3.0->tensorflow>=2.1.0->kashgari>=2.0.0) (4.1.1)\n",
            "Requirement already satisfied: rsa<5,>=3.1.4; python_version >= \"3\" in /usr/local/lib/python3.6/dist-packages (from google-auth<2,>=1.6.3->tensorboard<3,>=2.3.0->tensorflow>=2.1.0->kashgari>=2.0.0) (4.6)\n",
            "Requirement already satisfied: zipp>=0.5 in /usr/local/lib/python3.6/dist-packages (from importlib-metadata; python_version < \"3.8\"->markdown>=2.6.8->tensorboard<3,>=2.3.0->tensorflow>=2.1.0->kashgari>=2.0.0) (3.2.0)\n",
            "Requirement already satisfied: oauthlib>=3.0.0 in /usr/local/lib/python3.6/dist-packages (from requests-oauthlib>=0.7.0->google-auth-oauthlib<0.5,>=0.4.1->tensorboard<3,>=2.3.0->tensorflow>=2.1.0->kashgari>=2.0.0) (3.1.0)\n",
            "Requirement already satisfied: pyasn1<0.5.0,>=0.4.6 in /usr/local/lib/python3.6/dist-packages (from pyasn1-modules>=0.2.1->google-auth<2,>=1.6.3->tensorboard<3,>=2.3.0->tensorflow>=2.1.0->kashgari>=2.0.0) (0.4.8)\n"
          ],
          "name": "stdout"
        }
      ]
    },
    {
      "cell_type": "code",
      "metadata": {
        "id": "ypzt10uwf-PA"
      },
      "source": [
        "import logging\n",
        "from kashgari.embeddings import BertEmbedding\n",
        "from kashgari.tasks.classification import BiGRU_Model\n",
        "from kashgari.tasks.classification import CNN_LSTM_Model\n"
      ],
      "execution_count": 238,
      "outputs": []
    },
    {
      "cell_type": "code",
      "metadata": {
        "id": "lSVnaPskgF9U"
      },
      "source": [
        "logging.basicConfig(level='DEBUG')\n"
      ],
      "execution_count": 239,
      "outputs": []
    },
    {
      "cell_type": "code",
      "metadata": {
        "id": "EjsemvPngPWn",
        "outputId": "1882f9d5-f38f-445b-bc18-7d7280f15f96",
        "colab": {
          "base_uri": "https://localhost:8080/",
          "height": 217
        }
      },
      "source": [
        "!wget https://storage.googleapis.com/bert_models/2018_10_18/uncased_L-12_H-768_A-12.zip"
      ],
      "execution_count": 4,
      "outputs": [
        {
          "output_type": "stream",
          "text": [
            "--2020-10-10 13:33:54--  https://storage.googleapis.com/bert_models/2018_10_18/uncased_L-12_H-768_A-12.zip\n",
            "Resolving storage.googleapis.com (storage.googleapis.com)... 74.125.20.128, 74.125.142.128, 74.125.195.128, ...\n",
            "Connecting to storage.googleapis.com (storage.googleapis.com)|74.125.20.128|:443... connected.\n",
            "HTTP request sent, awaiting response... 200 OK\n",
            "Length: 407727028 (389M) [application/zip]\n",
            "Saving to: ‘uncased_L-12_H-768_A-12.zip’\n",
            "\n",
            "uncased_L-12_H-768_ 100%[===================>] 388.84M   183MB/s    in 2.1s    \n",
            "\n",
            "2020-10-10 13:33:57 (183 MB/s) - ‘uncased_L-12_H-768_A-12.zip’ saved [407727028/407727028]\n",
            "\n"
          ],
          "name": "stdout"
        }
      ]
    },
    {
      "cell_type": "code",
      "metadata": {
        "id": "1NeVZMiSgSBB",
        "outputId": "f27adaa8-b9ca-4e13-d27e-4b3cb209ce85",
        "colab": {
          "base_uri": "https://localhost:8080/",
          "height": 145
        }
      },
      "source": [
        "!unzip '/content/uncased_L-12_H-768_A-12.zip'"
      ],
      "execution_count": 5,
      "outputs": [
        {
          "output_type": "stream",
          "text": [
            "Archive:  /content/uncased_L-12_H-768_A-12.zip\n",
            "   creating: uncased_L-12_H-768_A-12/\n",
            "  inflating: uncased_L-12_H-768_A-12/bert_model.ckpt.meta  \n",
            "  inflating: uncased_L-12_H-768_A-12/bert_model.ckpt.data-00000-of-00001  \n",
            "  inflating: uncased_L-12_H-768_A-12/vocab.txt  \n",
            "  inflating: uncased_L-12_H-768_A-12/bert_model.ckpt.index  \n",
            "  inflating: uncased_L-12_H-768_A-12/bert_config.json  \n"
          ],
          "name": "stdout"
        }
      ]
    },
    {
      "cell_type": "code",
      "metadata": {
        "id": "TVabElOcgTp4",
        "outputId": "9626762b-c1ca-4e59-fb69-e49e16d106b3",
        "colab": {
          "base_uri": "https://localhost:8080/",
          "height": 165
        }
      },
      "source": [
        "bert_embed = BertEmbedding('/content/uncased_L-12_H-768_A-12')"
      ],
      "execution_count": 240,
      "outputs": [
        {
          "output_type": "stream",
          "text": [
            "2020-10-10 16:40:50,816 [DEBUG] kashgari - ------------------------------------------------\n",
            "2020-10-10 16:40:50,817 [DEBUG] kashgari - Loaded transformer model's vocab\n",
            "2020-10-10 16:40:50,818 [DEBUG] kashgari - config_path       : /content/uncased_L-12_H-768_A-12/bert_config.json\n",
            "2020-10-10 16:40:50,818 [DEBUG] kashgari - vocab_path      : /content/uncased_L-12_H-768_A-12/vocab.txt\n",
            "2020-10-10 16:40:50,819 [DEBUG] kashgari - checkpoint_path : /content/uncased_L-12_H-768_A-12/bert_model.ckpt\n",
            "2020-10-10 16:40:50,820 [DEBUG] kashgari - Top 50 words    : ['[PAD]', '[unused0]', '[unused1]', '[unused2]', '[unused3]', '[unused4]', '[unused5]', '[unused6]', '[unused7]', '[unused8]', '[unused9]', '[unused10]', '[unused11]', '[unused12]', '[unused13]', '[unused14]', '[unused15]', '[unused16]', '[unused17]', '[unused18]', '[unused19]', '[unused20]', '[unused21]', '[unused22]', '[unused23]', '[unused24]', '[unused25]', '[unused26]', '[unused27]', '[unused28]', '[unused29]', '[unused30]', '[unused31]', '[unused32]', '[unused33]', '[unused34]', '[unused35]', '[unused36]', '[unused37]', '[unused38]', '[unused39]', '[unused40]', '[unused41]', '[unused42]', '[unused43]', '[unused44]', '[unused45]', '[unused46]', '[unused47]', '[unused48]']\n",
            "2020-10-10 16:40:50,820 [DEBUG] kashgari - ------------------------------------------------\n"
          ],
          "name": "stderr"
        }
      ]
    },
    {
      "cell_type": "code",
      "metadata": {
        "id": "EV_emcz0gVvg"
      },
      "source": [
        "model = CNN_LSTM_Model(bert_embed)"
      ],
      "execution_count": 252,
      "outputs": []
    },
    {
      "cell_type": "code",
      "metadata": {
        "id": "5suK-eRgaH2s"
      },
      "source": [
        ";"
      ],
      "execution_count": null,
      "outputs": []
    },
    {
      "cell_type": "code",
      "metadata": {
        "id": "SMr2gDSMgi2x",
        "outputId": "a07fa219-bd95-4622-e9c4-bb26469134cf",
        "colab": {
          "base_uri": "https://localhost:8080/",
          "height": 189
        }
      },
      "source": [
        "toknize_train=all_dataframes_train['text'].tolist()\n",
        "toknize_train=[i.split(' ') for i in toknize_train]"
      ],
      "execution_count": 6,
      "outputs": [
        {
          "output_type": "error",
          "ename": "NameError",
          "evalue": "ignored",
          "traceback": [
            "\u001b[0;31m---------------------------------------------------------------------------\u001b[0m",
            "\u001b[0;31mNameError\u001b[0m                                 Traceback (most recent call last)",
            "\u001b[0;32m<ipython-input-6-b06369afb0f1>\u001b[0m in \u001b[0;36m<module>\u001b[0;34m()\u001b[0m\n\u001b[0;32m----> 1\u001b[0;31m \u001b[0mtoknize_train\u001b[0m\u001b[0;34m=\u001b[0m\u001b[0mall_dataframes_train\u001b[0m\u001b[0;34m[\u001b[0m\u001b[0;34m'text'\u001b[0m\u001b[0;34m]\u001b[0m\u001b[0;34m.\u001b[0m\u001b[0mtolist\u001b[0m\u001b[0;34m(\u001b[0m\u001b[0;34m)\u001b[0m\u001b[0;34m\u001b[0m\u001b[0;34m\u001b[0m\u001b[0m\n\u001b[0m\u001b[1;32m      2\u001b[0m \u001b[0mtoknize_train\u001b[0m\u001b[0;34m=\u001b[0m\u001b[0;34m[\u001b[0m\u001b[0mi\u001b[0m\u001b[0;34m.\u001b[0m\u001b[0msplit\u001b[0m\u001b[0;34m(\u001b[0m\u001b[0;34m' '\u001b[0m\u001b[0;34m)\u001b[0m \u001b[0;32mfor\u001b[0m \u001b[0mi\u001b[0m \u001b[0;32min\u001b[0m \u001b[0mtoknize_train\u001b[0m\u001b[0;34m]\u001b[0m\u001b[0;34m\u001b[0m\u001b[0;34m\u001b[0m\u001b[0m\n",
            "\u001b[0;31mNameError\u001b[0m: name 'all_dataframes_train' is not defined"
          ]
        }
      ]
    },
    {
      "cell_type": "code",
      "metadata": {
        "id": "_XgK9Bi4gju6",
        "outputId": "7d9df6ec-4c74-4675-aab2-c8d1dc6f0621",
        "colab": {
          "base_uri": "https://localhost:8080/",
          "height": 189
        }
      },
      "source": [
        "modifed_list_labels=all_dataframes_train['title'][:11096].tolist()\n",
        "modifed_list_labels=[[i] for i in modifed_list_labels]\n"
      ],
      "execution_count": 7,
      "outputs": [
        {
          "output_type": "error",
          "ename": "NameError",
          "evalue": "ignored",
          "traceback": [
            "\u001b[0;31m---------------------------------------------------------------------------\u001b[0m",
            "\u001b[0;31mNameError\u001b[0m                                 Traceback (most recent call last)",
            "\u001b[0;32m<ipython-input-7-4ce75dea4437>\u001b[0m in \u001b[0;36m<module>\u001b[0;34m()\u001b[0m\n\u001b[0;32m----> 1\u001b[0;31m \u001b[0mmodifed_list_labels\u001b[0m\u001b[0;34m=\u001b[0m\u001b[0mall_dataframes_train\u001b[0m\u001b[0;34m[\u001b[0m\u001b[0;34m'title'\u001b[0m\u001b[0;34m]\u001b[0m\u001b[0;34m[\u001b[0m\u001b[0;34m:\u001b[0m\u001b[0;36m11096\u001b[0m\u001b[0;34m]\u001b[0m\u001b[0;34m.\u001b[0m\u001b[0mtolist\u001b[0m\u001b[0;34m(\u001b[0m\u001b[0;34m)\u001b[0m\u001b[0;34m\u001b[0m\u001b[0;34m\u001b[0m\u001b[0m\n\u001b[0m\u001b[1;32m      2\u001b[0m \u001b[0mmodifed_list_labels\u001b[0m\u001b[0;34m=\u001b[0m\u001b[0;34m[\u001b[0m\u001b[0;34m[\u001b[0m\u001b[0mi\u001b[0m\u001b[0;34m]\u001b[0m \u001b[0;32mfor\u001b[0m \u001b[0mi\u001b[0m \u001b[0;32min\u001b[0m \u001b[0mmodifed_list_labels\u001b[0m\u001b[0;34m]\u001b[0m\u001b[0;34m\u001b[0m\u001b[0;34m\u001b[0m\u001b[0m\n",
            "\u001b[0;31mNameError\u001b[0m: name 'all_dataframes_train' is not defined"
          ]
        }
      ]
    },
    {
      "cell_type": "code",
      "metadata": {
        "id": "Rr7s-vOGoKtg"
      },
      "source": [
        "all_dataframes_train['title'][:11096]=modifed_list_labels\n",
        "train_labels_=all_dataframes_train['title'].tolist()\n"
      ],
      "execution_count": null,
      "outputs": []
    },
    {
      "cell_type": "code",
      "metadata": {
        "id": "ttWV252whBCw"
      },
      "source": [
        "toknize_test=all_dataframes_test['text'].tolist()\n",
        "toknize_test=[i.split(' ') for i in toknize_test]\n"
      ],
      "execution_count": null,
      "outputs": []
    },
    {
      "cell_type": "code",
      "metadata": {
        "id": "QFKoNncbibH0"
      },
      "source": [
        "modifed_list_labels_test=all_dataframes_test['title'][:7370].tolist()\n",
        "modifed_list_labels_test=[[i] for i in modifed_list_labels_test]\n",
        "all_dataframes_test['title'][:7370]=modifed_list_labels_test\n",
        "test_labels_=all_dataframes_test['title'].tolist()\n"
      ],
      "execution_count": null,
      "outputs": []
    },
    {
      "cell_type": "markdown",
      "metadata": {
        "id": "80S1L3sHRn5M"
      },
      "source": [
        "##Wikipedia Dataset"
      ]
    },
    {
      "cell_type": "code",
      "metadata": {
        "id": "QpIbRjVGRncJ",
        "outputId": "7dba450a-a80f-48d8-a92e-e1cb77ae524e",
        "colab": {
          "base_uri": "https://localhost:8080/",
          "height": 237
        }
      },
      "source": [
        "!wget 'https://www.kaggleusercontent.com/kf/44384181/eyJhbGciOiJkaXIiLCJlbmMiOiJBMTI4Q0JDLUhTMjU2In0..QOzonC0Hx7LMCzRHKFu4tg.6Fm8mESdwaUzIItZorn3YFcBAYyU1F0ha5fRf8EAYOtJjjuadBbYFyfs1JuFWer0WyLY4d-7Srx4XUoTXkTGbAgGgdHdS4CAjMm2JdGGXaVcvP8vIv6qf64m55AXjmGDtexR9UMQN84E5oU4RyZLQjdJdUpCe47WlIAKmPEspbfit27g-qkPx-hAFcYB5peDveSUhB8n5Pv9Rekgff6lseRsNID7o2FLEpIM__bZVpuGMSgrJhHTcXg_sKHJSkR1A0h2sxonBvnc56uWted_JGfFGrI238BtuHpq8CwCrE1dJzemcYIeiUtkXgoYvWRpSwhLiss1Lt0iR8-4wt9vHYM5n3Xvf0KMFBtY182hIxgEYlDhJ7rHDoyFUS_tIC9AGk69jay_xRK59jx74ilkLabqXmNg6wqC9Iuhi_h_T-5UnYt_RQnqWTvc9oZZ-nkNx9YOwTd0bvibIHyOMGlTxGoZSKovhoBaUEiLOIOjt-0wuRDgpbvDwf1FRJqBpaw1oEVqDE1NQnerTda2TPwuZRvi1YHngOVxbGQwzbc1pOfNQrJxaw35CXLkzjZCaM2IgYj38Os-gx3EHmVNgaWzLdlXwyc7cYHnUCxkJpeJVGJw1ki5v0ZbitXeWObLEZmi.rr539V7R_WKziBL-XMIt2A/all_dataset_fin.csv'"
      ],
      "execution_count": 8,
      "outputs": [
        {
          "output_type": "stream",
          "text": [
            "--2020-10-10 13:34:08--  https://www.kaggleusercontent.com/kf/44384181/eyJhbGciOiJkaXIiLCJlbmMiOiJBMTI4Q0JDLUhTMjU2In0..QOzonC0Hx7LMCzRHKFu4tg.6Fm8mESdwaUzIItZorn3YFcBAYyU1F0ha5fRf8EAYOtJjjuadBbYFyfs1JuFWer0WyLY4d-7Srx4XUoTXkTGbAgGgdHdS4CAjMm2JdGGXaVcvP8vIv6qf64m55AXjmGDtexR9UMQN84E5oU4RyZLQjdJdUpCe47WlIAKmPEspbfit27g-qkPx-hAFcYB5peDveSUhB8n5Pv9Rekgff6lseRsNID7o2FLEpIM__bZVpuGMSgrJhHTcXg_sKHJSkR1A0h2sxonBvnc56uWted_JGfFGrI238BtuHpq8CwCrE1dJzemcYIeiUtkXgoYvWRpSwhLiss1Lt0iR8-4wt9vHYM5n3Xvf0KMFBtY182hIxgEYlDhJ7rHDoyFUS_tIC9AGk69jay_xRK59jx74ilkLabqXmNg6wqC9Iuhi_h_T-5UnYt_RQnqWTvc9oZZ-nkNx9YOwTd0bvibIHyOMGlTxGoZSKovhoBaUEiLOIOjt-0wuRDgpbvDwf1FRJqBpaw1oEVqDE1NQnerTda2TPwuZRvi1YHngOVxbGQwzbc1pOfNQrJxaw35CXLkzjZCaM2IgYj38Os-gx3EHmVNgaWzLdlXwyc7cYHnUCxkJpeJVGJw1ki5v0ZbitXeWObLEZmi.rr539V7R_WKziBL-XMIt2A/all_dataset_fin.csv\n",
            "Resolving www.kaggleusercontent.com (www.kaggleusercontent.com)... 35.190.26.106\n",
            "Connecting to www.kaggleusercontent.com (www.kaggleusercontent.com)|35.190.26.106|:443... connected.\n",
            "HTTP request sent, awaiting response... 200 OK\n",
            "Length: 6841778 (6.5M) [application/octet-stream]\n",
            "Saving to: ‘all_dataset_fin.csv’\n",
            "\n",
            "all_dataset_fin.csv 100%[===================>]   6.52M  11.8MB/s    in 0.6s    \n",
            "\n",
            "2020-10-10 13:34:09 (11.8 MB/s) - ‘all_dataset_fin.csv’ saved [6841778/6841778]\n",
            "\n"
          ],
          "name": "stdout"
        }
      ]
    },
    {
      "cell_type": "code",
      "metadata": {
        "id": "gnZVPcjkR0GU",
        "outputId": "7a893a9a-5508-4c0a-d320-0ec974053651",
        "colab": {
          "base_uri": "https://localhost:8080/",
          "height": 72
        }
      },
      "source": [
        "import pandas as pd\n",
        "import os\n",
        "import numpy as np\n",
        "from sklearn.model_selection import train_test_split\n",
        "from nltk.corpus import stopwords \n",
        "from nltk.tokenize import word_tokenize \n",
        "import nltk\n",
        "nltk.download('stopwords')"
      ],
      "execution_count": 8,
      "outputs": [
        {
          "output_type": "stream",
          "text": [
            "[nltk_data] Downloading package stopwords to /root/nltk_data...\n",
            "[nltk_data]   Package stopwords is already up-to-date!\n"
          ],
          "name": "stdout"
        },
        {
          "output_type": "execute_result",
          "data": {
            "text/plain": [
              "True"
            ]
          },
          "metadata": {
            "tags": []
          },
          "execution_count": 8
        }
      ]
    },
    {
      "cell_type": "code",
      "metadata": {
        "id": "yaNw3Js1R56u"
      },
      "source": [
        "df=pd.read_csv(\"/content/all_dataset_fin.csv\")"
      ],
      "execution_count": 9,
      "outputs": []
    },
    {
      "cell_type": "code",
      "metadata": {
        "id": "EMScuvFzPuHu",
        "outputId": "88effd97-65e0-4a08-a880-750f2e38faa5",
        "colab": {
          "base_uri": "https://localhost:8080/",
          "height": 558
        }
      },
      "source": [
        "df[df['title']=='Miscellaneous']"
      ],
      "execution_count": 137,
      "outputs": [
        {
          "output_type": "execute_result",
          "data": {
            "text/html": [
              "<div>\n",
              "<style scoped>\n",
              "    .dataframe tbody tr th:only-of-type {\n",
              "        vertical-align: middle;\n",
              "    }\n",
              "\n",
              "    .dataframe tbody tr th {\n",
              "        vertical-align: top;\n",
              "    }\n",
              "\n",
              "    .dataframe thead th {\n",
              "        text-align: right;\n",
              "    }\n",
              "</style>\n",
              "<table border=\"1\" class=\"dataframe\">\n",
              "  <thead>\n",
              "    <tr style=\"text-align: right;\">\n",
              "      <th></th>\n",
              "      <th>Unnamed: 0</th>\n",
              "      <th>title</th>\n",
              "      <th>text</th>\n",
              "    </tr>\n",
              "  </thead>\n",
              "  <tbody>\n",
              "    <tr>\n",
              "      <th>113</th>\n",
              "      <td>113</td>\n",
              "      <td>Miscellaneous</td>\n",
              "      <td>['a', 'government', 'is', 'the', 'system', 'to...</td>\n",
              "    </tr>\n",
              "    <tr>\n",
              "      <th>114</th>\n",
              "      <td>114</td>\n",
              "      <td>Miscellaneous</td>\n",
              "      <td>['fighters', 'and', 'a', 'tanker', 'aircraft',...</td>\n",
              "    </tr>\n",
              "    <tr>\n",
              "      <th>115</th>\n",
              "      <td>115</td>\n",
              "      <td>Miscellaneous</td>\n",
              "      <td>['allies', 'day', 'may', 'national', 'gallery'...</td>\n",
              "    </tr>\n",
              "    <tr>\n",
              "      <th>116</th>\n",
              "      <td>116</td>\n",
              "      <td>Miscellaneous</td>\n",
              "      <td>['the', 'word', 'authority', 'derived', 'from'...</td>\n",
              "    </tr>\n",
              "    <tr>\n",
              "      <th>117</th>\n",
              "      <td>117</td>\n",
              "      <td>Miscellaneous</td>\n",
              "      <td>['bureau', 'may', 'refer', 'to', 'public', 'ad...</td>\n",
              "    </tr>\n",
              "    <tr>\n",
              "      <th>118</th>\n",
              "      <td>118</td>\n",
              "      <td>Miscellaneous</td>\n",
              "      <td>['a', 'council', 'is', 'a', 'group', 'of', 'pe...</td>\n",
              "    </tr>\n",
              "    <tr>\n",
              "      <th>119</th>\n",
              "      <td>119</td>\n",
              "      <td>Miscellaneous</td>\n",
              "      <td>['the', 'sun', 'is', 'the', 'source', 'of', 'e...</td>\n",
              "    </tr>\n",
              "    <tr>\n",
              "      <th>120</th>\n",
              "      <td>120</td>\n",
              "      <td>Miscellaneous</td>\n",
              "      <td>['environment', 'may', 'refer', 'to', 'environ...</td>\n",
              "    </tr>\n",
              "    <tr>\n",
              "      <th>121</th>\n",
              "      <td>121</td>\n",
              "      <td>Miscellaneous</td>\n",
              "      <td>['the', 'food', 'and', 'drug', 'administration...</td>\n",
              "    </tr>\n",
              "    <tr>\n",
              "      <th>122</th>\n",
              "      <td>122</td>\n",
              "      <td>Miscellaneous</td>\n",
              "      <td>['an', 'institute', 'is', 'an', 'organisationa...</td>\n",
              "    </tr>\n",
              "    <tr>\n",
              "      <th>123</th>\n",
              "      <td>123</td>\n",
              "      <td>Miscellaneous</td>\n",
              "      <td>['lady', 'justice', 'a', 'goddess', 'symbolisi...</td>\n",
              "    </tr>\n",
              "    <tr>\n",
              "      <th>124</th>\n",
              "      <td>124</td>\n",
              "      <td>Miscellaneous</td>\n",
              "      <td>['legislation', 'or', 'statutory', 'law', 'is'...</td>\n",
              "    </tr>\n",
              "    <tr>\n",
              "      <th>125</th>\n",
              "      <td>125</td>\n",
              "      <td>Miscellaneous</td>\n",
              "      <td>['countries', 'by', 'number', 'of', 'active', ...</td>\n",
              "    </tr>\n",
              "    <tr>\n",
              "      <th>126</th>\n",
              "      <td>126</td>\n",
              "      <td>Miscellaneous</td>\n",
              "      <td>['the', 'national', 'aeronautics', 'and', 'spa...</td>\n",
              "    </tr>\n",
              "    <tr>\n",
              "      <th>127</th>\n",
              "      <td>127</td>\n",
              "      <td>Miscellaneous</td>\n",
              "      <td>['the', 'spanish', 'armada', 'fighting', 'the'...</td>\n",
              "    </tr>\n",
              "    <tr>\n",
              "      <th>128</th>\n",
              "      <td>128</td>\n",
              "      <td>Miscellaneous</td>\n",
              "      <td>['german', 'state', 'police', 'officer', 'in',...</td>\n",
              "    </tr>\n",
              "    <tr>\n",
              "      <th>129</th>\n",
              "      <td>129</td>\n",
              "      <td>Miscellaneous</td>\n",
              "      <td>['politics', 'from', 'greek', 'politik', 'poli...</td>\n",
              "    </tr>\n",
              "  </tbody>\n",
              "</table>\n",
              "</div>"
            ],
            "text/plain": [
              "     Unnamed: 0  ...                                               text\n",
              "113         113  ...  ['a', 'government', 'is', 'the', 'system', 'to...\n",
              "114         114  ...  ['fighters', 'and', 'a', 'tanker', 'aircraft',...\n",
              "115         115  ...  ['allies', 'day', 'may', 'national', 'gallery'...\n",
              "116         116  ...  ['the', 'word', 'authority', 'derived', 'from'...\n",
              "117         117  ...  ['bureau', 'may', 'refer', 'to', 'public', 'ad...\n",
              "118         118  ...  ['a', 'council', 'is', 'a', 'group', 'of', 'pe...\n",
              "119         119  ...  ['the', 'sun', 'is', 'the', 'source', 'of', 'e...\n",
              "120         120  ...  ['environment', 'may', 'refer', 'to', 'environ...\n",
              "121         121  ...  ['the', 'food', 'and', 'drug', 'administration...\n",
              "122         122  ...  ['an', 'institute', 'is', 'an', 'organisationa...\n",
              "123         123  ...  ['lady', 'justice', 'a', 'goddess', 'symbolisi...\n",
              "124         124  ...  ['legislation', 'or', 'statutory', 'law', 'is'...\n",
              "125         125  ...  ['countries', 'by', 'number', 'of', 'active', ...\n",
              "126         126  ...  ['the', 'national', 'aeronautics', 'and', 'spa...\n",
              "127         127  ...  ['the', 'spanish', 'armada', 'fighting', 'the'...\n",
              "128         128  ...  ['german', 'state', 'police', 'officer', 'in',...\n",
              "129         129  ...  ['politics', 'from', 'greek', 'politik', 'poli...\n",
              "\n",
              "[17 rows x 3 columns]"
            ]
          },
          "metadata": {
            "tags": []
          },
          "execution_count": 137
        }
      ]
    },
    {
      "cell_type": "code",
      "metadata": {
        "id": "iw3fehuj82SI",
        "outputId": "6cd7c9be-27c1-457c-97ff-28bad0ac004f",
        "colab": {
          "base_uri": "https://localhost:8080/",
          "height": 54
        }
      },
      "source": [
        "df['title'].unique()"
      ],
      "execution_count": 101,
      "outputs": [
        {
          "output_type": "execute_result",
          "data": {
            "text/plain": [
              "array(['Academic_Science', 'Business', 'Community', 'Computing',\n",
              "       'Governmental', 'Miscellaneous', 'Medical'], dtype=object)"
            ]
          },
          "metadata": {
            "tags": []
          },
          "execution_count": 101
        }
      ]
    },
    {
      "cell_type": "code",
      "metadata": {
        "id": "UwN88yEHyVzX"
      },
      "source": [
        "Academic_Science = df[df['title']=='Academic_Science']\n",
        "Business = df[df['title']=='Business']\n",
        "Community = df[df['title']=='Community']\n",
        "Computing = df[df['title']=='Computing']\n",
        "Governmental = df[df['title']=='Governmental']\n",
        "Miscellaneous = df[df['title']=='Miscellaneous']\n",
        "Medical = df[df['title']=='Medical']"
      ],
      "execution_count": 95,
      "outputs": []
    },
    {
      "cell_type": "code",
      "metadata": {
        "id": "1CQXJXcP5uLv"
      },
      "source": [
        "list_Academic_Science = list(Academic_Science['text'])\n",
        "list_Business = list(Business['text'])\n",
        "list_Community = list(Community['text'])\n",
        "list_Computing = list(Computing['text'])\n",
        "list_Governmental = list(Governmental['text'])\n",
        "list_Miscellaneous = list(Miscellaneous['text'])\n",
        "list_Medical = list(Medical['text'])"
      ],
      "execution_count": 96,
      "outputs": []
    },
    {
      "cell_type": "code",
      "metadata": {
        "id": "SJ-fgw_U5uI0"
      },
      "source": [
        "import ast\n",
        "list_Academic_Science=[ast.literal_eval(i) for i in list_Academic_Science]\n",
        "list_Business=[ast.literal_eval(i) for i in list_Business]\n",
        "list_Community=[ast.literal_eval(i) for i in list_Community]\n",
        "list_Computing=[ast.literal_eval(i) for i in list_Computing]\n",
        "list_Governmental=[ast.literal_eval(i) for i in list_Governmental]\n",
        "list_Miscellaneous=[ast.literal_eval(i) for i in list_Miscellaneous]\n",
        "list_Medical=[ast.literal_eval(i) for i in list_Medical]"
      ],
      "execution_count": 97,
      "outputs": []
    },
    {
      "cell_type": "code",
      "metadata": {
        "id": "41knx3Is5uFa"
      },
      "source": [
        "count = 0\n",
        "list_list_Aca=[]\n",
        "list_Aca= [] \n",
        "for w in list_Academic_Science:\n",
        "  for j in w:\n",
        "    list_Aca.append(j)\n",
        "    count = count + 1\n",
        "    if count == 40:\n",
        "      list_list_Aca.append(list_Aca)\n",
        "      count = 0\n",
        "      list_Aca = []\n",
        "\n",
        "\n",
        "count = 0\n",
        "list_list_bus=[]\n",
        "list_bus= [] \n",
        "for w in list_Business:\n",
        "  for j in w:\n",
        "    list_bus.append(j)\n",
        "    count = count + 1\n",
        "    if count == 40:\n",
        "      list_list_bus.append(list_bus)\n",
        "      count = 0\n",
        "      list_bus = []\n",
        "\n",
        "\n",
        "count = 0\n",
        "list_list_comm=[]\n",
        "list_comm= [] \n",
        "for w in list_Community:\n",
        "  for j in w:\n",
        "    list_comm.append(j)\n",
        "    count = count + 1\n",
        "    if count == 40:\n",
        "      list_list_comm.append(list_comm)\n",
        "      count = 0\n",
        "      list_comm = []\n",
        "\n",
        "\n",
        "count = 0\n",
        "list_list_comp=[]\n",
        "list_comp= [] \n",
        "for w in list_Computing:\n",
        "  for j in w:\n",
        "    list_comp.append(j)\n",
        "    count = count + 1\n",
        "    if count == 40:\n",
        "      list_list_comp.append(list_comp)\n",
        "      count = 0\n",
        "      list_comp = []\n",
        "\n",
        "count = 0\n",
        "list_list_cov=[]\n",
        "list_cov= [] \n",
        "for w in list_Governmental:\n",
        "  for j in w:\n",
        "    list_cov.append(j)\n",
        "    count = count + 1\n",
        "    if count == 40:\n",
        "      list_list_cov.append(list_cov)\n",
        "      count = 0\n",
        "      list_cov = []\n",
        "\n",
        "\n",
        "count = 0\n",
        "list_list_mis=[]\n",
        "list_mis= [] \n",
        "for w in list_Miscellaneous:\n",
        "  for j in w:\n",
        "    list_mis.append(j)\n",
        "    count = count + 1\n",
        "    if count == 40:\n",
        "      list_list_mis.append(list_mis)\n",
        "      count = 0\n",
        "      list_mis = []\n",
        "\n",
        "\n",
        "count = 0\n",
        "list_list_med=[]\n",
        "list_med= [] \n",
        "for w in list_Medical:\n",
        "  for j in w:\n",
        "    list_med.append(j)\n",
        "    count = count + 1\n",
        "    if count == 40:\n",
        "      list_list_med.append(list_med)\n",
        "      count = 0\n",
        "      list_med = []\n",
        "\n",
        "\n"
      ],
      "execution_count": 98,
      "outputs": []
    },
    {
      "cell_type": "code",
      "metadata": {
        "id": "hseEpXet80o8"
      },
      "source": [
        "df_aca = pd.DataFrame()\n",
        "df_aca['text'] = list_list_Aca\n",
        "df_aca['title'] = \"acadamic_science\"\n",
        "\n",
        "df_bus = pd.DataFrame()\n",
        "df_bus['text'] = list_list_bus\n",
        "df_bus['title'] = \"Business\"\n",
        "\n",
        "df_comm = pd.DataFrame()\n",
        "df_comm['text'] = list_list_comm\n",
        "df_comm['title'] = \"community\"\n",
        "\n",
        "df_comp = pd.DataFrame()\n",
        "df_comp['text'] = list_list_comp\n",
        "df_comp['title'] = \"computing\"\n",
        "\n",
        "df_gov = pd.DataFrame()\n",
        "df_gov['text'] = list_list_cov\n",
        "df_gov['title'] = \"govermnetal\"\n",
        "\n",
        "df_mis = pd.DataFrame()\n",
        "df_mis['text'] = list_Miscellaneous\n",
        "df_mis['title'] = \"Miscellaneous\"\n",
        "\n",
        "df_med = pd.DataFrame()\n",
        "df_med['text'] = list_list_med\n",
        "df_med['title'] = \"medical\""
      ],
      "execution_count": 105,
      "outputs": []
    },
    {
      "cell_type": "code",
      "metadata": {
        "id": "Ml-bOJYb80iV"
      },
      "source": [
        "df_all_cat = pd.concat([df_aca,df_bus,df_comm,df_comp,df_gov,df_mis,df_med],ignore_index = True)"
      ],
      "execution_count": 133,
      "outputs": []
    },
    {
      "cell_type": "code",
      "metadata": {
        "id": "s_olCcLFG8p3",
        "outputId": "eb393bab-d3d7-4307-c6e9-d9fbd03a794f",
        "colab": {
          "base_uri": "https://localhost:8080/",
          "height": 558
        }
      },
      "source": [
        "df_all_cat[df_all_cat['title']=='Miscellaneous']"
      ],
      "execution_count": 136,
      "outputs": [
        {
          "output_type": "execute_result",
          "data": {
            "text/html": [
              "<div>\n",
              "<style scoped>\n",
              "    .dataframe tbody tr th:only-of-type {\n",
              "        vertical-align: middle;\n",
              "    }\n",
              "\n",
              "    .dataframe tbody tr th {\n",
              "        vertical-align: top;\n",
              "    }\n",
              "\n",
              "    .dataframe thead th {\n",
              "        text-align: right;\n",
              "    }\n",
              "</style>\n",
              "<table border=\"1\" class=\"dataframe\">\n",
              "  <thead>\n",
              "    <tr style=\"text-align: right;\">\n",
              "      <th></th>\n",
              "      <th>text</th>\n",
              "      <th>title</th>\n",
              "    </tr>\n",
              "  </thead>\n",
              "  <tbody>\n",
              "    <tr>\n",
              "      <th>13422</th>\n",
              "      <td>[a, government, is, the, system, to, govern, a...</td>\n",
              "      <td>Miscellaneous</td>\n",
              "    </tr>\n",
              "    <tr>\n",
              "      <th>13423</th>\n",
              "      <td>[fighters, and, a, tanker, aircraft, of, the, ...</td>\n",
              "      <td>Miscellaneous</td>\n",
              "    </tr>\n",
              "    <tr>\n",
              "      <th>13424</th>\n",
              "      <td>[allies, day, may, national, gallery, of, art,...</td>\n",
              "      <td>Miscellaneous</td>\n",
              "    </tr>\n",
              "    <tr>\n",
              "      <th>13425</th>\n",
              "      <td>[the, word, authority, derived, from, the, lat...</td>\n",
              "      <td>Miscellaneous</td>\n",
              "    </tr>\n",
              "    <tr>\n",
              "      <th>13426</th>\n",
              "      <td>[bureau, may, refer, to, public, administratio...</td>\n",
              "      <td>Miscellaneous</td>\n",
              "    </tr>\n",
              "    <tr>\n",
              "      <th>13427</th>\n",
              "      <td>[a, council, is, a, group, of, people, who, co...</td>\n",
              "      <td>Miscellaneous</td>\n",
              "    </tr>\n",
              "    <tr>\n",
              "      <th>13428</th>\n",
              "      <td>[the, sun, is, the, source, of, energy, for, m...</td>\n",
              "      <td>Miscellaneous</td>\n",
              "    </tr>\n",
              "    <tr>\n",
              "      <th>13429</th>\n",
              "      <td>[environment, may, refer, to, environment, bio...</td>\n",
              "      <td>Miscellaneous</td>\n",
              "    </tr>\n",
              "    <tr>\n",
              "      <th>13430</th>\n",
              "      <td>[the, food, and, drug, administration, fda, or...</td>\n",
              "      <td>Miscellaneous</td>\n",
              "    </tr>\n",
              "    <tr>\n",
              "      <th>13431</th>\n",
              "      <td>[an, institute, is, an, organisational, body, ...</td>\n",
              "      <td>Miscellaneous</td>\n",
              "    </tr>\n",
              "    <tr>\n",
              "      <th>13432</th>\n",
              "      <td>[lady, justice, a, goddess, symbolising, justi...</td>\n",
              "      <td>Miscellaneous</td>\n",
              "    </tr>\n",
              "    <tr>\n",
              "      <th>13433</th>\n",
              "      <td>[legislation, or, statutory, law, is, law, whi...</td>\n",
              "      <td>Miscellaneous</td>\n",
              "    </tr>\n",
              "    <tr>\n",
              "      <th>13434</th>\n",
              "      <td>[countries, by, number, of, active, soldiers, ...</td>\n",
              "      <td>Miscellaneous</td>\n",
              "    </tr>\n",
              "    <tr>\n",
              "      <th>13435</th>\n",
              "      <td>[the, national, aeronautics, and, space, admin...</td>\n",
              "      <td>Miscellaneous</td>\n",
              "    </tr>\n",
              "    <tr>\n",
              "      <th>13436</th>\n",
              "      <td>[the, spanish, armada, fighting, the, english,...</td>\n",
              "      <td>Miscellaneous</td>\n",
              "    </tr>\n",
              "    <tr>\n",
              "      <th>13437</th>\n",
              "      <td>[german, state, police, officer, in, hamburg, ...</td>\n",
              "      <td>Miscellaneous</td>\n",
              "    </tr>\n",
              "    <tr>\n",
              "      <th>13438</th>\n",
              "      <td>[politics, from, greek, politik, politika, def...</td>\n",
              "      <td>Miscellaneous</td>\n",
              "    </tr>\n",
              "  </tbody>\n",
              "</table>\n",
              "</div>"
            ],
            "text/plain": [
              "                                                    text          title\n",
              "13422  [a, government, is, the, system, to, govern, a...  Miscellaneous\n",
              "13423  [fighters, and, a, tanker, aircraft, of, the, ...  Miscellaneous\n",
              "13424  [allies, day, may, national, gallery, of, art,...  Miscellaneous\n",
              "13425  [the, word, authority, derived, from, the, lat...  Miscellaneous\n",
              "13426  [bureau, may, refer, to, public, administratio...  Miscellaneous\n",
              "13427  [a, council, is, a, group, of, people, who, co...  Miscellaneous\n",
              "13428  [the, sun, is, the, source, of, energy, for, m...  Miscellaneous\n",
              "13429  [environment, may, refer, to, environment, bio...  Miscellaneous\n",
              "13430  [the, food, and, drug, administration, fda, or...  Miscellaneous\n",
              "13431  [an, institute, is, an, organisational, body, ...  Miscellaneous\n",
              "13432  [lady, justice, a, goddess, symbolising, justi...  Miscellaneous\n",
              "13433  [legislation, or, statutory, law, is, law, whi...  Miscellaneous\n",
              "13434  [countries, by, number, of, active, soldiers, ...  Miscellaneous\n",
              "13435  [the, national, aeronautics, and, space, admin...  Miscellaneous\n",
              "13436  [the, spanish, armada, fighting, the, english,...  Miscellaneous\n",
              "13437  [german, state, police, officer, in, hamburg, ...  Miscellaneous\n",
              "13438  [politics, from, greek, politik, politika, def...  Miscellaneous"
            ]
          },
          "metadata": {
            "tags": []
          },
          "execution_count": 136
        }
      ]
    },
    {
      "cell_type": "code",
      "metadata": {
        "id": "JNMTrqcu5t8k"
      },
      "source": [
        ""
      ],
      "execution_count": null,
      "outputs": []
    },
    {
      "cell_type": "code",
      "metadata": {
        "id": "cge7zRKi5t5R"
      },
      "source": [
        ""
      ],
      "execution_count": null,
      "outputs": []
    },
    {
      "cell_type": "code",
      "metadata": {
        "id": "INhMiiz25t0s"
      },
      "source": [
        ""
      ],
      "execution_count": null,
      "outputs": []
    },
    {
      "cell_type": "code",
      "metadata": {
        "id": "9Xd5mQBnyrTZ"
      },
      "source": [
        "msk = np.random.rand(len(df_all_cat)) < 0.9\n",
        "train_df = df_all_cat[msk]\n",
        "test_val_df = df_all_cat[~msk]"
      ],
      "execution_count": 112,
      "outputs": []
    },
    {
      "cell_type": "code",
      "metadata": {
        "id": "oH6aNx04yrQ6"
      },
      "source": [
        "msk = np.random.rand(len(test_val_df)) < 0.5\n",
        "test_df = test_val_df[msk]\n",
        "validate_df = test_val_df[~msk]"
      ],
      "execution_count": 113,
      "outputs": []
    },
    {
      "cell_type": "code",
      "metadata": {
        "id": "joclRMGcOt7b"
      },
      "source": [
        "df[df['title']=='Miscellaneous']"
      ],
      "execution_count": null,
      "outputs": []
    },
    {
      "cell_type": "code",
      "metadata": {
        "id": "o4TFEsh5yrL8",
        "outputId": "e613428f-dde8-4171-d68c-37b68d9ccda8",
        "colab": {
          "base_uri": "https://localhost:8080/",
          "height": 72
        }
      },
      "source": [
        "print(f'train data count: {len(train_df)}')\n",
        "print(f'test data count: {len(test_df)}')\n",
        "print(f'validate data count: {len(validate_df)}')\n",
        "train_x, train_y = list(train_df['text']), list(train_df['title'])\n",
        "test_x, test_y = list(test_df['text']), list(test_df['title'])\n",
        "validate_x, validate_y = list(validate_df['text']), list(validate_df['title'])"
      ],
      "execution_count": 123,
      "outputs": [
        {
          "output_type": "stream",
          "text": [
            "train data count: 15004\n",
            "test data count: 790\n",
            "validate data count: 856\n"
          ],
          "name": "stdout"
        }
      ]
    },
    {
      "cell_type": "code",
      "metadata": {
        "id": "2e2nXMYCZLKR"
      },
      "source": [
        "X_train_filtered_list=[]\n",
        "X_train_filtered= [] \n",
        "for w in train_x:\n",
        "  for j in w:\n",
        "    if j not in stop_words: \n",
        "      X_train_filtered.append(j)\n",
        "  X_train_filtered_list.append(X_train_filtered)"
      ],
      "execution_count": 244,
      "outputs": []
    },
    {
      "cell_type": "code",
      "metadata": {
        "id": "592eh5hsZNLE"
      },
      "source": [
        "X_test_filtered_list=[]\n",
        "X_test_filtered= [] \n",
        "for w in validate_x:\n",
        "  for j in w:\n",
        "    if j not in stop_words: \n",
        "      X_test_filtered.append(j)\n",
        "  X_test_filtered_list.append(X_test_filtered)"
      ],
      "execution_count": 247,
      "outputs": []
    },
    {
      "cell_type": "code",
      "metadata": {
        "id": "4tAdofSUzXOl"
      },
      "source": [
        "model.fit(X_train_filtered_list,train_y,X_test_filtered_list,validate_y,epochs=50)"
      ],
      "execution_count": null,
      "outputs": []
    },
    {
      "cell_type": "code",
      "metadata": {
        "id": "A1tAWfbRQO3r",
        "outputId": "5185e2d0-2083-44c2-d6b8-96d3706fe326",
        "colab": {
          "base_uri": "https://localhost:8080/",
          "height": 1000
        }
      },
      "source": [
        "model.evaluate(test_x,test_y)"
      ],
      "execution_count": 138,
      "outputs": [
        {
          "output_type": "stream",
          "text": [
            "2020-10-10 16:04:10,513 [WARNING] kashgari - Sequence length is None, will use the max embedding seq length, which is 512\n",
            "2020-10-10 16:04:10,542 [DEBUG] kashgari - predict input shape (2, 790, 512) x: \n",
            "(array([[ 101, 1998, 2353, ...,    0,    0,    0],\n",
            "       [ 101, 2968, 3802, ...,    0,    0,    0],\n",
            "       [ 101, 1996, 2034, ...,    0,    0,    0],\n",
            "       ...,\n",
            "       [ 101,  100, 2542, ...,    0,    0,    0],\n",
            "       [ 101, 1997, 1996, ...,    0,    0,    0],\n",
            "       [ 101, 2554, 2001, ...,    0,    0,    0]], dtype=int32), array([[0, 0, 0, ..., 0, 0, 0],\n",
            "       [0, 0, 0, ..., 0, 0, 0],\n",
            "       [0, 0, 0, ..., 0, 0, 0],\n",
            "       ...,\n",
            "       [0, 0, 0, ..., 0, 0, 0],\n",
            "       [0, 0, 0, ..., 0, 0, 0],\n",
            "       [0, 0, 0, ..., 0, 0, 0]], dtype=int32))\n",
            "2020-10-10 16:04:46,655 [DEBUG] kashgari - predict output shape (790, 7)\n",
            "2020-10-10 16:04:46,658 [DEBUG] kashgari - predict output argmax: [0 3 5 0 1 0 0 1 1 4 0 0 0 1 1 1 0 0 0 0 5 0 0 3 4 5 5 0 4 0 0 0 5 0 2 2 1\n",
            " 2 5 2 2 0 2 0 0 2 0 2 0 2 2 2 5 5 0 0 0 0 6 4 0 0 4 0 1 5 0 1 1 1 0 0 5 5\n",
            " 5 1 2 1 4 4 0 1 0 0 1 1 1 2 2 5 2 1 1 0 0 0 0 0 4 0 0 0 0 0 0 4 2 0 2 0 2\n",
            " 2 0 0 0 0 0 0 4 2 0 2 0 0 2 0 4 4 5 2 4 3 1 3 4 2 0 4 3 5 5 4 2 2 2 2 1 1\n",
            " 2 1 2 5 0 0 2 0 0 0 0 0 0 0 0 0 5 0 5 0 1 0 0 2 0 2 2 2 2 2 2 2 0 0 2 0 0\n",
            " 5 5 0 5 5 5 0 4 0 4 0 0 0 0 4 0 0 0 0 0 0 0 0 4 1 1 1 0 0 5 5 0 0 2 1 2 1\n",
            " 2 2 1 5 2 1 1 1 1 1 2 1 2 2 0 1 2 1 1 2 4 4 4 5 4 0 2 4 5 0 2 0 2 2 0 0 2\n",
            " 2 1 2 0 1 0 5 1 1 1 0 5 0 0 4 3 3 3 3 3 3 5 3 3 3 3 3 2 5 3 5 1 3 3 3 3 3\n",
            " 3 3 3 3 3 3 3 3 3 3 1 3 3 3 3 3 3 3 3 3 3 3 3 1 1 3 4 3 3 3 4 5 3 3 3 5 3\n",
            " 3 3 3 3 2 2 2 2 3 3 3 3 3 3 4 3 4 4 3 2 3 3 2 5 2 2 2 2 2 2 2 2 2 2 4 2 2\n",
            " 2 2 2 2 2 2 2 2 4 4 2 2 4 2 2 2 2 2 2 2 2 2 2 1 2 2 2 2 2 2 2 2 2 0 2 2 2\n",
            " 2 2 4 2 1 2 2 2 2 2 2 2 2 2 3 2 2 2 2 2 2 2 1 2 2 5 2 2 2 2 2 2 2 2 2 2 2\n",
            " 2 2 2 2 2 2 2 2 2 2 2 2 2 1 1 4 2 2 1 2 2 2 2 1 2 2 2 2 4 2 5 5 5 5 5 5 5\n",
            " 5 5 5 0 0 5 5 5 5 5 5 5 5 5 5 5 5 5 5 5 5 5 5 5 5 5 5 5 5 5 5 5 5 5 5 5 5\n",
            " 5 5 5 5 5 5 5 5 5 5 5 5 5 5 5 5 2 2 5 5 5 5 5 4 4 4 4 4 4 4 4 4 4 1 4 4 4\n",
            " 4 4 4 4 1 4 1 4 1 4 4 4 4 4 4 4 4 4 4 4 4 4 4 4 4 4 4 4 4 4 4 2 4 4 4 4 4\n",
            " 4 4 4 4 4 4 4 4 4 4 4 4 4 4 4 4 4 4 4 4 4 4 4 4 4 4 4 4 4 4 4 4 4 1 4 4 4\n",
            " 4 4 4 4 4 4 1 1 1 1 1 1 1 1 1 1 1 1 1 1 1 1 1 1 1 1 1 1 1 1 1 1 1 1 1 1 1\n",
            " 1 1 1 1 1 1 1 1 4 1 1 1 1 1 1 1 1 1 1 1 1 1 1 1 1 1 1 1 4 1 1 1 1 1 1 5 1\n",
            " 1 1 1 1 1 1 1 1 0 1 1 1 1 1 1 1 1 1 1 1 1 1 4 1 1 1 1 1 1 1 1 1 1 1 1 0 1\n",
            " 1 1 2 1 1 1 1 1 1 1 1 1 1 1 1 1 1 1 0 1 0 1 1 1 1 1 1 1 1 1 1 1 1 1 1 1 1\n",
            " 1 1 1 1 1 1 1 1 1 1 1 1 1]\n"
          ],
          "name": "stderr"
        },
        {
          "output_type": "stream",
          "text": [
            "                  precision    recall  f1-score   support\n",
            "\n",
            "        Business     0.9104    0.7262    0.8079        84\n",
            "   Miscellaneous     0.0000    0.0000    0.0000         1\n",
            "acadamic_science     0.9402    0.4029    0.5641       273\n",
            "       community     0.5952    0.8547    0.7018       117\n",
            "       computing     0.6176    0.9403    0.7456        67\n",
            "     govermnetal     0.6744    0.9355    0.7838        93\n",
            "         medical     0.7087    0.9419    0.8089       155\n",
            "\n",
            "        accuracy                         0.7177       790\n",
            "       macro avg     0.6352    0.6859    0.6303       790\n",
            "    weighted avg     0.7807    0.7177    0.6990       790\n",
            "\n"
          ],
          "name": "stdout"
        },
        {
          "output_type": "execute_result",
          "data": {
            "text/plain": [
              "{'detail': {'Business': {'f1-score': 0.8079470198675497,\n",
              "   'precision': 0.9104477611940298,\n",
              "   'recall': 0.7261904761904762,\n",
              "   'support': 84},\n",
              "  'Miscellaneous': {'f1-score': 0.0,\n",
              "   'precision': 0.0,\n",
              "   'recall': 0.0,\n",
              "   'support': 1},\n",
              "  'acadamic_science': {'f1-score': 0.5641025641025641,\n",
              "   'precision': 0.9401709401709402,\n",
              "   'recall': 0.40293040293040294,\n",
              "   'support': 273},\n",
              "  'accuracy': 0.7177215189873418,\n",
              "  'community': {'f1-score': 0.7017543859649124,\n",
              "   'precision': 0.5952380952380952,\n",
              "   'recall': 0.8547008547008547,\n",
              "   'support': 117},\n",
              "  'computing': {'f1-score': 0.7455621301775149,\n",
              "   'precision': 0.6176470588235294,\n",
              "   'recall': 0.9402985074626866,\n",
              "   'support': 67},\n",
              "  'govermnetal': {'f1-score': 0.7837837837837838,\n",
              "   'precision': 0.6744186046511628,\n",
              "   'recall': 0.9354838709677419,\n",
              "   'support': 93},\n",
              "  'macro avg': {'f1-score': 0.6302877356891861,\n",
              "   'precision': 0.6352371891650611,\n",
              "   'recall': 0.68593422801759,\n",
              "   'support': 790},\n",
              "  'medical': {'f1-score': 0.8088642659279778,\n",
              "   'precision': 0.7087378640776699,\n",
              "   'recall': 0.9419354838709677,\n",
              "   'support': 155},\n",
              "  'weighted avg': {'f1-score': 0.698976365391634,\n",
              "   'precision': 0.7806896048805011,\n",
              "   'recall': 0.7177215189873418,\n",
              "   'support': 790}},\n",
              " 'f1-score': 0.698976365391634,\n",
              " 'precision': 0.7806896048805011,\n",
              " 'recall': 0.7177215189873418,\n",
              " 'support': 790}"
            ]
          },
          "metadata": {
            "tags": []
          },
          "execution_count": 138
        }
      ]
    },
    {
      "cell_type": "code",
      "metadata": {
        "id": "xLlggrsqSSFB"
      },
      "source": [
        "def predict(docs):\n",
        "  tokenize_docs = []\n",
        "  df=pd.DataFrame([docs],columns=['text'])\n",
        "  docs_tokens = df['text'].tolist()\n",
        "  length = len(docs_tokens)\n",
        "  for i in range(length):\n",
        "    tokenize_docs.append(tokenize(docs_tokens[i]))\n",
        "  return tokenize_docs"
      ],
      "execution_count": 151,
      "outputs": []
    },
    {
      "cell_type": "code",
      "metadata": {
        "id": "eNh5BUVDSVPf"
      },
      "source": [
        "x = predict('Artificial intelligence (AI), sometimes called machine intelligence, is intelligence demonstrated by machines, unlike the natural intelligence displayed by humans and animals. Leading AI textbooks define the field as the study of \"intelligent agents\": any device that perceives its environment and takes actions that maximize its chance of successfully achieving its goals.[3] Colloquially, the term \"artificial intelligence\" is often used to describe machines (or computers) that mimic \"cognitive\" functions that humans associate with the human mind, such as learning and problem solving.[4]As machines become increasingly capable, tasks considered to require intelligence are often removed from the definition of AI, a phenomenon known as the AI effect.[5] A quip in Teslers Theorem says \"AI is whatever hasnt been done yet.[6] For instance, optical character recognition is frequently excluded from things considered to be AI,[7] having become a routine technology.[8] Modern machine capabilities generally classified as AI include successfully understanding human speech,computing')"
      ],
      "execution_count": 235,
      "outputs": []
    },
    {
      "cell_type": "code",
      "metadata": {
        "id": "VXYVnH4iXwTI",
        "outputId": "988547ea-0be9-4965-9cd8-330cad5b43c4",
        "colab": {
          "base_uri": "https://localhost:8080/",
          "height": 35
        }
      },
      "source": [
        "len(x[0])"
      ],
      "execution_count": 236,
      "outputs": [
        {
          "output_type": "execute_result",
          "data": {
            "text/plain": [
              "95"
            ]
          },
          "metadata": {
            "tags": []
          },
          "execution_count": 236
        }
      ]
    },
    {
      "cell_type": "code",
      "metadata": {
        "id": "H2gZk5o1Q0mm",
        "outputId": "4b3162c6-c5d9-491d-8f95-87c3e82234bb",
        "colab": {
          "base_uri": "https://localhost:8080/",
          "height": 383
        }
      },
      "source": [
        "model.predict(x)"
      ],
      "execution_count": 237,
      "outputs": [
        {
          "output_type": "stream",
          "text": [
            "2020-10-10 16:39:16,540 [DEBUG] kashgari - predict input shape (2, 1, 97) x: \n",
            "(array([[  101,   100,   100,   100,  2655,   100,   100,   100,   100,\n",
            "          100,   100,   100,   100,  4653,  2529,   100,  2599, 16432,\n",
            "          100,  2492,   100,   100,  4005,   100,   100,   100,  2202,\n",
            "         2895, 20446,   100,  3112,   100,  3125,   100,  2744,   100,\n",
            "          100,  2411,  2224,   100,   100,   100, 23150,   100,  3853,\n",
            "         2529,   100,  2529,  2568,  4553,  3291,   100,   100,   100,\n",
            "          100,   100,  4708,   100,   100,   100,  2411,   100,   100,\n",
            "         9575,  2124,  3466,   100,   100,  9872,  2360,   100,   100,\n",
            "         2589,  2664,   100, 22816,   100,   100,  6976,   100,  2518,\n",
            "          100,   100,   100,   100,  2715,   100,   100,   100,   100,\n",
            "          100,  3112,  3305,  2529,  4613,   100,   102]], dtype=int32), array([[0, 0, 0, 0, 0, 0, 0, 0, 0, 0, 0, 0, 0, 0, 0, 0, 0, 0, 0, 0, 0, 0,\n",
            "        0, 0, 0, 0, 0, 0, 0, 0, 0, 0, 0, 0, 0, 0, 0, 0, 0, 0, 0, 0, 0, 0,\n",
            "        0, 0, 0, 0, 0, 0, 0, 0, 0, 0, 0, 0, 0, 0, 0, 0, 0, 0, 0, 0, 0, 0,\n",
            "        0, 0, 0, 0, 0, 0, 0, 0, 0, 0, 0, 0, 0, 0, 0, 0, 0, 0, 0, 0, 0, 0,\n",
            "        0, 0, 0, 0, 0, 0, 0, 0, 0]], dtype=int32))\n",
            "2020-10-10 16:39:16,617 [DEBUG] kashgari - predict output shape (1, 7)\n",
            "2020-10-10 16:39:16,618 [DEBUG] kashgari - predict output argmax: [1]\n"
          ],
          "name": "stderr"
        },
        {
          "output_type": "execute_result",
          "data": {
            "text/plain": [
              "['medical']"
            ]
          },
          "metadata": {
            "tags": []
          },
          "execution_count": 237
        }
      ]
    },
    {
      "cell_type": "code",
      "metadata": {
        "id": "vs_OFRzYyrJa",
        "outputId": "acf9011c-5219-4f6a-cf73-9533e4c4c9d1",
        "colab": {
          "base_uri": "https://localhost:8080/",
          "height": 407
        }
      },
      "source": [
        "train_df"
      ],
      "execution_count": 32,
      "outputs": [
        {
          "output_type": "execute_result",
          "data": {
            "text/html": [
              "<div>\n",
              "<style scoped>\n",
              "    .dataframe tbody tr th:only-of-type {\n",
              "        vertical-align: middle;\n",
              "    }\n",
              "\n",
              "    .dataframe tbody tr th {\n",
              "        vertical-align: top;\n",
              "    }\n",
              "\n",
              "    .dataframe thead th {\n",
              "        text-align: right;\n",
              "    }\n",
              "</style>\n",
              "<table border=\"1\" class=\"dataframe\">\n",
              "  <thead>\n",
              "    <tr style=\"text-align: right;\">\n",
              "      <th></th>\n",
              "      <th>Unnamed: 0</th>\n",
              "      <th>title</th>\n",
              "      <th>text</th>\n",
              "    </tr>\n",
              "  </thead>\n",
              "  <tbody>\n",
              "    <tr>\n",
              "      <th>0</th>\n",
              "      <td>0</td>\n",
              "      <td>Academic_Science</td>\n",
              "      <td>['an', 'academic', 'degree', 'is', 'a', 'quali...</td>\n",
              "    </tr>\n",
              "    <tr>\n",
              "      <th>1</th>\n",
              "      <td>1</td>\n",
              "      <td>Academic_Science</td>\n",
              "      <td>['an', 'alumnus', 'masculine', 'plural', 'alum...</td>\n",
              "    </tr>\n",
              "    <tr>\n",
              "      <th>2</th>\n",
              "      <td>2</td>\n",
              "      <td>Academic_Science</td>\n",
              "      <td>['an', 'example', 'of', 'an', 'amateur', 'radi...</td>\n",
              "    </tr>\n",
              "    <tr>\n",
              "      <th>3</th>\n",
              "      <td>3</td>\n",
              "      <td>Academic_Science</td>\n",
              "      <td>['anthropology', 'is', 'the', 'study', 'of', '...</td>\n",
              "    </tr>\n",
              "    <tr>\n",
              "      <th>4</th>\n",
              "      <td>4</td>\n",
              "      <td>Academic_Science</td>\n",
              "      <td>['roman', 'ruins', 'lausanne', 'switzerland', ...</td>\n",
              "    </tr>\n",
              "    <tr>\n",
              "      <th>...</th>\n",
              "      <td>...</td>\n",
              "      <td>...</td>\n",
              "      <td>...</td>\n",
              "    </tr>\n",
              "    <tr>\n",
              "      <th>154</th>\n",
              "      <td>154</td>\n",
              "      <td>Medical</td>\n",
              "      <td>['rehabilitation', 'psychology', 'is', 'a', 's...</td>\n",
              "    </tr>\n",
              "    <tr>\n",
              "      <th>155</th>\n",
              "      <td>155</td>\n",
              "      <td>Medical</td>\n",
              "      <td>['surgeons', 'repairing', 'a', 'ruptured', 'ac...</td>\n",
              "    </tr>\n",
              "    <tr>\n",
              "      <th>156</th>\n",
              "      <td>156</td>\n",
              "      <td>Medical</td>\n",
              "      <td>['a', 'syndrome', 'is', 'a', 'set', 'of', 'med...</td>\n",
              "    </tr>\n",
              "    <tr>\n",
              "      <th>157</th>\n",
              "      <td>157</td>\n",
              "      <td>Medical</td>\n",
              "      <td>['therapy', 'often', 'abbreviated', 'tx', 'tx'...</td>\n",
              "    </tr>\n",
              "    <tr>\n",
              "      <th>159</th>\n",
              "      <td>159</td>\n",
              "      <td>Medical</td>\n",
              "      <td>['a', 'veterinary', 'technician', 'in', 'ethio...</td>\n",
              "    </tr>\n",
              "  </tbody>\n",
              "</table>\n",
              "<p>133 rows × 3 columns</p>\n",
              "</div>"
            ],
            "text/plain": [
              "     Unnamed: 0  ...                                               text\n",
              "0             0  ...  ['an', 'academic', 'degree', 'is', 'a', 'quali...\n",
              "1             1  ...  ['an', 'alumnus', 'masculine', 'plural', 'alum...\n",
              "2             2  ...  ['an', 'example', 'of', 'an', 'amateur', 'radi...\n",
              "3             3  ...  ['anthropology', 'is', 'the', 'study', 'of', '...\n",
              "4             4  ...  ['roman', 'ruins', 'lausanne', 'switzerland', ...\n",
              "..          ...  ...                                                ...\n",
              "154         154  ...  ['rehabilitation', 'psychology', 'is', 'a', 's...\n",
              "155         155  ...  ['surgeons', 'repairing', 'a', 'ruptured', 'ac...\n",
              "156         156  ...  ['a', 'syndrome', 'is', 'a', 'set', 'of', 'med...\n",
              "157         157  ...  ['therapy', 'often', 'abbreviated', 'tx', 'tx'...\n",
              "159         159  ...  ['a', 'veterinary', 'technician', 'in', 'ethio...\n",
              "\n",
              "[133 rows x 3 columns]"
            ]
          },
          "metadata": {
            "tags": []
          },
          "execution_count": 32
        }
      ]
    },
    {
      "cell_type": "code",
      "metadata": {
        "id": "olNF8iDoZkTk"
      },
      "source": [
        "import ast\n",
        "X_train=[ast.literal_eval(i) for i in X_train]\n",
        "X_test=[ast.literal_eval(i) for i in X_test]"
      ],
      "execution_count": 13,
      "outputs": []
    },
    {
      "cell_type": "code",
      "metadata": {
        "id": "Ni0w1Hgxgpn0"
      },
      "source": [
        "stop_words = set(stopwords.words('english')) \n"
      ],
      "execution_count": 243,
      "outputs": []
    },
    {
      "cell_type": "code",
      "metadata": {
        "id": "3uGkEZHH5gra"
      },
      "source": [
        "X_train_filtered_list=[]\n",
        "X_train_filtered= [] \n",
        "for w in X_train:\n",
        "  for j in w:\n",
        "    if j not in stop_words: \n",
        "      X_train_filtered.append(j)\n",
        "  X_train_filtered_list.append(X_train_filtered)"
      ],
      "execution_count": null,
      "outputs": []
    },
    {
      "cell_type": "code",
      "metadata": {
        "id": "qv2Q7jANkbHM"
      },
      "source": [
        "X_train_filtered_list=[]\n",
        "X_train_filtered= [] \n",
        "for w in X_train:\n",
        "  for j in w:\n",
        "    if j not in stop_words: \n",
        "      X_train_filtered.append(j)\n",
        "  X_train_filtered_list.append(X_train_filtered)"
      ],
      "execution_count": 15,
      "outputs": []
    },
    {
      "cell_type": "code",
      "metadata": {
        "id": "4JcnUrz8k8yI"
      },
      "source": [
        "X_test_filtered_list=[]\n",
        "X_test_filtered= [] \n",
        "for w in X_test:\n",
        "  for j in w:\n",
        "    if j not in stop_words: \n",
        "      X_test_filtered.append(j)\n",
        "  X_test_filtered_list.append(X_test_filtered)"
      ],
      "execution_count": 16,
      "outputs": []
    },
    {
      "cell_type": "code",
      "metadata": {
        "id": "gbRzaUCoyHnK"
      },
      "source": [
        "X_test_filtered_list[0]"
      ],
      "execution_count": null,
      "outputs": []
    },
    {
      "cell_type": "code",
      "metadata": {
        "id": "jro7aZ4AgYio",
        "outputId": "6e97f576-b6fa-4e12-beb7-723ded95c191",
        "colab": {
          "base_uri": "https://localhost:8080/",
          "height": 171
        }
      },
      "source": [
        "model.fit(X_train_filtered_list,y_train,X_test_filtered_list,y_test,epochs=35,batch_size=20)"
      ],
      "execution_count": 125,
      "outputs": [
        {
          "output_type": "error",
          "ename": "NameError",
          "evalue": "ignored",
          "traceback": [
            "\u001b[0;31m---------------------------------------------------------------------------\u001b[0m",
            "\u001b[0;31mNameError\u001b[0m                                 Traceback (most recent call last)",
            "\u001b[0;32m<ipython-input-125-da58f10a2733>\u001b[0m in \u001b[0;36m<module>\u001b[0;34m()\u001b[0m\n\u001b[0;32m----> 1\u001b[0;31m \u001b[0mmodel\u001b[0m\u001b[0;34m.\u001b[0m\u001b[0mfit\u001b[0m\u001b[0;34m(\u001b[0m\u001b[0mX_train_filtered_list\u001b[0m\u001b[0;34m,\u001b[0m\u001b[0my_train\u001b[0m\u001b[0;34m,\u001b[0m\u001b[0mX_test_filtered_list\u001b[0m\u001b[0;34m,\u001b[0m\u001b[0my_test\u001b[0m\u001b[0;34m,\u001b[0m\u001b[0mepochs\u001b[0m\u001b[0;34m=\u001b[0m\u001b[0;36m35\u001b[0m\u001b[0;34m,\u001b[0m\u001b[0mbatch_size\u001b[0m\u001b[0;34m=\u001b[0m\u001b[0;36m20\u001b[0m\u001b[0;34m)\u001b[0m\u001b[0;34m\u001b[0m\u001b[0;34m\u001b[0m\u001b[0m\n\u001b[0m",
            "\u001b[0;31mNameError\u001b[0m: name 'X_train_filtered_list' is not defined"
          ]
        }
      ]
    },
    {
      "cell_type": "code",
      "metadata": {
        "id": "xfzSX05vr-l4"
      },
      "source": [
        "model.save(\"LSTM\")"
      ],
      "execution_count": null,
      "outputs": []
    },
    {
      "cell_type": "code",
      "metadata": {
        "id": "QTymvzVAadFa"
      },
      "source": [
        "!mkdir '/content/LSTM' \n",
        "!cp  '/content/drive/My Drive/Model_weights/embed_model_weights.h5' '/content/LSTM'\n",
        "!cp  '/content/drive/My Drive/Model_weights/model_config.json' '/content/LSTM'\n",
        "!cp  '/content/drive/My Drive/Model_weights/model_weights.h5' '/content/LSTM'\n"
      ],
      "execution_count": null,
      "outputs": []
    },
    {
      "cell_type": "code",
      "metadata": {
        "id": "hKd8k3nxyu1G",
        "outputId": "82eeaceb-fbbd-48a6-adf5-a8dd549e63f7",
        "colab": {
          "base_uri": "https://localhost:8080/",
          "height": 156
        }
      },
      "source": [
        "\n",
        "loaded_model = BiLSTM_Model.load_model('/content/LSTM/')"
      ],
      "execution_count": null,
      "outputs": [
        {
          "output_type": "stream",
          "text": [
            "2020-09-01 17:51:13,866 [DEBUG] kashgari - ------------------------------------------------\n",
            "2020-09-01 17:51:13,867 [DEBUG] kashgari - Loaded transformer model's vocab\n",
            "2020-09-01 17:51:13,868 [DEBUG] kashgari - config_path       : /content/uncased_L-12_H-768_A-12/bert_config.json\n",
            "2020-09-01 17:51:13,870 [DEBUG] kashgari - vocab_path      : /content/uncased_L-12_H-768_A-12/vocab.txt\n",
            "2020-09-01 17:51:13,871 [DEBUG] kashgari - checkpoint_path : /content/uncased_L-12_H-768_A-12/bert_model.ckpt\n",
            "2020-09-01 17:51:13,872 [DEBUG] kashgari - Top 50 words    : ['[PAD]', '[unused0]', '[unused1]', '[unused2]', '[unused3]', '[unused4]', '[unused5]', '[unused6]', '[unused7]', '[unused8]', '[unused9]', '[unused10]', '[unused11]', '[unused12]', '[unused13]', '[unused14]', '[unused15]', '[unused16]', '[unused17]', '[unused18]', '[unused19]', '[unused20]', '[unused21]', '[unused22]', '[unused23]', '[unused24]', '[unused25]', '[unused26]', '[unused27]', '[unused28]', '[unused29]', '[unused30]', '[unused31]', '[unused32]', '[unused33]', '[unused34]', '[unused35]', '[unused36]', '[unused37]', '[unused38]', '[unused39]', '[unused40]', '[unused41]', '[unused42]', '[unused43]', '[unused44]', '[unused45]', '[unused46]', '[unused47]', '[unused48]']\n",
            "2020-09-01 17:51:13,873 [DEBUG] kashgari - ------------------------------------------------\n"
          ],
          "name": "stderr"
        }
      ]
    },
    {
      "cell_type": "code",
      "metadata": {
        "id": "6x_qJMLXYjBs"
      },
      "source": [
        "def predict(docs):\n",
        "  tokenize_docs = []\n",
        "  df=pd.DataFrame([docs],columns=['text'])\n",
        "  docs_tokens = df['text'].tolist()\n",
        "  length = len(docs_tokens)\n",
        "  for i in range(length):\n",
        "    tokenize_docs.append(tokenize(docs_tokens[i]))\n",
        "  return tokenize_docs"
      ],
      "execution_count": null,
      "outputs": []
    },
    {
      "cell_type": "code",
      "metadata": {
        "id": "ge6kaDKzZ7MP",
        "outputId": "0ea9960c-1148-4e0d-b310-1fec7e8e6873",
        "colab": {
          "base_uri": "https://localhost:8080/",
          "height": 255
        }
      },
      "source": [
        "loaded_model.predict([nltk_tokens])"
      ],
      "execution_count": null,
      "outputs": [
        {
          "output_type": "stream",
          "text": [
            "2020-09-01 18:08:44,835 [DEBUG] kashgari - predict input shape (2, 1, 62) x: \n",
            "(array([[  101,   100, 13058,   100,  5658,   100, 14931,  1058, 14931,\n",
            "         5658,  1058,  5096,   100,  1058,   100,   100,   100,   100,\n",
            "         1058,   100,  3157,   100,   100, 14931,  1058, 14931,  5658,\n",
            "          100,  1058,   100,  5096,   100,  1058,   100,   100,   100,\n",
            "          100,  1058,   100,   100,  2566,  3745, 11138,   100,  1997,\n",
            "         2048,   100,  3745,  1999,  3988,  2270,  3157,   100,  2765,\n",
            "         2421,  9313,  5114,  1997,   100,  2030, 14931,   102]],\n",
            "      dtype=int32), array([[0, 0, 0, 0, 0, 0, 0, 0, 0, 0, 0, 0, 0, 0, 0, 0, 0, 0, 0, 0, 0, 0,\n",
            "        0, 0, 0, 0, 0, 0, 0, 0, 0, 0, 0, 0, 0, 0, 0, 0, 0, 0, 0, 0, 0, 0,\n",
            "        0, 0, 0, 0, 0, 0, 0, 0, 0, 0, 0, 0, 0, 0, 0, 0, 0, 0]],\n",
            "      dtype=int32))\n",
            "2020-09-01 18:08:44,907 [DEBUG] kashgari - predict output shape (1, 110)\n"
          ],
          "name": "stderr"
        },
        {
          "output_type": "execute_result",
          "data": {
            "text/plain": [
              "[['earn']]"
            ]
          },
          "metadata": {
            "tags": []
          },
          "execution_count": 256
        }
      ]
    },
    {
      "cell_type": "code",
      "metadata": {
        "id": "OkFtf1vr3CZY",
        "outputId": "e6104158-be12-49a5-a69d-e415fd044faf",
        "colab": {
          "base_uri": "https://localhost:8080/",
          "height": 1000
        }
      },
      "source": [
        "loaded_model.evaluate(toknize_test,test_labels_)"
      ],
      "execution_count": null,
      "outputs": [
        {
          "output_type": "stream",
          "text": [
            "2020-09-01 18:10:17,533 [DEBUG] kashgari - predict input shape (2, 10389, 512) x: \n",
            "(array([[ 101, 1045, 2572, ...,    0,    0,    0],\n",
            "       [ 101, 1045, 2031, ...,    0,    0,    0],\n",
            "       [ 101, 1045, 2342, ...,    0,    0,    0],\n",
            "       ...,\n",
            "       [ 101, 3034, 3013, ...,    0,    0,    0],\n",
            "       [ 101, 3354, 3919, ...,    0,    0,    0],\n",
            "       [ 101, 2416, 2730, ...,    0,    0,    0]], dtype=int32), array([[0, 0, 0, ..., 0, 0, 0],\n",
            "       [0, 0, 0, ..., 0, 0, 0],\n",
            "       [0, 0, 0, ..., 0, 0, 0],\n",
            "       ...,\n",
            "       [0, 0, 0, ..., 0, 0, 0],\n",
            "       [0, 0, 0, ..., 0, 0, 0],\n",
            "       [0, 0, 0, ..., 0, 0, 0]], dtype=int32))\n",
            "2020-09-01 18:17:21,525 [DEBUG] kashgari - predict output shape (10389, 110)\n",
            "/usr/local/lib/python3.6/dist-packages/sklearn/metrics/_classification.py:1272: UndefinedMetricWarning: Precision is ill-defined and being set to 0.0 due to no predicted samples. Use `zero_division` parameter to control this behavior.\n",
            "  _warn_prf(average, modifier, msg_start, len(result))\n"
          ],
          "name": "stderr"
        },
        {
          "output_type": "stream",
          "text": [
            "                      precision    recall  f1-score   support\n",
            "                earn     0.9709    0.9825    0.9767      1087\n",
            "                 acq     0.9677    0.9583    0.9630       719\n",
            "      comp.windows.x     0.4296    0.5964    0.4995       394\n",
            "    rec.sport.hockey     0.9121    0.7143    0.8011       392\n",
            "soc.religion.christian     0.5245    0.8010    0.6339       387\n",
            "     rec.motorcycles     0.9403    0.3214    0.4791       392\n",
            "comp.sys.ibm.pc.hardware     0.5000    0.0052    0.0102       387\n",
            "        misc.forsale     0.8287    0.6108    0.7033       388\n",
            "             sci.med     0.9623    0.5312    0.6846       384\n",
            "  rec.sport.baseball     0.7622    0.6909    0.7248       385\n",
            "           sci.crypt     0.4503    0.6518    0.5326       382\n",
            "           sci.space     0.9820    0.4282    0.5964       383\n",
            "     sci.electronics     0.5520    0.3603    0.4360       383\n",
            "comp.os.ms-windows.misc     1.0000    0.0026    0.0052       382\n",
            "       comp.graphics     0.7683    0.1641    0.2704       384\n",
            "           rec.autos     0.8696    0.4762    0.6154       378\n",
            "comp.sys.mac.hardware     0.8485    0.0749    0.1376       374\n",
            "talk.politics.mideast     0.7402    0.7105    0.7250       373\n",
            "  talk.politics.guns     0.6716    0.1264    0.2128       356\n",
            "         alt.atheism     0.0000    0.0000    0.0000       313\n",
            "  talk.politics.misc     0.4337    0.3941    0.4130       307\n",
            "            money-fx     0.7826    0.8045    0.7934       179\n",
            "  talk.religion.misc     0.0000    0.0000    0.0000       246\n",
            "               grain     0.9493    0.8792    0.9129       149\n",
            "               crude     0.7637    0.9577    0.8498       189\n",
            "               trade     0.8053    0.7778    0.7913       117\n",
            "            interest     0.7801    0.8397    0.8088       131\n",
            "                ship     0.7973    0.6629    0.7239        89\n",
            "               wheat     0.9259    0.7042    0.8000        71\n",
            "                corn     0.8000    0.7857    0.7928        56\n",
            "                 dlr     0.8333    0.4545    0.5882        44\n",
            "        money-supply     0.7500    0.8824    0.8108        34\n",
            "             oilseed     0.7000    0.2979    0.4179        47\n",
            "               sugar     0.9615    0.6944    0.8065        36\n",
            "              coffee     0.9615    0.8929    0.9259        28\n",
            "                 gnp     0.8333    0.7143    0.7692        35\n",
            "             veg-oil     0.8421    0.4324    0.5714        37\n",
            "                gold     0.8095    0.5667    0.6667        30\n",
            "             soybean     0.5000    0.0909    0.1538        33\n",
            "             nat-gas     0.7059    0.4000    0.5106        30\n",
            "                 bop     0.6500    0.4333    0.5200        30\n",
            "           livestock     0.6667    0.6667    0.6667        24\n",
            "                 cpi     0.9286    0.4643    0.6190        28\n",
            "               cocoa     1.0000    0.9444    0.9714        18\n",
            "            reserves     0.9091    0.5556    0.6897        18\n",
            "             carcass     0.7143    0.5556    0.6250        18\n",
            "                jobs     1.0000    0.5714    0.7273        21\n",
            "              copper     1.0000    0.4444    0.6154        18\n",
            "              cotton     0.8571    0.3000    0.4444        20\n",
            "                 yen     0.7500    0.2143    0.3333        14\n",
            "                rice     0.8889    0.3333    0.4848        24\n",
            "                alum     0.9091    0.4348    0.5882        23\n",
            "                 gas     0.8571    0.7059    0.7742        17\n",
            "          iron-steel     0.8571    0.4286    0.5714        14\n",
            "                 ipi     0.9231    1.0000    0.9600        12\n",
            "              barley     0.6250    0.3571    0.4545        14\n",
            "           meal-feed     0.0000    0.0000    0.0000        19\n",
            "              rubber     1.0000    0.5833    0.7368        12\n",
            "            palm-oil     0.7143    0.5000    0.5882        10\n",
            "             sorghum     1.0000    0.1000    0.1818        10\n",
            "                zinc     0.8889    0.6154    0.7273        13\n",
            "            pet-chem     0.0000    0.0000    0.0000        12\n",
            "                 tin     1.0000    0.4167    0.5882        12\n",
            "                lead     0.8571    0.4286    0.5714        14\n",
            "              silver     0.0000    0.0000    0.0000         8\n",
            "                 wpi     1.0000    0.7000    0.8235        10\n",
            "     strategic-metal     0.0000    0.0000    0.0000        11\n",
            "            rapeseed     1.0000    0.4444    0.6154         9\n",
            "              orange     1.0000    0.5455    0.7059        11\n",
            "            soy-meal     0.0000    0.0000    0.0000        13\n",
            "             soy-oil     0.0000    0.0000    0.0000        11\n",
            "              retail     1.0000    0.5000    0.6667         2\n",
            "                fuel     0.6667    0.2000    0.3077        10\n",
            "                 hog     0.5000    0.3333    0.4000         6\n",
            "             housing     1.0000    0.5000    0.6667         4\n",
            "                heat     0.6667    0.4000    0.5000         5\n",
            "              income     1.0000    0.2857    0.4444         7\n",
            "             sunseed     0.0000    0.0000    0.0000         5\n",
            "              lumber     1.0000    0.1667    0.2857         6\n",
            "                 lei     1.0000    0.6667    0.8000         3\n",
            "                 dmk     0.0000    0.0000    0.0000         4\n",
            "                 oat     1.0000    0.1667    0.2857         6\n",
            "                 tea     0.0000    0.0000    0.0000         4\n",
            "            platinum     0.0000    0.0000    0.0000         7\n",
            "              nickel     0.0000    0.0000    0.0000         1\n",
            "           groundnut     0.0000    0.0000    0.0000         4\n",
            "            rape-oil     0.0000    0.0000    0.0000         3\n",
            "            l-cattle     0.0000    0.0000    0.0000         2\n",
            "             sun-oil     0.0000    0.0000    0.0000         2\n",
            "         coconut-oil     0.0000    0.0000    0.0000         3\n",
            "             propane     0.0000    0.0000    0.0000         3\n",
            "             coconut     0.0000    0.0000    0.0000         2\n",
            "         instal-debt     0.0000    0.0000    0.0000         1\n",
            "              potato     0.0000    0.0000    0.0000         3\n",
            "             naphtha     0.0000    0.0000    0.0000         4\n",
            "                 jet     0.0000    0.0000    0.0000         1\n",
            "               nzdlr     0.0000    0.0000    0.0000         2\n",
            "                 cpu     0.0000    0.0000    0.0000         1\n",
            "                 dfl     0.0000    0.0000    0.0000         1\n",
            "          palmkernel     0.0000    0.0000    0.0000         1\n",
            "                 nkr     0.0000    0.0000    0.0000         2\n",
            "          copra-cake     0.0000    0.0000    0.0000         1\n",
            "           palladium     0.0000    0.0000    0.0000         1\n",
            "          cotton-oil     0.0000    0.0000    0.0000         2\n",
            "                rand     0.0000    0.0000    0.0000         1\n",
            "          castor-oil     0.0000    0.0000    0.0000         1\n",
            "            sun-meal     0.0000    0.0000    0.0000         1\n",
            "       groundnut-oil     0.0000    0.0000    0.0000         1\n",
            "             lin-oil     0.0000    0.0000    0.0000         1\n",
            "                 rye     0.0000    0.0000    0.0000         1\n",
            "           macro avg     0.7415    0.5302    0.5646     11114\n",
            "\n"
          ],
          "name": "stdout"
        },
        {
          "output_type": "execute_result",
          "data": {
            "text/plain": [
              "{'detail': {'acq': {'f1': 0.962962962962963,\n",
              "   'precision': 0.9676966292134831,\n",
              "   'recall': 0.9582753824756607,\n",
              "   'support': 719},\n",
              "  'alt.atheism': {'f1': 0.0, 'precision': 0.0, 'recall': 0.0, 'support': 313},\n",
              "  'alum': {'f1': 0.5882352941176471,\n",
              "   'precision': 0.9090909090909091,\n",
              "   'recall': 0.43478260869565216,\n",
              "   'support': 23},\n",
              "  'barley': {'f1': 0.45454545454545453,\n",
              "   'precision': 0.625,\n",
              "   'recall': 0.35714285714285715,\n",
              "   'support': 14},\n",
              "  'bop': {'f1': 0.5199999999999999,\n",
              "   'precision': 0.65,\n",
              "   'recall': 0.43333333333333335,\n",
              "   'support': 30},\n",
              "  'carcass': {'f1': 0.6250000000000001,\n",
              "   'precision': 0.7142857142857143,\n",
              "   'recall': 0.5555555555555556,\n",
              "   'support': 18},\n",
              "  'castor-oil': {'f1': 0.0, 'precision': 0.0, 'recall': 0.0, 'support': 1},\n",
              "  'cocoa': {'f1': 0.9714285714285714,\n",
              "   'precision': 1.0,\n",
              "   'recall': 0.9444444444444444,\n",
              "   'support': 18},\n",
              "  'coconut': {'f1': 0.0, 'precision': 0.0, 'recall': 0.0, 'support': 2},\n",
              "  'coconut-oil': {'f1': 0.0, 'precision': 0.0, 'recall': 0.0, 'support': 3},\n",
              "  'coffee': {'f1': 0.9259259259259259,\n",
              "   'precision': 0.9615384615384616,\n",
              "   'recall': 0.8928571428571429,\n",
              "   'support': 28},\n",
              "  'comp.graphics': {'f1': 0.27038626609442057,\n",
              "   'precision': 0.7682926829268293,\n",
              "   'recall': 0.1640625,\n",
              "   'support': 384},\n",
              "  'comp.os.ms-windows.misc': {'f1': 0.005221932114882507,\n",
              "   'precision': 1.0,\n",
              "   'recall': 0.002617801047120419,\n",
              "   'support': 382},\n",
              "  'comp.sys.ibm.pc.hardware': {'f1': 0.010230179028132991,\n",
              "   'precision': 0.5,\n",
              "   'recall': 0.00516795865633075,\n",
              "   'support': 387},\n",
              "  'comp.sys.mac.hardware': {'f1': 0.1375921375921376,\n",
              "   'precision': 0.8484848484848485,\n",
              "   'recall': 0.0748663101604278,\n",
              "   'support': 374},\n",
              "  'comp.windows.x': {'f1': 0.4994686503719448,\n",
              "   'precision': 0.4296160877513711,\n",
              "   'recall': 0.5964467005076142,\n",
              "   'support': 394},\n",
              "  'copper': {'f1': 0.6153846153846153,\n",
              "   'precision': 1.0,\n",
              "   'recall': 0.4444444444444444,\n",
              "   'support': 18},\n",
              "  'copra-cake': {'f1': 0.0, 'precision': 0.0, 'recall': 0.0, 'support': 1},\n",
              "  'corn': {'f1': 0.7927927927927927,\n",
              "   'precision': 0.8,\n",
              "   'recall': 0.7857142857142857,\n",
              "   'support': 56},\n",
              "  'cotton': {'f1': 0.4444444444444444,\n",
              "   'precision': 0.8571428571428571,\n",
              "   'recall': 0.3,\n",
              "   'support': 20},\n",
              "  'cotton-oil': {'f1': 0.0, 'precision': 0.0, 'recall': 0.0, 'support': 2},\n",
              "  'cpi': {'f1': 0.6190476190476191,\n",
              "   'precision': 0.9285714285714286,\n",
              "   'recall': 0.4642857142857143,\n",
              "   'support': 28},\n",
              "  'cpu': {'f1': 0.0, 'precision': 0.0, 'recall': 0.0, 'support': 1},\n",
              "  'crude': {'f1': 0.8497652582159624,\n",
              "   'precision': 0.7637130801687764,\n",
              "   'recall': 0.9576719576719577,\n",
              "   'support': 189},\n",
              "  'dfl': {'f1': 0.0, 'precision': 0.0, 'recall': 0.0, 'support': 1},\n",
              "  'dlr': {'f1': 0.5882352941176471,\n",
              "   'precision': 0.8333333333333334,\n",
              "   'recall': 0.45454545454545453,\n",
              "   'support': 44},\n",
              "  'dmk': {'f1': 0.0, 'precision': 0.0, 'recall': 0.0, 'support': 4},\n",
              "  'earn': {'f1': 0.9766803840877916,\n",
              "   'precision': 0.9709090909090909,\n",
              "   'recall': 0.9825206991720331,\n",
              "   'support': 1087},\n",
              "  'fuel': {'f1': 0.30769230769230765,\n",
              "   'precision': 0.6666666666666666,\n",
              "   'recall': 0.2,\n",
              "   'support': 10},\n",
              "  'gas': {'f1': 0.7741935483870968,\n",
              "   'precision': 0.8571428571428571,\n",
              "   'recall': 0.7058823529411765,\n",
              "   'support': 17},\n",
              "  'gnp': {'f1': 0.7692307692307692,\n",
              "   'precision': 0.8333333333333334,\n",
              "   'recall': 0.7142857142857143,\n",
              "   'support': 35},\n",
              "  'gold': {'f1': 0.6666666666666666,\n",
              "   'precision': 0.8095238095238095,\n",
              "   'recall': 0.5666666666666667,\n",
              "   'support': 30},\n",
              "  'grain': {'f1': 0.9128919860627177,\n",
              "   'precision': 0.9492753623188406,\n",
              "   'recall': 0.8791946308724832,\n",
              "   'support': 149},\n",
              "  'groundnut': {'f1': 0.0, 'precision': 0.0, 'recall': 0.0, 'support': 4},\n",
              "  'groundnut-oil': {'f1': 0.0, 'precision': 0.0, 'recall': 0.0, 'support': 1},\n",
              "  'heat': {'f1': 0.5,\n",
              "   'precision': 0.6666666666666666,\n",
              "   'recall': 0.4,\n",
              "   'support': 5},\n",
              "  'hog': {'f1': 0.4,\n",
              "   'precision': 0.5,\n",
              "   'recall': 0.3333333333333333,\n",
              "   'support': 6},\n",
              "  'housing': {'f1': 0.6666666666666666,\n",
              "   'precision': 1.0,\n",
              "   'recall': 0.5,\n",
              "   'support': 4},\n",
              "  'income': {'f1': 0.4444444444444445,\n",
              "   'precision': 1.0,\n",
              "   'recall': 0.2857142857142857,\n",
              "   'support': 7},\n",
              "  'instal-debt': {'f1': 0.0, 'precision': 0.0, 'recall': 0.0, 'support': 1},\n",
              "  'interest': {'f1': 0.8088235294117647,\n",
              "   'precision': 0.7801418439716312,\n",
              "   'recall': 0.8396946564885496,\n",
              "   'support': 131},\n",
              "  'ipi': {'f1': 0.9600000000000001,\n",
              "   'precision': 0.9230769230769231,\n",
              "   'recall': 1.0,\n",
              "   'support': 12},\n",
              "  'iron-steel': {'f1': 0.5714285714285714,\n",
              "   'precision': 0.8571428571428571,\n",
              "   'recall': 0.42857142857142855,\n",
              "   'support': 14},\n",
              "  'jet': {'f1': 0.0, 'precision': 0.0, 'recall': 0.0, 'support': 1},\n",
              "  'jobs': {'f1': 0.7272727272727273,\n",
              "   'precision': 1.0,\n",
              "   'recall': 0.5714285714285714,\n",
              "   'support': 21},\n",
              "  'l-cattle': {'f1': 0.0, 'precision': 0.0, 'recall': 0.0, 'support': 2},\n",
              "  'lead': {'f1': 0.5714285714285714,\n",
              "   'precision': 0.8571428571428571,\n",
              "   'recall': 0.42857142857142855,\n",
              "   'support': 14},\n",
              "  'lei': {'f1': 0.8,\n",
              "   'precision': 1.0,\n",
              "   'recall': 0.6666666666666666,\n",
              "   'support': 3},\n",
              "  'lin-oil': {'f1': 0.0, 'precision': 0.0, 'recall': 0.0, 'support': 1},\n",
              "  'livestock': {'f1': 0.6666666666666666,\n",
              "   'precision': 0.6666666666666666,\n",
              "   'recall': 0.6666666666666666,\n",
              "   'support': 24},\n",
              "  'lumber': {'f1': 0.2857142857142857,\n",
              "   'precision': 1.0,\n",
              "   'recall': 0.16666666666666666,\n",
              "   'support': 6},\n",
              "  'meal-feed': {'f1': 0.0, 'precision': 0.0, 'recall': 0.0, 'support': 19},\n",
              "  'misc.forsale': {'f1': 0.7032640949554896,\n",
              "   'precision': 0.8286713286713286,\n",
              "   'recall': 0.6108247422680413,\n",
              "   'support': 388},\n",
              "  'money-fx': {'f1': 0.7933884297520662,\n",
              "   'precision': 0.782608695652174,\n",
              "   'recall': 0.8044692737430168,\n",
              "   'support': 179},\n",
              "  'money-supply': {'f1': 0.8108108108108107,\n",
              "   'precision': 0.75,\n",
              "   'recall': 0.8823529411764706,\n",
              "   'support': 34},\n",
              "  'naphtha': {'f1': 0.0, 'precision': 0.0, 'recall': 0.0, 'support': 4},\n",
              "  'nat-gas': {'f1': 0.5106382978723405,\n",
              "   'precision': 0.7058823529411765,\n",
              "   'recall': 0.4,\n",
              "   'support': 30},\n",
              "  'nickel': {'f1': 0.0, 'precision': 0.0, 'recall': 0.0, 'support': 1},\n",
              "  'nkr': {'f1': 0.0, 'precision': 0.0, 'recall': 0.0, 'support': 2},\n",
              "  'nzdlr': {'f1': 0.0, 'precision': 0.0, 'recall': 0.0, 'support': 2},\n",
              "  'oat': {'f1': 0.2857142857142857,\n",
              "   'precision': 1.0,\n",
              "   'recall': 0.16666666666666666,\n",
              "   'support': 6},\n",
              "  'oilseed': {'f1': 0.417910447761194,\n",
              "   'precision': 0.7,\n",
              "   'recall': 0.2978723404255319,\n",
              "   'support': 47},\n",
              "  'orange': {'f1': 0.7058823529411764,\n",
              "   'precision': 1.0,\n",
              "   'recall': 0.5454545454545454,\n",
              "   'support': 11},\n",
              "  'palladium': {'f1': 0.0, 'precision': 0.0, 'recall': 0.0, 'support': 1},\n",
              "  'palm-oil': {'f1': 0.588235294117647,\n",
              "   'precision': 0.7142857142857143,\n",
              "   'recall': 0.5,\n",
              "   'support': 10},\n",
              "  'palmkernel': {'f1': 0.0, 'precision': 0.0, 'recall': 0.0, 'support': 1},\n",
              "  'pet-chem': {'f1': 0.0, 'precision': 0.0, 'recall': 0.0, 'support': 12},\n",
              "  'platinum': {'f1': 0.0, 'precision': 0.0, 'recall': 0.0, 'support': 7},\n",
              "  'potato': {'f1': 0.0, 'precision': 0.0, 'recall': 0.0, 'support': 3},\n",
              "  'propane': {'f1': 0.0, 'precision': 0.0, 'recall': 0.0, 'support': 3},\n",
              "  'rand': {'f1': 0.0, 'precision': 0.0, 'recall': 0.0, 'support': 1},\n",
              "  'rape-oil': {'f1': 0.0, 'precision': 0.0, 'recall': 0.0, 'support': 3},\n",
              "  'rapeseed': {'f1': 0.6153846153846153,\n",
              "   'precision': 1.0,\n",
              "   'recall': 0.4444444444444444,\n",
              "   'support': 9},\n",
              "  'rec.autos': {'f1': 0.6153846153846153,\n",
              "   'precision': 0.8695652173913043,\n",
              "   'recall': 0.47619047619047616,\n",
              "   'support': 378},\n",
              "  'rec.motorcycles': {'f1': 0.47908745247148293,\n",
              "   'precision': 0.9402985074626866,\n",
              "   'recall': 0.32142857142857145,\n",
              "   'support': 392},\n",
              "  'rec.sport.baseball': {'f1': 0.7247956403269755,\n",
              "   'precision': 0.7621776504297995,\n",
              "   'recall': 0.6909090909090909,\n",
              "   'support': 385},\n",
              "  'rec.sport.hockey': {'f1': 0.8011444921316165,\n",
              "   'precision': 0.9120521172638436,\n",
              "   'recall': 0.7142857142857143,\n",
              "   'support': 392},\n",
              "  'reserves': {'f1': 0.6896551724137931,\n",
              "   'precision': 0.9090909090909091,\n",
              "   'recall': 0.5555555555555556,\n",
              "   'support': 18},\n",
              "  'retail': {'f1': 0.6666666666666666,\n",
              "   'precision': 1.0,\n",
              "   'recall': 0.5,\n",
              "   'support': 2},\n",
              "  'rice': {'f1': 0.48484848484848486,\n",
              "   'precision': 0.8888888888888888,\n",
              "   'recall': 0.3333333333333333,\n",
              "   'support': 24},\n",
              "  'rubber': {'f1': 0.7368421052631579,\n",
              "   'precision': 1.0,\n",
              "   'recall': 0.5833333333333334,\n",
              "   'support': 12},\n",
              "  'rye': {'f1': 0.0, 'precision': 0.0, 'recall': 0.0, 'support': 1},\n",
              "  'sci.crypt': {'f1': 0.532620320855615,\n",
              "   'precision': 0.45027124773960214,\n",
              "   'recall': 0.6518324607329843,\n",
              "   'support': 382},\n",
              "  'sci.electronics': {'f1': 0.4360189573459716,\n",
              "   'precision': 0.552,\n",
              "   'recall': 0.360313315926893,\n",
              "   'support': 383},\n",
              "  'sci.med': {'f1': 0.6845637583892618,\n",
              "   'precision': 0.9622641509433962,\n",
              "   'recall': 0.53125,\n",
              "   'support': 384},\n",
              "  'sci.space': {'f1': 0.5963636363636363,\n",
              "   'precision': 0.9820359281437125,\n",
              "   'recall': 0.4281984334203655,\n",
              "   'support': 383},\n",
              "  'ship': {'f1': 0.7239263803680981,\n",
              "   'precision': 0.7972972972972973,\n",
              "   'recall': 0.6629213483146067,\n",
              "   'support': 89},\n",
              "  'silver': {'f1': 0.0, 'precision': 0.0, 'recall': 0.0, 'support': 8},\n",
              "  'soc.religion.christian': {'f1': 0.6339468302658486,\n",
              "   'precision': 0.5245346869712352,\n",
              "   'recall': 0.8010335917312662,\n",
              "   'support': 387},\n",
              "  'sorghum': {'f1': 0.18181818181818182,\n",
              "   'precision': 1.0,\n",
              "   'recall': 0.1,\n",
              "   'support': 10},\n",
              "  'soy-meal': {'f1': 0.0, 'precision': 0.0, 'recall': 0.0, 'support': 13},\n",
              "  'soy-oil': {'f1': 0.0, 'precision': 0.0, 'recall': 0.0, 'support': 11},\n",
              "  'soybean': {'f1': 0.15384615384615385,\n",
              "   'precision': 0.5,\n",
              "   'recall': 0.09090909090909091,\n",
              "   'support': 33},\n",
              "  'strategic-metal': {'f1': 0.0,\n",
              "   'precision': 0.0,\n",
              "   'recall': 0.0,\n",
              "   'support': 11},\n",
              "  'sugar': {'f1': 0.8064516129032258,\n",
              "   'precision': 0.9615384615384616,\n",
              "   'recall': 0.6944444444444444,\n",
              "   'support': 36},\n",
              "  'sun-meal': {'f1': 0.0, 'precision': 0.0, 'recall': 0.0, 'support': 1},\n",
              "  'sun-oil': {'f1': 0.0, 'precision': 0.0, 'recall': 0.0, 'support': 2},\n",
              "  'sunseed': {'f1': 0.0, 'precision': 0.0, 'recall': 0.0, 'support': 5},\n",
              "  'talk.politics.guns': {'f1': 0.2127659574468085,\n",
              "   'precision': 0.6716417910447762,\n",
              "   'recall': 0.12640449438202248,\n",
              "   'support': 356},\n",
              "  'talk.politics.mideast': {'f1': 0.7250341997264022,\n",
              "   'precision': 0.7402234636871509,\n",
              "   'recall': 0.710455764075067,\n",
              "   'support': 373},\n",
              "  'talk.politics.misc': {'f1': 0.41296928327645055,\n",
              "   'precision': 0.4336917562724014,\n",
              "   'recall': 0.3941368078175896,\n",
              "   'support': 307},\n",
              "  'talk.religion.misc': {'f1': 0.0,\n",
              "   'precision': 0.0,\n",
              "   'recall': 0.0,\n",
              "   'support': 246},\n",
              "  'tea': {'f1': 0.0, 'precision': 0.0, 'recall': 0.0, 'support': 4},\n",
              "  'tin': {'f1': 0.5882352941176471,\n",
              "   'precision': 1.0,\n",
              "   'recall': 0.4166666666666667,\n",
              "   'support': 12},\n",
              "  'trade': {'f1': 0.7913043478260869,\n",
              "   'precision': 0.8053097345132744,\n",
              "   'recall': 0.7777777777777778,\n",
              "   'support': 117},\n",
              "  'veg-oil': {'f1': 0.5714285714285715,\n",
              "   'precision': 0.8421052631578947,\n",
              "   'recall': 0.43243243243243246,\n",
              "   'support': 37},\n",
              "  'wheat': {'f1': 0.7999999999999999,\n",
              "   'precision': 0.9259259259259259,\n",
              "   'recall': 0.704225352112676,\n",
              "   'support': 71},\n",
              "  'wpi': {'f1': 0.8235294117647058,\n",
              "   'precision': 1.0,\n",
              "   'recall': 0.7,\n",
              "   'support': 10},\n",
              "  'yen': {'f1': 0.3333333333333333,\n",
              "   'precision': 0.75,\n",
              "   'recall': 0.21428571428571427,\n",
              "   'support': 14},\n",
              "  'zinc': {'f1': 0.7272727272727274,\n",
              "   'precision': 0.8888888888888888,\n",
              "   'recall': 0.6153846153846154,\n",
              "   'support': 13}},\n",
              " 'f1-score': 0.5646481803703589,\n",
              " 'precision': 0.7414827154806805,\n",
              " 'recall': 0.5302321396436926,\n",
              " 'support': 11114}"
            ]
          },
          "metadata": {
            "tags": []
          },
          "execution_count": 257
        }
      ]
    },
    {
      "cell_type": "code",
      "metadata": {
        "id": "nFhPC2q9zpsm",
        "outputId": "e8f57954-1776-4fe8-86f5-feee5f2c7f3a",
        "colab": {
          "base_uri": "https://localhost:8080/",
          "height": 34
        }
      },
      "source": [
        "all_dataframes_test['title'][10360]"
      ],
      "execution_count": null,
      "outputs": [
        {
          "output_type": "execute_result",
          "data": {
            "text/plain": [
              "['money-fx']"
            ]
          },
          "metadata": {
            "tags": []
          },
          "execution_count": 179
        }
      ]
    },
    {
      "cell_type": "code",
      "metadata": {
        "id": "3s6-rJGlq9BH"
      },
      "source": [
        "nltk_tokens = nltk.word_tokenize(text)\n"
      ],
      "execution_count": null,
      "outputs": []
    },
    {
      "cell_type": "code",
      "metadata": {
        "id": "hbh2CiAi0E_I"
      },
      "source": [
        "x=all_dataframes_test['text'][10360]\n"
      ],
      "execution_count": null,
      "outputs": []
    },
    {
      "cell_type": "code",
      "metadata": {
        "id": "ykcqh6DN0pyK"
      },
      "source": [
        "text=all_dataframes_test['text'][10001]"
      ],
      "execution_count": null,
      "outputs": []
    },
    {
      "cell_type": "code",
      "metadata": {
        "id": "QScrCCpl2r87",
        "outputId": "764cae2b-ad6b-408b-e881-15e11a810630",
        "colab": {
          "base_uri": "https://localhost:8080/",
          "height": 69
        }
      },
      "source": [
        "text"
      ],
      "execution_count": null,
      "outputs": [
        {
          "output_type": "execute_result",
          "data": {
            "application/vnd.google.colaboratory.intrinsic+json": {
              "type": "string"
            },
            "text/plain": [
              "'jepson corp qtr net shr ct v ct net v sale mln v mln avg shrs mln v mln nine mths shr ct v ct net mln v mln sale mln v mln avg shrs mln v mln qtr per share reflects issuance of two mln share in initial public nine mth result include extraordinary gain of dlrs or ct'"
            ]
          },
          "metadata": {
            "tags": []
          },
          "execution_count": 253
        }
      ]
    },
    {
      "cell_type": "code",
      "metadata": {
        "id": "od1HY3sr6JLz"
      },
      "source": [
        "all_dataframes_train.to_csv(\"train_allDatasets.csv\")\n",
        "all_dataframes_test.to_csv(\"test_allDatasets.csv\")\n"
      ],
      "execution_count": null,
      "outputs": []
    },
    {
      "cell_type": "code",
      "metadata": {
        "id": "h1eT7Wij6Vf_"
      },
      "source": [
        "!cp '/content/train_allDatasets.csv' '/content/drive/My Drive/'\n",
        "!cp '/content/test_allDatasets.csv' '/content/drive/My Drive/'"
      ],
      "execution_count": null,
      "outputs": []
    },
    {
      "cell_type": "code",
      "metadata": {
        "id": "vJVFQ1gr6rQH"
      },
      "source": [
        ""
      ],
      "execution_count": null,
      "outputs": []
    }
  ]
}