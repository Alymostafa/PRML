{
 "cells": [
  {
   "cell_type": "markdown",
   "metadata": {},
   "source": [
    "# Feedforward Nerual Networks\n",
    "\n",
    "In this notebook, we show how neural networks described in chapter 5 of PRML can be implemented. \n",
    "\n",
    "Because the notation of the book has ambiguity, we first describe the formulation in detail, and then move to the corresponding code. "
   ]
  },
  {
   "cell_type": "code",
   "execution_count": 1,
   "metadata": {
    "collapsed": true
   },
   "outputs": [],
   "source": [
    "import numpy as np\n",
    "import matplotlib as mpl\n",
    "from matplotlib import pyplot as plt\n",
    "import time\n",
    "\n",
    "%matplotlib inline\n",
    "plt.rcParams['axes.labelsize'] = 14\n",
    "plt.rcParams['xtick.labelsize'] = 12\n",
    "plt.rcParams['ytick.labelsize'] = 12\n",
    "\n",
    "#to make this notebook's output stable across runs\n",
    "np.random.seed(42)"
   ]
  },
  {
   "cell_type": "markdown",
   "metadata": {},
   "source": [
    "# 1 Setting\n",
    "\n",
    "Although we consider multiclass classification problem in our implementation, in Sections 1 and 2, we formulate the problem from broader perspectives, where we include regression, binary classification, and multiclass classification problems.\n",
    "\n",
    "Let us define symbols as follows: \n",
    "* $N \\in \\mathbb{N}$ : data size, \n",
    "* $d \\in \\mathbb{N}$ : the dimension of input, \n",
    "* Denote input data by $x_0, x_1, \\dots , x_{N-1} \\in \\mathbb{R}^{d}$. \n",
    "* For a regression problems, denote target data by $t_0, t_1, \\dots, t_{N-1} \\in \\mathbb{R}$. \n",
    "* For a binary classification problem, denote target data by $t_0, t_1, \\dots, t_{N-1} \\in \\{ 0, 1 \\}$.\n",
    "* For a multiclass classification problem, let $\\mathcal{C} = \\left\\{ 0, 1, \\dots, C-1 \\right\\}$ be the set of class labels, $t_0, t_1, \\dots, t_{N-1} \\in \\left\\{0,1\\right\\}^{C}$ be the 1-of-$C$ coding of target labels, i.e., if $n$-th label is $c$, $t_n$ is a vector with its $c$ th component being 1 and other components being zero. "
   ]
  },
  {
   "cell_type": "markdown",
   "metadata": {},
   "source": [
    "# 2 Theory\n",
    "\n",
    "## 2.1 Model : the representation of neural networks\n",
    "\n",
    "We consider $L$-layer feedforward neural networks (feedforward neural networks with $L-1$ hidden layers) such as one shown in the following figure: \n",
    "<img src=\"NNfig.png\" alt=\"Drawing\" style=\"width: 600px;\"/>\n",
    "\n",
    "For simplicity, we assume that there is no skip-layer connection, i.e.,  each element in a layer is connected only to elements in its adjacent layer. \n",
    "\n",
    "In this section, we write down the definition of functions representing a neural network. Specifically, we decompose the function representing the neural network, so that we can extract contributions of parameters from a specified layer, for calculation of gradient in the next section, where we want derivative with respect to parameters from each layer. \n",
    "\n",
    "### 2.1.1 The number of elements and the dimension\n",
    "\n",
    "Let $n_l \\in \\mathbb{N}$ be the number of elements in the $l$-th layer. \n",
    "It follows that $n_0 = d$, and $n_L$ is the dimension of the output, which will be specified later.\n",
    "\n",
    "\n",
    "### 2.1.2 Activation functions\n",
    "\n",
    "Again for somplicity, we assume that activation functions for $l$-th layer with $l=1,2,\\dots,L-1$ are all \n",
    "$h : \\mathbb{R} \\rightarrow \\mathbb{R}$. $h$ can be, for example, logstic sigmoid function, tanh, ReLU and so on.\n",
    "Also, we define $h^{(l)}$ by\n",
    "\n",
    "$$\n",
    "\\begin{align}\n",
    "    h^{(l)} : \\mathbb{R}^{n_l} \\rightarrow \\mathbb{R}^{n_l}, \\ \\ \n",
    "    h^{(l)}(a) = (h(a_1), h(a_2), \\dots, h(a_{n_l}))^T \\ \\in \\mathbb{R}^{n_l}.\n",
    "\\end{align}\n",
    "$$\n",
    "\n",
    "Let us denote the activation function for the output layer by\n",
    "$g : \\mathbb{R}^{n_L} \\rightarrow \\mathbb{R}^{n_L}$. \n",
    "\n",
    "Concretely, $g$ can be chosen as below:\n",
    "* For binary classification, $g$ can be logistic sigmoid function, and $n_L = 1$. \n",
    "* For multiclass classification, $g$ can be softmax function, and $n_L = C$, where $C$ is the number of class labels.\n",
    "* For regression, $g$ can be an identity map, and $n_L = 1$.\n",
    "\n",
    "### 2.1.3 The input and output of each layer\n",
    "\n",
    "Let us define\n",
    "* $z^{(l)} \\in \\mathbb{R}^{n_l}$ : the output from the $l$-th layer\n",
    "* $a^{(l)} \\in \\mathbb{R}^{n_{l+1}}$ : the input to the $(l+1)$-th layer\n",
    "\n",
    "Then, \n",
    "$$\n",
    "\\begin{align}\n",
    "    z^{(l)} = h^{(l)}(a^{(l-1)})\n",
    "\\end{align}\n",
    "$$\n",
    "follows. \n",
    "\n",
    "Let us also define parameters as follows\n",
    "* $w^{(l)}_{i,j}$ : the weight of $j$-th element of $l$-th layer on the $i$-th element of$(l+1)$-th layer. \n",
    "* $b^{(l)}_{i}$ : the bias of $i$-th element of $(l+1)$-th layer.\n",
    "\n",
    "If we define \n",
    "$w^{(l)} = (w^{(l)}_{i,j})_{i,j}$ ($n_{l+1} \\times n_{l}$ matrix) and  \n",
    "$b^{(l)} = (b^{(l)}_{1}, b^{(l)}_{2}, \\dots, b^{(l)}_{n_{l+1}})^T$, \n",
    "then we have\n",
    "\n",
    "$$\n",
    "\\begin{align}\n",
    "    a^{(l)} = w^{(l)} z^{(l)} + b^{(l)}\n",
    "\\end{align}\n",
    "$$\n",
    "\n",
    "For later convenience, we denote this affine mapping by \n",
    "$$\n",
    "\\begin{align}\n",
    "    A^{(l)}_{\\theta^{(l)}} : \\mathbb{R}^{n_{l}} \\rightarrow \\mathbb{R}^{n_{l+1}}  , \\ \\ A^{(l)}_{\\theta^{(l)} }(z) := w^{(l)}z + b^{(l)}\n",
    "\\end{align}, \n",
    "$$\n",
    "where $\\theta^{(l)} := (w^{(l)}, b^{(l)})$.\n",
    "\n",
    "### 2.1.4 The whole network\n",
    "\n",
    "Let a function $f_{\\theta} : \\mathbb{R}^{n_0} \\rightarrow \\mathbb{R}^{n_L}$ be the function that represents the whole neural network we defined above. \n",
    "\n",
    "From the definitions above, it can be written as \n",
    "\n",
    "$$\n",
    "\\begin{align}\n",
    "    f_{\\theta} = g \\circ A^{(L-1)}_{\\theta^{(L-1)}} \\circ h^{(L-1)} \\circ A^{(L-2)}_{\\theta^{(L-2)}} \\circ \\cdots \n",
    "        A^{(l+1)}_{\\theta^{(l+1)}} \\circ h^{(l+1)} \\circ A^{(l)}_{\\theta^{(l)}} \\circ h^{(l)} \\circ A^{(l-1)}_{\\theta^{(l-1)}} \n",
    "        \\circ \\cdots \\circ h^{(1)} \\circ A^{(0)}_{\\theta^{(0)}} . \n",
    "\\end{align}\n",
    "$$\n",
    "\n",
    "\n",
    "If we focus on parameters $\\theta^{(l)}$, we can decompose the function as \n",
    "$$\n",
    "\\begin{align}\n",
    "    f_{\\theta} = F^{(l)} \\circ A^{(l)}_{\\theta^{(l)}}  \\circ Z^{(l)} \n",
    "    \\ \\ (l = 0, \\dots, L-1), \n",
    "\\end{align}\n",
    "$$\n",
    "\n",
    "where\n",
    "\n",
    "$$\n",
    "\\begin{align}\n",
    "    F^{(l)} &:= g \\circ A^{(L-1)}_{\\theta^{(L-1)}} \\circ h^{(L-1)} \\circ A^{(L-2)}_{\\theta^{(L-2)}} \\circ \\cdots \n",
    "        A^{(l+1)}_{\\theta^{(l+1)}} \\circ h^{(l+1)}  \\ \\ (l = 0,1, \\dots, L-2) \\\\\n",
    "    F^{(L-1)} &:= g \\\\\n",
    "    Z^{(l)} &:= h^{(l)} \\circ A^{(l-1)}_{\\theta^{(l-1)}} \\circ \\cdots \\circ h^{(1)} \\circ A^{(0)}_{\\theta^{(0)}}  \\ \\ (l = 1, \\dots, L-1)\\\\\n",
    "    Z^{(0)} &:= I\n",
    "\\end{align}\n",
    "$$\n",
    "\n",
    "Note that in the representation $f_{\\theta} = F^{(l)} \\circ A^{(l)}_{\\theta^{(l)}}  \\circ Z^{(l)}$, \n",
    "$A^{(l)}_{\\theta^{(l)}}$ is the only part that contains $\\theta^{(l)}$, \n",
    "which will simplify our calculation of gradients in the next section. "
   ]
  },
  {
   "cell_type": "markdown",
   "metadata": {},
   "source": [
    "## 2.2 Cost functions and its gradient\n",
    "\n",
    "### 2.2.1 Cost functions\n",
    "\n",
    "We assume that, in training the neural network, we minimize the following cost function\n",
    "$$\n",
    "\\begin{align}\n",
    "    E_{tot}(\\theta) = \\frac{1}{N} \\sum_{n=1}^{N} E \\left( f_{\\theta}(x_n), t_n \\right) + \\frac{\\lambda}{2N} \\|\\theta \\|^2 , \n",
    "\\end{align}\n",
    "$$\n",
    "where $\\lambda$ is the regularization parameter, \n",
    "and $E$ is chosen appropriately depending on the problem: \n",
    "* For regression problem, $E$ can be $E(y,t) = \\frac{1}{2} \\| y - t \\|^2$ and so on.\n",
    "* For multiclass classification problem with $g$ being softmax functions, E can be $E(y,t) = -\\sum_{k=0}^{d_{out}-1} t_k \\log y_k$ (negative log likelihood).\n",
    "\n",
    "### 2.2.2 Gradient \n",
    "\n",
    "Here, we calculate the gradient of the cost function with respect to parameters $w, b$. \n",
    "We consider the regularization term separately, and concentrate on the first term. \n",
    "We can treat each data point separately because this term has the form of summation over data.\n",
    "\n",
    "The gradient for each term can be calculated as follows\n",
    "($l = 0,1,\\dots, L-1$, $i=0, 1, \\dots, n_{l+1}-1$, $j=0, 1, \\dots, n_{l}-1$):\n",
    "\n",
    "$$\n",
    "\\begin{align}\n",
    "    \\delta^{(l)}_{i} &:= \\sum_{k=0}^{n_L-1} \\left. \\frac{\\partial E}{\\partial y_k} \\right|_{y=f_{\\theta}(x)} \\cdot \n",
    "        \\left. \\frac{\\partial F^{(l)}_{k}}{\\partial a^{(l)}_{i}} \\right|_{a^{(l)}= (A^{(l)} \\circ Z^{(l)})(x) } \\\\\n",
    "    \\frac{\\partial}{\\partial w^{(l)}_{i,j}} E \\left( f_{\\theta}(x), t \\right) &= \\delta^{(l)}_{i} Z^{(l)}_{j}(x) \\\\\n",
    "    \\frac{\\partial}{\\partial b^{(l)}_{i}} E \\left( f_{\\theta}(x), t \\right) &= \\delta^{(l)}_{i} \n",
    "\\end{align}\n",
    "$$\n",
    "which can be derived straightforwardly from the definition of $f_{\\theta}$ and the cost function given above.\n",
    "\n",
    "Thus, to obtain the gradient, it is sufficient to calculate the quantities $\\delta^{(l)}_{i}$. \n",
    "Here, $\\delta^{(l)}_{i}$ represents how much the cost function changes when $a^{(l)}_{i}$, the input to the $i$-th element of $(l+1)$-th layer, changes slightly. We may denote $\\delta^{(l)}_{i}$ ($i=0,1, \\dots, n_{l+1}-1$) collectively by $\\delta^{(l)}$.\n",
    "\n",
    "In the next section, we discuss back propagation, which is an algorithm to calculate these quantities recursively. \n",
    "\n",
    "\n",
    "### 2.2.3 Back propagation\n",
    "\n",
    "In back propagation procedure, we calculate $\\delta^{(l)}_{i}$, begining from $l=L-1$, and all the way down to $l=0$. \n",
    "\n",
    "First, for $l=L-1$, we have $F^{(L-1)} = g$, and hence\n",
    "\n",
    "$$\n",
    "\\begin{align}\n",
    "    \\delta^{(L-1)}_{i} = \\sum_{k=0}^{n_L-1} \\left. \\frac{\\partial E}{\\partial y_k} \\right|_{y=f_{\\theta}(x)} \\cdot \n",
    "        \\left. \\frac{\\partial g_{k}}{\\partial a^{(L-1)}_{i}} \\right|_{a^{(L-1)}= (A^{(L-1)} \\circ Z^{(L-1)})(x) }\n",
    "\\end{align}\n",
    "$$\n",
    "\n",
    "This can be easily calculated for various problems : \n",
    "* For least square regression, we have $E(y,t) = \\frac{1}{2} \\| y - t \\|^2$, $g(a) = a$, and hence $\\delta^{(L-1)}_{i} = (f_{\\theta}(x) - t)_{i}$. \n",
    "* For multiclass classification with $E(y,t) = -\\sum_{k=0}^{d_{out}-1} t_k \\log y_k$, $g_k(a) = \\frac{e^{a_k}}{\\sum_{m} e^{a_m}}$, we obtain $\\delta^{(L-1)}_{i} = (f_{\\theta}(x) - t)_{i}$. \n",
    "\n",
    "Next, assume that we have obtained $\\delta^{(l+1)}$ for a specific $l \\leq L - 2$. \n",
    "We can derive a recursion equation where $\\delta^{(l)}$ can be calculated from $\\delta^{(l+1)}$ as follows:\n",
    "$$\n",
    "\\begin{align}\n",
    "    \\delta^{(l)}_{i} = h'(a^{(l)}_{i}) \\sum_{j=0}^{n_{l+2}-1} \\delta^{(l+1)}_{j} w^{(l+1)}_{j,i}\n",
    "\\end{align}\n",
    "$$\n",
    "This equation can be drived easily by noting the relation $F^{(l)} = F^{(l+1)} \\circ A^{(l+1)}_{\\theta^{(l+1)}} \\circ h^{(l+1)}$."
   ]
  },
  {
   "cell_type": "markdown",
   "metadata": {},
   "source": [
    "## 2.3 More on backpropagation\n",
    "\n",
    "Having described the theory of back propagation in the previous section, we move a step forward to implement the idea.\n",
    "\n",
    "### 2.3.1 Change of notations\n",
    "\n",
    "From now on, to make the implementation simple, we treat weight $w$ and bias $b$ equally by defining \n",
    "$$\n",
    "\\begin{align}\n",
    "    W^{(l)}_{i,j} = \n",
    "    \\begin{cases}\n",
    "        b^{(l)}_{i} & (j=0) \\\\\n",
    "        w^{(l)}_{i,j-1} & (j = 1,2, \\dots, n_{l})\n",
    "    \\end{cases}\n",
    "    \\ \\ (i = 0,1, \\dots,n_{l+1} -1 ) , \n",
    "\\end{align}\n",
    "$$\n",
    "where $W^{(l)}$ is $n_{l+1} \\times (n_{l}+1)$ matrix, and \n",
    "$$\n",
    "\\begin{align}\n",
    "    \\tilde{z}^{(l)}_{i} = \n",
    "    \\begin{cases}\n",
    "        1 & (i=0) \\\\\n",
    "        z^{(l)}_{i-1} & (i = 1, \\dots, n_l)\n",
    "    \\end{cases}\n",
    "\\end{align}\n",
    "$$\n",
    "With these notations, we have\n",
    "$$\n",
    "\\begin{align}\n",
    "    a^{(l)} &= W^{(l)} \\tilde{z}^{(l)} \\\\\n",
    "    \\tilde{z}^{(l)} &= \n",
    "        \\begin{pmatrix}\n",
    "            1 \\\\\n",
    "            z^{(l)}\n",
    "        \\end{pmatrix} \\\\\n",
    "    \\frac{\\partial}{\\partial W^{(l)}_{i,j}} E(f_{\\theta}(x),t) &= \\delta^{(l)}_{i} \\tilde{z}^{(l)}_{j}\n",
    "\\end{align}\n",
    "$$\n",
    "\n",
    "### 2.3.2 Gradient for a single data point\n",
    "\n",
    "For a data point $(x, t)$ we perform the following calculation : \n",
    "\n",
    "* Calculate $a, z$ for each layer (forward propagation) by \n",
    "\n",
    "$$\n",
    "\\begin{align}\n",
    "    a^{(l)} &= W^{(l)} \\tilde{z}^{(l)}  \\ \\ (\\tilde{z}^{(0)} := (1,x^T)^T) \\ \\ (l=0, 1, \\dots, L-1) ,\\\\\n",
    "     \\tilde{z}^{(l)} &=\n",
    "        \\begin{pmatrix}\n",
    "            1 \\\\\n",
    "            z^{(l)}\n",
    "        \\end{pmatrix}\\ \\ (l=1,\\dots, L-1) \\\\\n",
    "    y &= g(a^{(L-1)})\n",
    "\\end{align}\n",
    "$$\n",
    "\n",
    "* Calculate $\\delta^{(L-1)}$. For examples described in section 3.3, we have\n",
    "\n",
    "\\begin{equation}\n",
    "    \\delta^{(L-1)}_i = (y - t)_i . \n",
    "\\end{equation}\n",
    "\n",
    "* Recursively calculate $\\delta^{(l)}_{i}$ ($l= L-2, L-1, \\dots, 1, 0$) by \n",
    "\n",
    "\\begin{equation}\n",
    "    \\delta^{(l)}_{i} = h'(a^{(l)}_{i}) \\sum_{j=1}^{n_{l+2}} \\delta^{(l+1)}_{j} w^{(l+1)}_{j,i}\n",
    "\\end{equation}\n",
    "where $i = 0,1, \\dots, n_{l+1} - 1$\n",
    "\n",
    "* Calculate the gradient using $\\delta$\n",
    "\n",
    "\\begin{eqnarray}\n",
    "    \\frac{\\partial}{\\partial W^{(l)}_{i,j}} E(f_{\\theta}(x),t) &=& \\delta^{(l)}_{i} \\tilde{z}^{(l)}_{j}\n",
    "\\end{eqnarray}"
   ]
  },
  {
   "cell_type": "markdown",
   "metadata": {},
   "source": [
    "## 2.4 Optimization by gradient descent\n",
    "\n",
    "To numerically minimize the cost function, here we use gradient descent method.\n",
    "\n",
    "In gradient descent method, we iteratively update our variable in the direction of gradient, i.e., if we denote the function to be minimized by $f$ and its variable by $x$, then in the $n$-th step of iteration, we have\n",
    "$$\n",
    "\\begin{align}\n",
    "    x_{n+1} = x_n - \\alpha \\nabla f(x_n)\n",
    "\\end{align}\n",
    "$$\n",
    "where $\\alpha > 0$ is learning rate, which should be specified by the user."
   ]
  },
  {
   "cell_type": "markdown",
   "metadata": {},
   "source": [
    "# 3 From math to code\n",
    "\n",
    "Now, we translate our equations described above into codes. \n",
    "To perform computation efficiently, we utilize numpy array operation so that we do not have to code iteration over samples explicitly.\n",
    "\n",
    "\n",
    "## 3.1 Overview \n",
    "\n",
    "Before delving into the detail, let me give an overview: \n",
    "\n",
    "* First, we list up some variables, and prepare some utility functions in Section 3.2.\n",
    "* Next, we define functions performing forward propagation (`fprop`) and backward propagation (`bprop`) in Sections 3.3 and 3.4 respectively. Section 3.5 deals with the cost function and its gradient.\n",
    "* Then, we will define a function performing minimization using gradient descent method in Section 3.6.\n",
    "* Finally, in Section 3.7, we write `FFNN` class, which represents our neural network."
   ]
  },
  {
   "cell_type": "markdown",
   "metadata": {},
   "source": [
    "## 3.2 Variables\n",
    "\n",
    "Let us define some variable as follows.\n",
    "\n",
    "* `num_neurons` : ($L+1$,) array, where `num_neurons[l] = ` $n_{l}$ with $n_{0} = d$.\n",
    "* `act_func` : activation function $h$.\n",
    "* `act_func_deriv` : the derivative of the activation function, $h'$.\n",
    "* `out_act_func` : the activation function for the output layer, $g$.\n",
    "* `E` : a function representing the first term of the cost function, or more concretely $\\frac{1}{N} \\sum_{n=0}^{N-1}E(y_n, t_n)$\n",
    "* `lam` : the regularization constant $\\lambda$\n",
    "* `W_matrices` : ($L$,) array, with `dtype='object'`, `W_matrices[l][i, j]` = $W^{(l)}_{i,j}$, \n",
    "\n",
    "The variables shown above mainly concerns the structure and the contents of neural networks.\n",
    "\n",
    "Let us define some auxiliary matrices which depends on input data as follows:\n",
    "* `X` : ($N, d_{in}$) array. The input data, where `X[n, i]` $= X_{n, i} :=(x_{n})_{i}$\n",
    "* `C` : int, the number of categories we deal with.\n",
    "* `y` : ($N$,) array. The label data. Each element of `y` should be one of `0,1, ... , C-1`.\n",
    "* `T` : ($N, d_{out}$) array. The 1-of-C coding of the label data, where `T[n, i]` $= T_{n, i} := (t_{n})_{i}$\n",
    "* `Y` : ($N, d_{out}$) array. `Y[n, i]` = $Y_{n, i} := $the $i$-th element of the output from the neural network given the input $x_{n}$.\n",
    "* `A_matrices` : ($L$,) array, with `dtype='object'`, `A_matrices[l][n, i]` = $A^{(l)}_{n, i}$ := ($a^{(l)}_{i}$ for the $n$-th data point $x_n$). Note that $A^{(l)}$ is a $(N, n_{l+1})$ array.\n",
    "* `Z_matrices` : ($L$,) array, with `dtype='object'`, `z_matrices[l][n, i]` = $Z^{(l)}_{n, i}$ := ($\\tilde{z}^{(l)}_{i}$ for the $n$-th data point $x_n$). Note that $Z^{(l)}$ is a $(N, n_l+1)$ array.\n",
    "* `D_matrices` : ($L$,) array, with `dtype='object'`, `D_matrices[l][n, i]` = $\\Delta^{(l)}_{n,i} := (\\delta^{(l)}_{i}$ for the $n$-th data point $(x_n, t_n)$). Note that $\\Delta^{(l)}$ is a $(N, n_{l+1})$ array.\n",
    "\n",
    "\n",
    "We included the subscript $n$ in each matrix, because we want to iterate over data points by taking advantage of numpy array operation (For detail, see the next section.).\n",
    "\n",
    "Frist, we define a function which calculate 1-of-C encoding of the target variable."
   ]
  },
  {
   "cell_type": "code",
   "execution_count": 2,
   "metadata": {
    "collapsed": true
   },
   "outputs": [],
   "source": [
    "def calcTmat(y, C):\n",
    "    '''\n",
    "    This function generates the matrix T from the training label y and the number of classes C\n",
    "    \n",
    "    Parameters\n",
    "    ----------\n",
    "    y : 1-D numpy array\n",
    "        The elements of y should be integers in [0, C-1]\n",
    "    C : int\n",
    "        The number of classes\n",
    "        \n",
    "    Returns\n",
    "    ----------\n",
    "    T : (len(y), C) numpy array\n",
    "        T[n, c] = 1 if y[n] == c else 0\n",
    "    '''\n",
    "    N = len(y)\n",
    "    T = np.zeros((N, C))\n",
    "    for c in range(C):\n",
    "        T[:, c] = (y == c)\n",
    "    return T"
   ]
  },
  {
   "cell_type": "markdown",
   "metadata": {},
   "source": [
    "\n",
    "We defined `W_matrices` as a ($L$,) array, whose element `W_matrices[l]` is a $(n_{l+1}, n_l + 1)$ array.\n",
    "However, for minimization process, it is easier to handle vector variables. \n",
    "Thus, for later convenience, here we define a function which transforms the 1-D array of arrays into a single vector and vice versa."
   ]
  },
  {
   "cell_type": "code",
   "execution_count": 3,
   "metadata": {
    "collapsed": true
   },
   "outputs": [],
   "source": [
    "def reshape_vec2mat(vec, num_neurons):\n",
    "    '''\n",
    "    vec : 1-D numpy array, dtype float\n",
    "        Vector, which we will convert into an array of matrices\n",
    "    num_neurons : 1-D array, dtype int\n",
    "        An array representing the structure of a neural network\n",
    "    '''\n",
    "    L = len(num_neurons) - 1\n",
    "    matrices = np.zeros(L, dtype='object')\n",
    "    ind = 0\n",
    "    for l in range(L):\n",
    "        mat_size = num_neurons[l+1] * (num_neurons[l] + 1)\n",
    "        matrices[l] = np.reshape(vec[ind: ind + mat_size], ( num_neurons[l+1], num_neurons[l] + 1) )\n",
    "        ind += mat_size        \n",
    "    return matrices\n",
    "\n",
    "def reshape_mat2vec(matrices, num_neurons):\n",
    "    '''\n",
    "    matrices : 1-D numpy array, dtype object\n",
    "        An array of matrices (2-D numpy array), which we will convert into a flattened 1-D array of float.\n",
    "    num_neurons : 1-D array, dtype int\n",
    "        An array representing the structure of a neural network\n",
    "    '''\n",
    "    L = len(num_neurons) - 1\n",
    "    vec = np.zeros( np.sum(num_neurons[1:]*(num_neurons[:L] + 1)) )\n",
    "    ind = 0\n",
    "    for l in range(L):\n",
    "        mat_size = num_neurons[l+1]*(num_neurons[l] + 1)\n",
    "        vec[ind:ind+mat_size] = np.reshape(matrices[l], mat_size)\n",
    "        ind += mat_size\n",
    "    return vec"
   ]
  },
  {
   "cell_type": "markdown",
   "metadata": {},
   "source": [
    "## 3.3 forward propagation\n",
    "\n",
    "In forward propagation, we calculate $A^{(l)}$ and $Z^{(l)}$ ($l=0,1,\\dots, L-1$) by \n",
    "\n",
    "$$\n",
    "\\begin{align}\n",
    "    Z^{(l)} &= \\begin{cases}\n",
    "        \\left(\\boldsymbol{1}_{N}, X \\right) & (l=0) \\\\ \n",
    "        \\left(\\boldsymbol{1}_{N} , h\\left(A^{(l-1)} \\right)\\right) & (l = 1, \\dots, L-1) \n",
    "    \\end{cases}\\\\\n",
    "    A^{(l)} &= Z^{(l)} {W^{(l)}}^{T}\n",
    "\\end{align}\n",
    "$$\n",
    "and the final output $Y$ by \n",
    "$$\n",
    "\\begin{align}\n",
    "    Y = g(A^{(L-1)}), \n",
    "\\end{align}\n",
    "$$\n",
    "where $\\boldsymbol{1}_N := (1, 1, \\dots, 1)^T \\in \\mathbb{R}^{N}$, \n",
    "and we slightly abuse notations so that we regard $h$ as acting elementwisely on $A^{(l)}$, \n",
    "and $Y = g(A^{(L-1)})$ means $Y_n = g(A^{L-1}_{n})$. \n"
   ]
  },
  {
   "cell_type": "code",
   "execution_count": 4,
   "metadata": {
    "collapsed": true
   },
   "outputs": [],
   "source": [
    "def fprop(W_matrices, act_func, out_act_func, X):\n",
    "    '''\n",
    "    This function performs forward propagation, and calculate input/output for each layer of a neural network.\n",
    "    \n",
    "    Parameters:\n",
    "    ----------\n",
    "    W_matrices : 1-D array, dtype='object'\n",
    "        (L,) array, where W_matrices[l] corresponds to the parameters of l-th layer.\n",
    "    act_func : callable\n",
    "        activation function for hidden layers\n",
    "    out_act_func : callable\n",
    "        activation function for the final layer\n",
    "    X : 2-D array\n",
    "        (N,d) numpy array, with X[n, i] = i-th element of x_n\n",
    "        \n",
    "    Returns:\n",
    "    ----------\n",
    "    Z_matrices : 1-D array, dtype='object'\n",
    "        Z_matrices[l] is 1-D array, which represents the output from the l-th layer.\n",
    "    A_matrices : 1-D array, dtype='object'\n",
    "        A_matrices[l] is 1-D array, which represents the input to the (l+1)-th layer.\n",
    "    Y : 2-D array\n",
    "        The final output of the neural network.\n",
    "    '''\n",
    "    L = len(W_matrices)\n",
    "    N = len(X)\n",
    "    Z_matrices = np.zeros(L, dtype='object')\n",
    "    A_matrices = np.zeros(L, dtype='object')\n",
    "\n",
    "    Z_matrices[0] = np.concatenate((np.ones((N, 1)), X), axis=1)\n",
    "    A_matrices[0] = Z_matrices[0] @ (W_matrices[0].T)\n",
    "    \n",
    "    for l in range(1, L):\n",
    "        Z_matrices[l] = np.concatenate((np.ones((N, 1)), act_func(A_matrices[l-1])), axis=1)\n",
    "        A_matrices[l] = Z_matrices[l] @ (W_matrices[l].T)\n",
    "    Y = out_act_func(A_matrices[L-1])\n",
    "    \n",
    "    return Z_matrices, A_matrices, Y"
   ]
  },
  {
   "cell_type": "markdown",
   "metadata": {},
   "source": [
    "## 3.4 Backward propagation\n",
    "\n",
    "In backward propagation, we calculate $\\Delta^{(L-1)}$ as follows: \n",
    "\n",
    "\n",
    "* First, calculate $\\Delta^{(L-1)}$. For examples described in section 3.3 we have $\\Delta^{(L-1)} = Y - T$. However, note that in general  $\\Delta^{(L-1)}$ may depend on $A$ and $Z$. In our implementation, `d_final_layer` takes care of the relation between $\\Delta^{(L-1)}$ and $A, Z, Y$ and $T$.\n",
    "* Recursively calculate $\\Delta^{(l)}$ ($l= L-2, L-1, \\dots, 1, 0$) by \n",
    "$$\n",
    "\\begin{align}\n",
    "    \\Delta^{(l)} = h'(A^{(l)}) \\ast \\left( \\Delta^{(l+1)} w^{(l+1)}\\right), \n",
    "\\end{align}\n",
    "$$\n",
    "where we again slightly abused the definition of $h$, and $\\ast$ stands for elementwise multiplication. Note that we used $w^{(l)}$ not $W^{(l)}$."
   ]
  },
  {
   "cell_type": "code",
   "execution_count": 5,
   "metadata": {
    "collapsed": true
   },
   "outputs": [],
   "source": [
    "def bprop(W_matrices, act_func, act_func_deriv, out_act_func, Z_matrices, A_matrices, Y, T, d_final_layer):\n",
    "    '''\n",
    "    This function performs backward propagation and returns delta.\n",
    "    \n",
    "    Parameters\n",
    "    ----------\n",
    "    W_matrices : 1-D array, dtype='object'\n",
    "        (L,) array, where W_matrices[l] corresponds to the parameters of l-th layer.\n",
    "    act_func : callable\n",
    "        activation function for hidden layers\n",
    "    act_func_deriv : callable\n",
    "        The derivative of act_func\n",
    "    out_act_func : callable\n",
    "        activation function for the final layer\n",
    "    Z_matrices : 1-D array, dtype='object'\n",
    "        Z_matrices[l] is 1-D array, which represents the output from the l-th layer.\n",
    "    A_matrices : 1-D array, dtype='object'\n",
    "        A_matrices[l] is 1-D array, which represents the input to the (l+1)-th layer.\n",
    "    Y : 2-D array\n",
    "        The final output of the neural network.\n",
    "    T : 2-D array\n",
    "        Array for the label data.\n",
    "    d_final_layer : callable\n",
    "        A function of Z_matrices, A_matrices, Y and T, which returns $delta^{(L-1)}$\n",
    "    \n",
    "    Returns\n",
    "    ----------\n",
    "    D_matrices : 1-D array\n",
    "        D_matrices[l] is a 2-D array, where D_matrices[l][n, i] = $\\Delta^{(l)}_{n, i}$\n",
    "\n",
    "    '''\n",
    "    L = len(W_matrices)\n",
    "    D_matrices = np.zeros(L, dtype='object')\n",
    "    \n",
    "    D_matrices[L-1] = d_final_layer(Z_matrices, A_matrices, Y, T)\n",
    "    for l in range(L-2, -1, -1):\n",
    "        D_matrices[l] = act_func_deriv(A_matrices[l]) * ( D_matrices[l+1] @ W_matrices[l+1][:, 1:] )\n",
    "\n",
    "    return D_matrices"
   ]
  },
  {
   "cell_type": "markdown",
   "metadata": {},
   "source": [
    "## 3.5 Cost function and its gradient\n",
    "\n",
    "Here we implement the function giving the value of the cost function and its gradient.\n",
    "\n",
    "Recall that the cost function is given by\n",
    "$$\n",
    "\\begin{align}\n",
    "    E_{tot}(\\theta) = \\frac{1}{N} \\sum_{n=1}^{N} E \\left( f_{\\theta}(x_n), t_n \\right) + \\frac{\\lambda}{2N} \\|\\theta \\|^2. \n",
    "\\end{align}\n",
    "$$\n",
    "\n",
    "The gradient of the first term can be obtained by \n",
    "$$\n",
    "\\begin{align}\n",
    "    \\frac{\\partial}{\\partial W^{(l)}_{i,j}} \\frac{1}{N}\\sum_{n=0}^{N-1} E(f_{\\theta}(x_n),t_n) \n",
    "    &= \\frac{1}{N}\\sum_{n=0}^{N-1} \\Delta^{(l)}_{n,i} Z^{(l)}_{n,j} \\\\\n",
    "    &= \\frac{1}{N} \\left( \\Delta^{(l)T} Z^{(l)} \\right)_{i,j}\n",
    "\\end{align}\n",
    "$$"
   ]
  },
  {
   "cell_type": "code",
   "execution_count": 6,
   "metadata": {
    "collapsed": true
   },
   "outputs": [],
   "source": [
    "def cost_and_grad(W_matrices, X, T, act_func, act_func_deriv, out_act_func, E, d_final_layer, lam):\n",
    "    '''\n",
    "    This function performs backward propagation and returns delta.\n",
    "    \n",
    "    Parameters\n",
    "    ----------\n",
    "    W_matrices : 1-D array, dtype='object'\n",
    "        (L,) array, where W_matrices[l] corresponds to the parameters of l-th layer.\n",
    "    X : 2-D array\n",
    "        (N,d) numpy array, with X[n, i] = i-th element of x_n    \n",
    "    T : 2-D array\n",
    "        Array for the label data.\n",
    "    act_func : callable\n",
    "        activation function for hidden layers\n",
    "    act_func_deriv : callable\n",
    "        The derivative of act_func\n",
    "    out_act_func : callable\n",
    "        activation function for the final layer\n",
    "    E : callable\n",
    "        A function representing the first term of the cost function\n",
    "    d_final_layer : callable\n",
    "        A function of Z_matrices, A_matrices, Y and T, which returns $delta^{(L-1)}$\n",
    "    lam : float\n",
    "        Regularization constant\n",
    "        \n",
    "    Returns\n",
    "    ----------\n",
    "    cost_val : float\n",
    "        The value of the cost function\n",
    "    grad_matrices : 1-D array, dtype object\n",
    "        Array of 2-D matrices corresponding the gradient\n",
    "    '''\n",
    "    \n",
    "    N = len(X)\n",
    "    L = len(W_matrices)\n",
    "    \n",
    "    Z_matrices, A_matrices, Y = fprop(\n",
    "        W_matrices=W_matrices, \n",
    "        act_func=act_func, \n",
    "        out_act_func=out_act_func, \n",
    "        X=X)\n",
    "    \n",
    "    cost_val = E(Y, T) + lam/(2*N)*( np.sum( np.linalg.norm(W)**2 for W in W_matrices ) )\n",
    "    \n",
    "    D_matrices = bprop(\n",
    "        W_matrices=W_matrices, \n",
    "        act_func=act_func, \n",
    "        act_func_deriv=act_func_deriv, \n",
    "        out_act_func=out_act_func, \n",
    "        Z_matrices=Z_matrices, \n",
    "        A_matrices=A_matrices, \n",
    "        Y=Y, \n",
    "        T=T, \n",
    "        d_final_layer=d_final_layer)\n",
    "    \n",
    "    grad_matrices = np.zeros(L, dtype='object')\n",
    "    for l in range(L):\n",
    "        grad_matrices[l] = D_matrices[l].T @ Z_matrices[l] / N + lam/N * W_matrices[l]\n",
    "    \n",
    "    return cost_val, grad_matrices"
   ]
  },
  {
   "cell_type": "markdown",
   "metadata": {},
   "source": [
    "## 3.6 Minimization by gradient descent\n",
    "\n",
    "In gradient descent, we obtain an approximate optimal solution by the update\n",
    "$$\n",
    "\\begin{align}\n",
    "    x_{n+1} = x_n - \\alpha \\nabla f(x_n).\n",
    "\\end{align}\n",
    "$$\n",
    "\n",
    "Here, as to the stopping criterion, we examine the change of function value, and if it does not decrease more than the specified value `ftol`, we terminate the iteration."
   ]
  },
  {
   "cell_type": "code",
   "execution_count": 7,
   "metadata": {
    "collapsed": true
   },
   "outputs": [],
   "source": [
    "def minimize_GD(func_and_grad, x0, alpha=0.01, maxiter=1e4, ftol=1e-5):\n",
    "    '''\n",
    "    This function minimizes the given function using gradient descent method\n",
    "    \n",
    "    Parameters\n",
    "    ----------\n",
    "    func_and_grad : callable\n",
    "        A function which returns the tuple (value of function to be minimized (real-valued), gradient of the function)\n",
    "    x0 : 1-D array\n",
    "        Initial value of the variable\n",
    "    alpha : float\n",
    "        Learning rate\n",
    "    maxiter : int\n",
    "        Maximum number of iteration\n",
    "    ftol : float\n",
    "        The threshold for stopping criterion. If the change of the value of function is smaller than this value, the iteration stops.\n",
    "    \n",
    "    Returns\n",
    "    ----------\n",
    "    result : dictionary\n",
    "        result['x'] ... variable, result['nit'] ... the number of iteration, result['func']...the value of the function, result['success']... whether the minimization is successful or not\n",
    "    '''\n",
    "    nit = 0\n",
    "    x = x0\n",
    "    val, grad = func_and_grad(x)\n",
    "    while nit < maxiter:\n",
    "        xold = x\n",
    "        valold = val\n",
    "        x = x - alpha*grad\n",
    "        val, grad = func_and_grad(x)\n",
    "        nit += 1\n",
    "        if abs(val - valold) < ftol:\n",
    "            break\n",
    "    success = (nit < maxiter)\n",
    "    return {'x': x, 'nit':nit, 'func':val, 'success':success}"
   ]
  },
  {
   "cell_type": "markdown",
   "metadata": {},
   "source": [
    "## 3.7 Neural Network\n",
    "\n",
    "Because we consider multiclass classification problem here, we use conventional choice of activation functions, where activation function for hidden layers are logistic sigmoid function, the activation function for the output layer is softmax, and the error function is cross-entropy."
   ]
  },
  {
   "cell_type": "code",
   "execution_count": 8,
   "metadata": {
    "collapsed": true
   },
   "outputs": [],
   "source": [
    "def E(Y,T):\n",
    "    N = len(Y)\n",
    "    return -np.sum( T*np.log(Y) )/N\n",
    "\n",
    "def softmax(x):\n",
    "    x0 = np.max(x,axis=1)\n",
    "    x0 = np.reshape(x0, (len(x0),1))\n",
    "    tmp = np.sum(np.exp(x-x0),axis=1)\n",
    "    return np.exp(x-x0)/np.reshape(tmp,(len(tmp),1))\n",
    "\n",
    "def sigmoid(x):\n",
    "    return 1.0/(1 + np.exp(-x))\n",
    "\n",
    "def sigmoid_deriv(x):\n",
    "    return np.exp(-x)/((1+np.exp(-x))**2)\n",
    "\n",
    "def d_final_layer(Z, A, Y, T):\n",
    "    return Y - T"
   ]
  },
  {
   "cell_type": "markdown",
   "metadata": {},
   "source": [
    "With all the preparations, here we define our neural network, `FFNN` class (abbreviation of feed forward neural network)."
   ]
  },
  {
   "cell_type": "code",
   "execution_count": 9,
   "metadata": {
    "collapsed": true
   },
   "outputs": [],
   "source": [
    "class FFNN:\n",
    "    def __init__(self, C, lam, num_neurons, act_func=sigmoid, act_func_deriv=sigmoid_deriv, out_act_func=softmax, E=E, d_final_layer=d_final_layer):\n",
    "        self.C = C\n",
    "        self.num_neurons = num_neurons\n",
    "        self.L = len(num_neurons) - 1\n",
    "        self.act_func = act_func\n",
    "        self.act_func_deriv = act_func_deriv\n",
    "        self.out_act_func = out_act_func\n",
    "        self.E = E\n",
    "        self.d_final_layer = d_final_layer\n",
    "        self.lam = lam\n",
    "        self.W_matrices = np.zeros(self.L,dtype='object') \n",
    "        \n",
    "    def fit(self, X, y, ep=0.01, alpha=0.01, maxiter=1e4, ftol=1e-5, show_message=False): \n",
    "        '''\n",
    "        Parameters\n",
    "        ----------\n",
    "        X : 2-D array\n",
    "            (N,d) numpy array, with X[n, i] = i-th element of x_n    \n",
    "        y : 1-D numpy array\n",
    "            The elements of y should be integers in [0, C-1]\n",
    "        ep : float\n",
    "            The maximum value of the initial weight parameter, which will be used for random initialization\n",
    "        alpha : float\n",
    "            Learning rate\n",
    "        maxiter : int\n",
    "            Maximum number of iteration\n",
    "        ftol : float\n",
    "            The threshold for stopping criterion. If the change of the value of function is smaller than this value, the iteration stops.\n",
    "        show_message : bool\n",
    "            If True, the result of the optimization is shown.\n",
    "        '''\n",
    "        T = calcTmat(y, self.C)\n",
    "        def cost_and_grad_vec(x):\n",
    "            val, grad_mat = cost_and_grad(\n",
    "                W_matrices=reshape_vec2mat(x, num_neurons=self.num_neurons),\n",
    "                X=X, \n",
    "                T=T,\n",
    "                act_func=self.act_func, \n",
    "                act_func_deriv=self.act_func_deriv,\n",
    "                out_act_func=self.out_act_func,\n",
    "                E=self.E,\n",
    "                d_final_layer=self.d_final_layer,\n",
    "                lam=self.lam\n",
    "            )\n",
    "            grad_vec = reshape_mat2vec(matrices=grad_mat, num_neurons=self.num_neurons)\n",
    "            return val, grad_vec\n",
    "        tht0 = 2*ep*(np.random.random(np.sum(self.num_neurons[1:]*(self.num_neurons[:self.L]+1))) - 0.5)\n",
    "        time_start = time.time()\n",
    "        result = minimize_GD(\n",
    "            func_and_grad=cost_and_grad_vec,\n",
    "            x0=tht0,\n",
    "            alpha=alpha,\n",
    "            maxiter=maxiter,\n",
    "            ftol=ftol\n",
    "        )\n",
    "        time_end = time.time()\n",
    "        if show_message:\n",
    "            print(f\"success : {result['success']}\")\n",
    "            print(f\"nit : {result['nit']}\")\n",
    "            print(f\"func value : {result['func']}\")\n",
    "            print(f\"calcualtion time : {time_end - time_start}seconds\")\n",
    "        self.W_matrices=reshape_vec2mat(vec=result['x'], num_neurons=self.num_neurons)\n",
    "    \n",
    "    def predict_proba(self, X):\n",
    "        '''\n",
    "        Parameters\n",
    "        ----------\n",
    "        X : 2-D array\n",
    "            (N,d) numpy array, with X[n, i] = i-th element of x_n\n",
    "            \n",
    "        Returns\n",
    "        ----------\n",
    "        Y : 2-D array\n",
    "            (len(X), self.C) array, where Y[n, c] represents the probability that the n-th instance belongs to c-th class\n",
    "        '''\n",
    "        Z_matrices, A_matrices, Y = fprop(\n",
    "            W_matrices=self.W_matrices, \n",
    "            act_func=self.act_func, \n",
    "            out_act_func=self.out_act_func, \n",
    "            X=X)\n",
    "        return Y\n",
    "    \n",
    "    def predict(self, X):\n",
    "        '''\n",
    "        Parameters\n",
    "        ----------\n",
    "        X : 2-D array\n",
    "            (N,d) numpy array, with X[n, i] = i-th element of x_n\n",
    "            \n",
    "        Returns\n",
    "        ----------\n",
    "        classes : 1-D numpy array\n",
    "            (len(X), ) array, where classes[n] represents the predicted class to which the n-th instance belongs\n",
    "        '''\n",
    "        Y = self.predict_proba(X)\n",
    "        return np.argmax(Y, axis=1) "
   ]
  },
  {
   "cell_type": "markdown",
   "metadata": {},
   "source": [
    "# 4 Experiment "
   ]
  },
  {
   "cell_type": "code",
   "execution_count": 10,
   "metadata": {
    "collapsed": true
   },
   "outputs": [],
   "source": [
    "from sklearn import datasets\n",
    "from sklearn.metrics import accuracy_score\n",
    "from sklearn.model_selection import train_test_split"
   ]
  },
  {
   "cell_type": "markdown",
   "metadata": {},
   "source": [
    "## 4.1 Gradient check\n",
    "\n",
    "Because the implementation of the backward propagation is complicated, it is desirable to check whether the implementation is correct before we use the code. \n",
    "\n",
    "In this section, we compare the gradient obtained by the backward propagation and the gradient calculated from direct numerical differentiation. \n",
    "\n",
    "The numerical differentiation is obtained as follows\n",
    "$$\n",
    "\\begin{align}\n",
    "    \\frac{\\partial E_{tot} }{\\partial W^{(l)}_{i,j}} \\simeq \n",
    "        \\frac{ E_{tot}(W^{(l)}_{i,j}+\\varepsilon) - E_{tot}(W^{(l)}_{i,j}-\\varepsilon) }{2\\varepsilon}, \n",
    "\\end{align}\n",
    "$$\n",
    "where we slightly abused the notation so that $E_{tot}(W^{(l)}_{i,j}\\pm\\varepsilon)$ means the value of the function, where all the elements, except for the $(l,i,j)$ element, of $W$ is fixed to $W^{(l')}_{i',j'}$, and the $(l,i,j)$ element is perturbed by $\\varepsilon$.\n",
    "The quantity $\\varepsilon$ is assumed to be small, and the error is $\\mathcal{O}(\\varepsilon)$, "
   ]
  },
  {
   "cell_type": "code",
   "execution_count": 11,
   "metadata": {
    "collapsed": true
   },
   "outputs": [],
   "source": [
    "def grad_check(nn, W_vec, X, T, ep):\n",
    "    num_params = len(W_vec)\n",
    "    W_matrices = reshape_vec2mat(W_vec, nn.num_neurons)\n",
    "    cost, grad_mat_bp = cost_and_grad(W_matrices, X, T, act_func=nn.act_func, act_func_deriv=nn.act_func_deriv, out_act_func=nn.out_act_func, E=nn.E, d_final_layer=nn.d_final_layer, lam=nn.lam)\n",
    "    grad_vec_bp = reshape_mat2vec(grad_mat_bp, nn.num_neurons)\n",
    "    \n",
    "    grad_vec_num = np.zeros(num_params)\n",
    "    for cnt in range(num_params):\n",
    "        W_p = np.copy(W_vec)\n",
    "        W_m = np.copy(W_vec)\n",
    "        W_p[cnt] += ep\n",
    "        W_m[cnt] -= ep\n",
    "        cost_p, grad_p = cost_and_grad(reshape_vec2mat(W_p, nn.num_neurons), X, T, act_func=nn.act_func, act_func_deriv=nn.act_func_deriv, out_act_func=nn.out_act_func, E=nn.E, d_final_layer=nn.d_final_layer, lam=nn.lam)\n",
    "        cost_m, grad_m = cost_and_grad(reshape_vec2mat(W_m, nn.num_neurons), X, T, act_func=nn.act_func, act_func_deriv=nn.act_func_deriv, out_act_func=nn.out_act_func, E=nn.E, d_final_layer=nn.d_final_layer, lam=nn.lam)\n",
    "        grad_vec_num[cnt] = (cost_p - cost_m )/(2*ep)\n",
    "    return np.linalg.norm(grad_vec_bp - grad_vec_num), grad_vec_bp, grad_vec_num"
   ]
  },
  {
   "cell_type": "markdown",
   "metadata": {},
   "source": [
    "Using the code, we perform gradient check for a small neural network."
   ]
  },
  {
   "cell_type": "code",
   "execution_count": 12,
   "metadata": {},
   "outputs": [
    {
     "name": "stdout",
     "output_type": "stream",
     "text": [
      "8.080169811959002e-10\n"
     ]
    }
   ],
   "source": [
    "num_neurons = np.array([4,3,2])\n",
    "\n",
    "L = len(num_neurons) - 1\n",
    "dim_W = np.sum(num_neurons[1:] * (num_neurons[:L]+1))\n",
    "nn = FFNN(C=3, lam=0.5, num_neurons=num_neurons)\n",
    "W_vec = np.arange(0.0, dim_W, 1)\n",
    "X = np.reshape(np.arange(0.0, 8.0, 1.0), (2,4))\n",
    "T = np.array([[1.0,0],[0,1]])\n",
    "error, grad_vec_bp, grad_vec_num = grad_check(nn, W_vec, X, T, ep=0.0001)\n",
    "print(error)"
   ]
  },
  {
   "cell_type": "markdown",
   "metadata": {},
   "source": [
    "We can see that the difference between the two gradients, where one is obtained by backward propagation and the other by numerical differentiation, is sufficiently small."
   ]
  },
  {
   "cell_type": "markdown",
   "metadata": {},
   "source": [
    "## 4.2 Toy data \n",
    "\n",
    "Having checked the validity of our implementation, here we apply our code to simple toy data."
   ]
  },
  {
   "cell_type": "code",
   "execution_count": 13,
   "metadata": {},
   "outputs": [
    {
     "data": {
      "image/png": "[encoded data removed]",
      "text/plain": [
       "<Figure size 432x288 with 1 Axes>"
      ]
     },
     "metadata": {},
     "output_type": "display_data"
    }
   ],
   "source": [
    "X, y = datasets.make_blobs(n_samples=200, n_features=2, centers=3)\n",
    "for c in range(3):\n",
    "    plt.plot(X[:,0][y==c], X[:,1][y==c], 'o', label=f'{c}')\n",
    "plt.legend()\n",
    "plt.show()"
   ]
  },
  {
   "cell_type": "code",
   "execution_count": 14,
   "metadata": {
    "collapsed": true
   },
   "outputs": [],
   "source": [
    "xx = np.linspace(np.min(X[:,0]), np.max(X[:,0]),101)\n",
    "yy = np.linspace(np.min(X[:,1]), np.max(X[:,1]),100)\n",
    "Xtest = np.array([[x,y] for x in xx  for y in yy])\n",
    "xxx,yyy = np.meshgrid(xx, yy)\n",
    "\n",
    "def plot_result_blob(clf, C):\n",
    "    for c in range(C):\n",
    "        plt.plot(X[:,0][y==c], X[:,1][y==c],\"o\",label=f\"{c}\")\n",
    "    plt.legend()\n",
    "    pred_val = clf.predict(Xtest)\n",
    "    pred_val_2D = np.reshape(pred_val, (len(xx), len(yy))).T\n",
    "    plt.pcolormesh(xxx, yyy, pred_val_2D)\n",
    "    plt.colorbar()\n",
    "    plt.show()"
   ]
  },
  {
   "cell_type": "markdown",
   "metadata": {},
   "source": [
    "Here we construct our neural network with $L=2$ and $n_0 = 2, n_1 = 2, n_2 = 3$. Note that $n_0$ and $n_L$ is fixed once we fix the input dimension and the class numbers."
   ]
  },
  {
   "cell_type": "code",
   "execution_count": 15,
   "metadata": {
    "scrolled": true
   },
   "outputs": [
    {
     "name": "stdout",
     "output_type": "stream",
     "text": [
      "success : True\n",
      "nit : 1295\n",
      "func value : 0.130879514461342\n",
      "calcualtion time : 0.5100293159484863seconds\n"
     ]
    },
    {
     "data": {
      "image/png": "[encoded data removed]",
      "text/plain": [
       "<Figure size 432x288 with 2 Axes>"
      ]
     },
     "metadata": {},
     "output_type": "display_data"
    }
   ],
   "source": [
    "clf = FFNN(C=3, lam=0.5, num_neurons=np.array([2, 2, 3]))\n",
    "clf.fit(X, y, show_message=True, ep=0.1, alpha=0.1, ftol=1e-5)\n",
    "plot_result_blob(clf, 3)"
   ]
  },
  {
   "cell_type": "markdown",
   "metadata": {},
   "source": [
    "## 4.3 Hand-written digits"
   ]
  },
  {
   "cell_type": "code",
   "execution_count": 16,
   "metadata": {},
   "outputs": [
    {
     "name": "stdout",
     "output_type": "stream",
     "text": [
      "Training data : 1347\n",
      "Test data : 450\n",
      "Input dimension : 64\n"
     ]
    }
   ],
   "source": [
    "digits = datasets.load_digits()\n",
    "dat_train, dat_test, label_train, label_test = train_test_split(digits.data, digits.target, test_size=0.25)\n",
    "\n",
    "print(f\"Training data : {len(dat_train)}\")\n",
    "print(f\"Test data : {len(dat_test)}\")\n",
    "print(f\"Input dimension : {dat_train.shape[1]}\")"
   ]
  },
  {
   "cell_type": "code",
   "execution_count": 17,
   "metadata": {
    "collapsed": true
   },
   "outputs": [],
   "source": [
    "def show_result_digit(clf):\n",
    "    label_test_pred = clf.predict(dat_test)\n",
    "    print(f\"train accuracy score: {accuracy_score(label_train, clf.predict(dat_train))}\")\n",
    "    print(f\"test accuracy score: {accuracy_score(label_test, label_test_pred)}\")"
   ]
  },
  {
   "cell_type": "markdown",
   "metadata": {},
   "source": [
    "Again, we try out $L=2$ neural network. We have to choose $n_0=64, n_2 = 10$. The choice of $n_1$ is arbitrary, but here we try $n_1 = 10$."
   ]
  },
  {
   "cell_type": "code",
   "execution_count": 18,
   "metadata": {
    "scrolled": false
   },
   "outputs": [
    {
     "name": "stdout",
     "output_type": "stream",
     "text": [
      "success : True\n",
      "nit : 2071\n",
      "func value : 0.05296457545742904\n",
      "calcualtion time : 7.4523024559021seconds\n"
     ]
    }
   ],
   "source": [
    "num_neurons = np.array([64,35,10])\n",
    "nn_mnist = FFNN(C=10, lam=0.5, num_neurons=num_neurons)\n",
    "nn_mnist.fit(dat_train, label_train, show_message=True, ep=0.01, alpha=0.1, ftol=1e-5)"
   ]
  },
  {
   "cell_type": "code",
   "execution_count": 19,
   "metadata": {},
   "outputs": [
    {
     "name": "stdout",
     "output_type": "stream",
     "text": [
      "train accuracy score: 0.9992576095025983\n",
      "test accuracy score: 0.9733333333333334\n"
     ]
    }
   ],
   "source": [
    "show_result_digit(nn_mnist)"
   ]
  }
 ],
 "metadata": {
  "kernelspec": {
   "display_name": "Python 3",
   "language": "python",
   "name": "python3"
  },
  "language_info": {
   "codemirror_mode": {
    "name": "ipython",
    "version": 3
   },
   "file_extension": ".py",
   "mimetype": "text/x-python",
   "name": "python",
   "nbconvert_exporter": "python",
   "pygments_lexer": "ipython3",
   "version": "3.6.6"
  }
 },
 "nbformat": 4,
 "nbformat_minor": 2
}
