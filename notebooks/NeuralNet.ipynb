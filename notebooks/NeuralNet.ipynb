{
 "cells": [
  {
   "cell_type": "markdown",
   "metadata": {},
   "source": [
    "# Feedforward Nerual Networks\n",
    "\n",
    "In this notebook, we show how neral networks described in chapter 5 of PRML can be implemented. \n",
    "\n",
    "Because the notation of the book is a little sloppy, we first describe the formulation in detail, \n",
    "and then move to the corresponding code. "
   ]
  },
  {
   "cell_type": "code",
   "execution_count": 2,
   "metadata": {},
   "outputs": [],
   "source": [
    "import numpy as np\n",
    "from scipy.optimize import minimize\n",
    "import matplotlib as mpl\n",
    "from matplotlib import pyplot as plt\n",
    "from scipy.optimize import minimize\n",
    "from sklearn import datasets, cross_validation, metrics\n",
    "\n",
    "%matplotlib inline\n",
    "mpl.rc(\"savefig\",dpi=100)"
   ]
  },
  {
   "cell_type": "markdown",
   "metadata": {},
   "source": [
    "## 1 Setting\n",
    "\n",
    "Let us define symbols as below: \n",
    "* $N \\in \\mathbb{N}$ : data size, \n",
    "* $d \\in \\mathbb{N}$ : the dimension of input, \n",
    "* $d_{out} \\in \\mathbb{N}$ : the dimension of output, \n",
    "* Denote input data by $x_1, x_2, \\dots , x_N \\in \\mathbb{R}^d$, and outpu data by $t_1, t_2, \\dots, t_N \\in \\mathbb{R}^{d_{out}}$. \n",
    "\n",
    "If we consider multiclass classification problem with $C$ classes, $t_1, t_2 \\dots, t_N \\in \\left\\{0,1\\right\\}$, where we employ 1-of-$C$ coding scheme. "
   ]
  },
  {
   "cell_type": "markdown",
   "metadata": {},
   "source": [
    "## 2 The representation of neural networks\n",
    "\n",
    "We consider $L$-layer feedforward neural networks (feedforward neural networks with $L-1$ hidden layers) such as one shown in the following figure: \n",
    "<img src=\"NNfig.png\" alt=\"Drawing\" style=\"width: 600px;\"/>\n",
    "\n",
    "For simplicity, we assume that there is no skip-layer connection, i.e.,  each elements in a layer is connected only to elements in its adjacent layers. \n",
    "\n",
    "In this section, we write down the definition of functions representing neural networks. Specifically, we decompose the function representing the neural network, so that we can extract contributions of parameters from a specified layer, for calculation of gradient in the next section, where we want differentiation with respect to parameters from each layer. \n",
    "\n",
    "### 2.1 The number of elements and the dimension\n",
    "\n",
    "Let $n_l \\in \\mathbb{N}$ be the number of elements in the $l$th layer. \n",
    "It follows that $n_0 = d$, $n_L = d_{out}$.\n",
    "\n",
    "### 2.2 Activation functions\n",
    "\n",
    "Again for somplicity, we assume that activation functions for $l$th-layer with $l=1,2,\\dots,L-1$ are all \n",
    "$h : \\mathbb{R} \\rightarrow \\mathbb{R}$. $h$ can be, for example, logstic sigmoid function, tanh, ReLU and so on.\n",
    "Also, we define $h^{(l)}$ by\n",
    "\n",
    "\\begin{equation}\n",
    "    h^{(l)} : \\mathbb{R}^{n_l} \\rightarrow \\mathbb{R}^{n_l}, \\ \\ \n",
    "    h^{(l)}(a) = (h(a_1), h(a_2), \\dots, h(a_{n_l}))^T \\ \\in \\mathbb{R}^{n_l}.\n",
    "\\end{equation}\n",
    "\n",
    "Let us denote the activation function for the output layer by\n",
    "$g : \\mathbb{R}^{n_L} \\rightarrow \\mathbb{R}^{n_L}$. \n",
    "\n",
    "Concretely, $g$ is chosen as below:\n",
    "* For binary classification, $g$ can be logistic sigmoid function. \n",
    "* For multiclass classification, $g$ can be softmax function.\n",
    "* For regression, $g$ can be an identity map.\n",
    "\n",
    "\n",
    "### 2.3 The input and output of each layer\n",
    "\n",
    "Let us define\n",
    "* $z^{(l)} \\in \\mathbb{R}^{n_l}$ : the output from the $l$-th layer\n",
    "* $a^{(l)} \\in \\mathbb{R}^{n_{l+1}}$ : the input to the $l+1$\n",
    "\n",
    "Then, \n",
    "\\begin{equation}\n",
    "    z^{(l)} = h^{(l)}(a^{(l-1)})\n",
    "\\end{equation}\n",
    "follows. \n",
    "\n",
    "Let us also define parameters as follows\n",
    "* $w^{(l)}_{i,j}$ : the weight of $j$-th element of $l$-th layer on the $i$-th element of$(l+1)$-th layer. \n",
    "* $b^{(l)}_{i}$ : the bias of $i$-th element of $(l+1)$-th layer.\n",
    "\n",
    "If we define \n",
    "$w^{(l)} = (w^{(l)}_{i,j})_{i,j}$ ($n_{l+1} \\times n_{l}$ matrix) and  \n",
    "$b^{(l)} = (b^{(l)}_{1}, b^{(l)}_{2}, \\dots, b^{(l)}_{n_{l+1}})^T$, \n",
    "then we have\n",
    "\n",
    "\\begin{equation}\n",
    "    a^{(l)} = w^{(l)} z^{(l)} + b^{(l)}\n",
    "\\end{equation}\n",
    "\n",
    "For later convenience, we denote this mapping by \n",
    "\\begin{equation}\n",
    "    A^{(l)}_{\\theta^{(l)}} : \\mathbb{R}^{n_{l}} \\rightarrow \\mathbb{R}^{n_{l+1}}  , \\ \\ A^{(l)}_{\\theta^{(l)} }(z) := w^{(l)}z + b^{(l)}\n",
    "\\end{equation}, \n",
    "where $\\theta^{(l)} := (w^{(l)}, b^{(l)})$.\n",
    "\n",
    "### 2.4 The whole network\n",
    "\n",
    "Let a function $f_{\\theta} : \\mathbb{R}^{d_{in}} \\rightarrow \\mathbb{R}^{d_{out}}$ be the function that represent the whole neural network we defined above. \n",
    "\n",
    "From the definitions above, it can be written as \n",
    "\n",
    "\\begin{equation}\n",
    "    f_{\\theta} = g \\circ A^{(L-1)}_{\\theta^{(L-1)}} \\circ h^{(L-1)} \\circ A^{(L-2)}_{\\theta^{(L-2)}} \\circ \\cdots \n",
    "        A^{(l+1)}_{\\theta^{(l+1)}} \\circ h^{(l+1)} \\circ A^{(l)}_{\\theta^{(l)}} \\circ h^{(l)} \\circ A^{(l-1)}_{\\theta^{(l-1)}} \n",
    "        \\circ \\cdots \\circ h^{(1)} \\circ A^{(0)}_{\\theta^{(0)}} . \n",
    "\\end{equation}\n",
    "\n",
    "Further, we can decompose the function as \n",
    "\\begin{equation}\n",
    "    f_{\\theta} = F^{(l)} \\circ A^{(l)}_{\\theta^{(l)}}  \\circ Z^{(l)} \n",
    "    \\ \\ (l = 0, \\dots, L-1), \n",
    "\\end{equation}\n",
    "\n",
    "where\n",
    "\n",
    "\\begin{eqnarray}\n",
    "    F^{(l)} &:=& g \\circ A^{(L-1)}_{\\theta^{(L-1)}} \\circ h^{(L-1)} \\circ A^{(L-2)}_{\\theta^{(L-2)}} \\circ \\cdots \n",
    "        A^{(l+1)}_{\\theta^{(l+1)}} \\circ h^{(l+1)}  \\ \\ (l = 0,1, \\dots, L-2) \\\\\n",
    "    F^{(L-1)} &:=& g \\\\\n",
    "    Z^{(l)} &:=& h^{(l)} \\circ A^{(l-1)}_{\\theta^{(l-1)}} \\circ \\cdots \\circ h^{(1)} \\circ A^{(0)}_{\\theta^{(0)}}  \\ \\ (l = 1, \\dots, L-1)\\\\\n",
    "    Z^{(0)} &:=& I\n",
    "\\end{eqnarray}\n",
    "\n",
    "Note that in the representation $f_{\\theta} = F^{(l)} \\circ A^{(l)}_{\\theta^{(l)}}  \\circ Z^{(l)} $, \n",
    "$A^{(l)}_{\\theta^{(l)}}$ is the only part that parameters for $(l+1)$-th layer appear, \n",
    "which will simplify our calculation of gradients in the next section. "
   ]
  },
  {
   "cell_type": "markdown",
   "metadata": {
    "collapsed": true
   },
   "source": [
    "## 3. Cost functions and the gradient (theory)\n",
    "\n",
    "### 3.1 Cost functions\n",
    "\n",
    "We assume that the cost function we want to minimize can be written as \n",
    "\n",
    "\\begin{equation}\n",
    "    E_{tot}(\\theta) = \\frac{1}{N} \\sum_{n=1}^{N} E \\left( f_{\\theta}(x_n), t_n \\right) + \\frac{\\lambda}{N} E_{reg}(\\theta) , \n",
    "\\end{equation}\n",
    "where $\\lambda E_{reg}(\\theta)$ represents the regularization term, \n",
    "and $E$ is chosen appropriately depending on the problem: \n",
    "* For regression problem, $E$ can be $E(y,t) = \\frac{1}{2} \\| y - t \\|^2$ and so on.\n",
    "* For multiclass classification problem with $g$ being softmax functions, E can be $E(y,t) = -\\sum_{k=1}^{d_{out}} t_k \\log y_k$ (negative log likelihood).\n",
    "\n",
    "\n",
    "### 3.2 Gradient \n",
    "\n",
    "Here, we calculate the gradient of the cost function with respect to parameters $w, b$. \n",
    "We consider the regularization term separately, and concentrate on the first term. \n",
    "Because this term has the form of summation over data, we can consider each data point separately. \n",
    "\n",
    "Although we skip the derivation (if I have enough time, I will typeset the derivation later...), which is straight forward, we can obtain the following equations for $l = 0,1,\\dots, L-1$:\n",
    "\n",
    "\\begin{eqnarray}\n",
    "    \\delta^{(l)}_{i} &:=& \\sum_{k=1}^{d_{out}} \\left. \\frac{\\partial E}{\\partial y_k} \\right|_{y=f_{\\theta}(x)} \\cdot \n",
    "        \\left. \\frac{\\partial F^{(l)}_{k}}{\\partial a^{(l)}_{i}} \\right|_{a^{(l)}= (A^{(l)} \\circ Z^{(l)})(x) } \\\\\n",
    "    \\frac{\\partial}{\\partial w^{(l)}_{i,j}} E \\left( f_{\\theta}(x), t \\right) &=& \\delta^{(l)}_{i} Z^{(l)}_{j}(x) \\\\\n",
    "    \\frac{\\partial}{\\partial b^{(l)}_{i}} E \\left( f_{\\theta}(x), t \\right) &=& \\delta^{(l)}_{i} \n",
    "\\end{eqnarray}\n",
    "\n",
    "Here, $\\delta^{(l)}_{i}$ represents how much the cost function changes when $a^{(l)}_{i}$, the input to the $i$-th element of $(l+1)$-th layer, changes slightly. \n",
    "\n",
    "Thus, to obtain the gradient, it is sufficient to calculate the quantities $\\delta^{(l)}_{i}$. \n",
    "Back propagation is an algorithm to calculate these quantities recursively. \n",
    "\n",
    "### 3.3 Back propagation\n",
    "\n",
    "In back propagation procedure, we calculate $\\delta^{(l)}_{i}$, begining from $l=L-1$, and all the way down to $l=0$. \n",
    "\n",
    "First, for $l=L-1$, we have $F^{(L-1)} = g$, and hence\n",
    "\n",
    "\\begin{equation}\n",
    "    \\delta^{(L-1)}_{i} = \\sum_{k=1}^{d_{out}} \\left. \\frac{\\partial E}{\\partial y_k} \\right|_{y=f_{\\theta}(x)} \\cdot \n",
    "        \\left. \\frac{\\partial g_{k}}{\\partial a^{(L-1)}_{i}} \\right|_{a^{(L-1)}= (A^{(L-1)} \\circ Z^{(L-1)})(x) }\n",
    "\\end{equation}\n",
    "\n",
    "This can be easily calculated for various problems : \n",
    "* For least square regression, we have $E(y,t) = \\frac{1}{2} \\| y - t \\|^2$, $g(a) = a$, and hence $\\delta^{(L-1)}_{i} = (f_{\\theta}(x) - t)_{i}$. \n",
    "* For multiclass classification with $E(y,t) = -\\sum_{k=1}^{d_{out}} t_k \\log y_k$, $g_k(a) = \\frac{e^{a_k}}{\\sum_{m} e^{a_m}}$, we obtain $\\delta^{(L-1)}_{i} = (f_{\\theta}(x) - t)_{i}$. \n",
    "\n",
    "The recursion relation can be derived straightforwardly (if I have enough time, I will typeset the derivation later, too...), and result is :\n",
    "\\begin{equation}\n",
    "    \\delta^{(l)}_{i} = h'(a^{(l)}_{i}) \\sum_{j=1}^{n_{l+2}} \\delta^{(l+1)}_{j} w^{(l+1)}_{j,i}\n",
    "\\end{equation}"
   ]
  },
  {
   "cell_type": "markdown",
   "metadata": {},
   "source": [
    "## 4 Cost functions and the gradient (implementation)\n",
    "\n",
    "Note : To make the notation consistent with python/numpy convention, here all the indices start from 0.\n",
    "\n",
    "### 4.1 Change of notations\n",
    "\n",
    "From now on, to make the implementation simple, we treat weight $w$ and bias $b$ eqully by defining \n",
    "\n",
    "\\begin{equation}\n",
    "    W^{(l)}_{i,j} = \n",
    "    \\begin{cases}\n",
    "        b^{(l)}_{i} & (j=0) \\\\\n",
    "        w^{(l)}_{i,j-1} & (j = 1,2, \\dots, n_{l})\n",
    "    \\end{cases}\n",
    "    \\ \\ (i = 0,1, \\dots,n_{l+1} -1 ) , \n",
    "\\end{equation}\n",
    "where $W^{(l)}$ is $n_{l+1} \\times (n_{l}+1)$ matrix, and \n",
    "\n",
    "\\begin{equation}\n",
    "    \\tilde{z}^{(l)}_{i} = \n",
    "    \\begin{cases}\n",
    "        1 & (i=0) \\\\\n",
    "        h(a^{(l-1)}_{i-1}) & (i = 1, \\dots, n_l)\n",
    "    \\end{cases}\n",
    "\\end{equation}\n",
    "\n",
    "With these notations, we have\n",
    "\n",
    "\\begin{eqnarray}\n",
    "    a^{(l)} &=& W^{(l)} \\tilde{z}^{(l)} \\\\\n",
    "    \\tilde{z}^{(l)} &=& \n",
    "        \\begin{pmatrix}\n",
    "            1 \\\\\n",
    "            h^{(l)}(a^{(l-1)}) \n",
    "        \\end{pmatrix} \\\\\n",
    "    \\frac{\\partial}{\\partial W^{(l)}_{i,j}} E(f_{\\theta}(x),t) &=& \\delta^{(l)}_{i} \\tilde{z}^{(l)}_{j}\n",
    "\\end{eqnarray}"
   ]
  },
  {
   "cell_type": "markdown",
   "metadata": {},
   "source": [
    "### 4.2 Gradient for single data point\n",
    "\n",
    "For a data point $(x, t)$ we perform the following calculation : \n",
    "\n",
    "* Calculate $a, z$ for each layer (forward propagation) by \n",
    "\n",
    "\\begin{eqnarray}\n",
    "    a^{(l)} &=& W^{(l)} \\tilde{z}^{(l)}  \\ \\ (\\tilde{z}^{(0)} := (1,x^T)^T) \\ \\ (l=0, 1, \\dots, L-1) ,\\\\\n",
    "     \\tilde{z}^{(l)} &=& \n",
    "        \\begin{pmatrix}\n",
    "            1 \\\\\n",
    "            h^{(l)}(a^{(l-1)}) \n",
    "        \\end{pmatrix}\\ \\ (l=1,\\dots, L-1) \\\\\n",
    "    y &=& g(a^{(L-1)})\n",
    "\\end{eqnarray}\n",
    "\n",
    "* Calculate $\\delta^{(L-1)}$. For examples describe in section 3.3, we have\n",
    "\n",
    "\\begin{equation}\n",
    "    \\delta^{(L-1)}_i = (y - t)_i . \n",
    "\\end{equation}\n",
    "\n",
    "* Recursively calculate $\\delta^{(l)}_{i}$ ($l= L-2, L-1, \\dots, 1, 0$) by \n",
    "\n",
    "\\begin{equation}\n",
    "    \\delta^{(l)}_{i} = h'(a^{(l)}_{i}) \\sum_{j=1}^{n_{l+2}} \\delta^{(l+1)}_{j} w^{(l+1)}_{j,i}\n",
    "\\end{equation}\n",
    "where $i = 0,1, \\dots, n_{l+1} - 1$\n",
    "\n",
    "* Calculate the gradient using $\\delta$\n",
    "\n",
    "\\begin{eqnarray}\n",
    "    \\frac{\\partial}{\\partial W^{(l)}_{i,j}} E(f_{\\theta}(x),t) &=& \\delta^{(l)}_{i} \\tilde{z}^{(l)}_{j}\n",
    "\\end{eqnarray}"
   ]
  },
  {
   "cell_type": "markdown",
   "metadata": {},
   "source": [
    "### 4.3 Vectorized implementation \n",
    "\n",
    "In the previous section, we illustrated how to calculate the gradient for a single data point. \n",
    "Although the gradient for the whole cost function (except for the regularization term) can be obtained by iterating over data points in this way and summing them up, it is desirable to vectorize the implementation, because for loop and while loop in python is slow. \n",
    "\n",
    "In this section, we will see how the vectorized implementation can be realized. The main point is to use matrix to represent data points. \n",
    "\n",
    "\n",
    "Let us define matrices as follows for $l = 0, 1, \\dots, L-1$\n",
    "* $T$ : $(N, d_{out})$ matrix, whose $(n,i)$ element corresponds to $(t_n)_{i}$. \n",
    "* $Z^{(l)}$ : $(N, n_l+1)$ matrix, whose $(n,i)$ element corresponds to $\\tilde{z}^{(l)}_{i}$ in the previous section, for the $n$-th data point $(x_n, t_n)$. Note that $Z^{(0)} = X$, where $X_{n,i} = (x_n)_{i}$. \n",
    "* $A^{(l)}$ : $(N, n_{l+1})$ matrix, whose $(n,i)$ element corresponds to $a^{(l)}_{i}$ in the previous section, for the $n$-th data point $(x_n, t_n)$. \n",
    "* $Y$ : $(N, d_{out})$ matrix, whose $(n,i)$ element corresponds to $y_i$ in the previous section for the $n$-th  data point $(x_n, t_n)$. \n",
    "* $\\Delta^{(l)}$ : $(N, n_{l+1})$ matrix, whose $(n,i)$ element corresponds to $\\delta^{(l)}_{i}$ in the previous section for the $n$-th data point $(x_n, t_n)$.\n",
    "\n",
    "Then, the procedures shown in the previous section can be rewritten as \n",
    "\n",
    "* Forward propagation, where we calculate $A^{(l)}$ and $Z^{(l)}$ ($l=0,1,\\dots, L-1$)by \n",
    "\n",
    "\\begin{eqnarray}\n",
    "    Z^{(l)} &=& \\begin{cases}\n",
    "        \\left(\\boldsymbol{1}_{N}, X \\right) & (l=0) \\\\ \n",
    "        \\left(\\boldsymbol{1}_{N} , h\\left(A^{(l-1)} \\right)\\right) & (l = 1, \\dots, L-1) \n",
    "    \\end{cases}\\\\\n",
    "    A^{(l)} &=& Z^{(l)} {W^{(l)}}^{T} \\\\\n",
    "    Y &=& g(A^{(L-1)})\n",
    "\\end{eqnarray}\n",
    "where $\\boldsymbol{1}_N := (1, 1, \\dots, 1)^T \\in \\mathbb{R}^{N}$, \n",
    "and we slightly abuse notations so that we view $h$ as acting elementwisely on $A^{(l)}$, \n",
    "and $Y = g(A^{(L-1)})$ stands for $Y_n = g(A^{L-1}_{n})$. \n",
    "\n",
    "* Calculate $\\Delta^{(L-1)}$. For examples describe in section 3.3 we get \n",
    "\n",
    "\\begin{equation}\n",
    "    \\Delta^{(L-1)} = Y - T\n",
    "\\end{equation}\n",
    "\n",
    "* Recursively calculate $\\Delta^{(l)}$ ($l= L-2, L-1, \\dots, 1, 0$) by \n",
    "\n",
    "\\begin{equation}\n",
    "    \\Delta^{(l)} = h'(A^{(l)}) \\ast \\left( \\Delta^{(l+1)} w^{(l+1)}\\right), \n",
    "\\end{equation}\n",
    "\n",
    "where we again slightly abused the definition of $h$, and $\\ast$ stands for elementwise multiplication. \n",
    "\n",
    "* Calculate the gradient using $\\Delta$ as \n",
    "\n",
    "\\begin{eqnarray}\n",
    "    \\frac{\\partial}{\\partial W^{(l)}_{i,j}} \\sum_{n=0}^{N-1} E(f_{\\theta}(x_n),t_n) \n",
    "    &=& \\sum_{n=0}^{N-1} \\Delta^{(l)}_{n,i} Z^{(l)}_{n,j} \\\\\n",
    "    &=& \\left( \\Delta^{(l)T} Z^{(l)} \\right)_{i,j}\n",
    "\\end{eqnarray}"
   ]
  },
  {
   "cell_type": "markdown",
   "metadata": {},
   "source": [
    "### 4.4 Code\n",
    "\n",
    "Here, we implement a class representing the neural networks described above.\n",
    "Regularization term is assumed to be $E_{reg}(\\theta) = \\frac{1}{2} \\| \\theta \\|^2$."
   ]
  },
  {
   "cell_type": "code",
   "execution_count": 3,
   "metadata": {
    "collapsed": true
   },
   "outputs": [],
   "source": [
    "# num_elements = [n_0, n_1, \\dots, n_L]\n",
    "# actfunc : activation function, acting on variables elementwisely\n",
    "# actfunc : the derivative of the activation function, acting on variables elementwisely\n",
    "# actfunc_out : the activation function for the output layer\n",
    "# E : cost function\n",
    "# lam : the coefficient of the regularization term\n",
    "\n",
    "# X : input data matrix\n",
    "# T : output data matrix\n",
    "# Y : output of the neural network calculated from X\n",
    "# Wmats : the rank-1 arryay with length L, dtype object, Wmats[l] = W^{(l)}\n",
    "# Amats : the rank-1 arryay with length L, dtype object, Amats[l] = A^{(l)} \n",
    "# Zmats : the rank-1 arryay with length L, dtype object, Zmats[l] = Z^{(l)}\n",
    "class NN_proto:\n",
    "    def __init__(self,num_elements,actfunc,actfunc_diff,actfunc_out,E,lam):\n",
    "        self.num_elements = num_elements\n",
    "        self.L = L = len(self.num_elements) -1  \n",
    "        self.actfunc = actfunc\n",
    "        self.actfunc_diff = actfunc_diff\n",
    "        self.actfunc_out = actfunc_out\n",
    "        self.E = E\n",
    "        self.lam = lam\n",
    "\n",
    "        self.Wmats = np.zeros(self.L,dtype='object') \n",
    "        self.Zmats = np.zeros(self.L,dtype='object') \n",
    "        self.Amats = np.zeros(self.L,dtype='object') \n",
    "\n",
    "    # perform forward propagation\n",
    "    def fprop(self, Wmats, X):\n",
    "        self.X = X\n",
    "        self.N = len(X)\n",
    "        self.Wmats = Wmats\n",
    "        \n",
    "        self.Zmats[0] = np.concatenate(( np.ones((self.N,1)),  self.X), axis=1)\n",
    "        self.Amats[0] = self.Zmats[0] @ (self.Wmats[0].T)\n",
    "        for l in range(1,self.L):\n",
    "            self.Zmats[l] = np.concatenate( (np.ones((self.N,1)), self.actfunc(self.Amats[l-1]) ) , axis=1)\n",
    "            self.Amats[l] = self.Zmats[l] @ (self.Wmats[l].T)\n",
    "        self.Y = self.actfunc_out(self.Amats[self.L-1])\n",
    "        return self.Y\n",
    "      \n",
    "    # perform forward propagation, and output the value of the cost function\n",
    "    def cost(self, Wmats, X, T):\n",
    "        self.T = T\n",
    "        self.fprop(Wmats, X)\n",
    "        return self.E(self.Y, self.T) + \\\n",
    "            self.lam/(2*self.N)*np.sum( np.linalg.norm(Wmats[l])**2 for l in range(self.L) )\n",
    "    \n",
    "    # perform backward propagation, and output \n",
    "    def CostAndGrad(self, Wmats, X, T):\n",
    "        costval = self.cost(Wmats, X, T)\n",
    "     \n",
    "        # Dmats : the rank-1 arryay with length L, dtype object, Dmats[l] = \\Delta^{(l)} \n",
    "        self.Dmats = np.zeros(self.L, dtype='object') \n",
    "        gradmats = np.zeros(self.L, dtype='object') \n",
    "     \n",
    "        self.Dmats[self.L-1] = self.Y - self.T\n",
    "        l = self.L-2\n",
    "        while l >= 0 :\n",
    "            self.Dmats[l] = self.actfunc_diff(self.Amats[l]) * (self.Dmats[l+1] @ self.Wmats[l+1][:,1:])\n",
    "            l -= 1 \n",
    "            \n",
    "        # calculating gradient from delta\n",
    "        for l in range(0,self.L):\n",
    "            gradmats[l] = self.Dmats[l].T @ self.Zmats[l] / self.N + self.lam/self.N*self.Wmats[l]\n",
    "        return costval, gradmats    "
   ]
  },
  {
   "cell_type": "markdown",
   "metadata": {},
   "source": [
    "### 4.5 Gradient check\n",
    "\n",
    "Because the implementation of the backward propagation is complicated, it is desirable to check whether the implementation is correct before we use the code. \n",
    "\n",
    "In this section, we compare the gradient obtained by the backward propagation and the gradient calculated from the direct numerical differentiation. \n",
    "\n",
    "The numerical differentiation is obtained as follows\n",
    "\n",
    "\\begin{equation}\n",
    "    \\frac{\\partial E_{tot} }{\\partial W^{(l)}_{i,j}} \\simeq \n",
    "        \\frac{ E_{tot}(W^{(l)}_{i,j}+\\varepsilon) - E_{tot}(W^{(l)}_{i,j}-\\varepsilon) }{2\\varepsilon}, \n",
    "\\end{equation}\n",
    "\n",
    "where we slightly abused the notation so that $E_{tot}(W^{(l)}_{i,j}\\pm\\varepsilon)$ means the value of the function, where all the elements, except for the $(l,i,j)$ element, of $W$ is fixed to $W^{(l')}_{i',j'}$, and the $(l,i,j)$ element is perturbed by $\\varepsilon$.\n",
    "The quantity $\\varepsilon$ is assumed to be small, and the error is $\\mathcal{O}(\\varepsilon)$, \n",
    "\n",
    "To perform the calculation, we first define a cost function and activation functions for multiclass classification."
   ]
  },
  {
   "cell_type": "code",
   "execution_count": 4,
   "metadata": {
    "collapsed": true
   },
   "outputs": [],
   "source": [
    "def E(Y,T):\n",
    "    N = len(Y)\n",
    "    return -np.sum( T*np.log(Y) )/N\n",
    "\n",
    "def softmax(x):\n",
    "    x0 = np.max(x,axis=1)\n",
    "    x0 = np.reshape(x0, (len(x0),1))\n",
    "    tmp = np.sum(np.exp(x-x0),axis=1)\n",
    "    return np.exp(x-x0)/np.reshape(tmp,(len(tmp),1))\n",
    "\n",
    "def sigmoid(x):\n",
    "    return 1.0/(1 + np.exp(-x))\n",
    "\n",
    "def sigmoid_diff(x):\n",
    "    return np.exp(-x)/((1+np.exp(-x))**2)"
   ]
  },
  {
   "cell_type": "markdown",
   "metadata": {},
   "source": [
    "The following functions perform numerical differentiation and the gradient check, where the function pm takes care of generating $W^{(l)}_{i,j} \\pm \\varepsilon$. \n",
    "If the implementation is correct, the output of the function gradCheck should be very small.\n",
    "\n",
    "Note : Simply deep copying \"Wmats\" by np.copy does not work, because \"Wmats\" is a numpy array with dtype being \"object\"."
   ]
  },
  {
   "cell_type": "code",
   "execution_count": 5,
   "metadata": {
    "collapsed": true
   },
   "outputs": [],
   "source": [
    "def pm(Wmats,l,i,j,ep):\n",
    "    L = len(Wmats)\n",
    "    Wmats_tmp_p = np.zeros(L,dtype='object')\n",
    "    Wmats_tmp_m = np.zeros(L,dtype='object')\n",
    "    for ll in range(0,L):\n",
    "        Wmats_tmp_p[ll] = np.copy(Wmats[ll])\n",
    "        Wmats_tmp_m[ll] = np.copy(Wmats[ll])\n",
    "    Wmats_tmp_p[l][i,j] += ep\n",
    "    Wmats_tmp_m[l][i,j] -= ep\n",
    "    return Wmats_tmp_p, Wmats_tmp_m\n",
    "    \n",
    "def gradCheck(nn, Wmats, X, T, ep):\n",
    "    gradmats_num =  np.zeros(nn.L, dtype='object')\n",
    "    for l in range(nn.L):\n",
    "        gradmats_num[l] = np.zeros((nn.num_elements[l+1],nn.num_elements[l]+1))\n",
    "        for i in range(nn.num_elements[l+1]):\n",
    "            for j in range(nn.num_elements[l]+1):\n",
    "                Wmats_tmp_p, Wmats_tmp_m = pm(Wmats,l,i,j,ep)\n",
    "                gradmats_num[l][i,j] = (nn.cost(Wmats_tmp_p,X,T) - nn.cost(Wmats_tmp_m,X,T))/(2*ep)\n",
    "    gradmats_bp = nn.CostAndGrad(Wmats, X, T)[1]\n",
    "    return np.sum(np.array([np.linalg.norm(gradmats_num[l]-gradmats_bp[l])**2  for l in range(nn.L)]))"
   ]
  },
  {
   "cell_type": "markdown",
   "metadata": {},
   "source": [
    "Let us check our implementation with a small neural network with randomly generated parameters and data as follows:"
   ]
  },
  {
   "cell_type": "code",
   "execution_count": 6,
   "metadata": {},
   "outputs": [
    {
     "data": {
      "text/plain": [
       "9.3792130763186325e-16"
      ]
     },
     "execution_count": 6,
     "metadata": {},
     "output_type": "execute_result"
    }
   ],
   "source": [
    "num_elements = np.array([4,3,2])\n",
    "Wmats = np.array([np.random.random((3,5)), np.random.random((2,4)) ])\n",
    "X = np.random.random((2,4))\n",
    "T = np.array([[1,0],[0,1]])\n",
    "\n",
    "nn_test = NN_proto(num_elements,sigmoid,sigmoid_diff,softmax,E,lam=0.5)\n",
    "gradCheck(nn_test, Wmats, X, T, 0.001)"
   ]
  },
  {
   "cell_type": "markdown",
   "metadata": {},
   "source": [
    "From the result, we can see that the gradient calculated from the backward propagation is consistent with that calculated from numerical differentiation."
   ]
  },
  {
   "cell_type": "markdown",
   "metadata": {
    "collapsed": true
   },
   "source": [
    "### 4.5 Training neural networks\n",
    "\n",
    "In the previous section, we have implemented neural networks with forward and backward propagation, by which we can obtain the cost function and its gradient. \n",
    "In this section, we implement functions which train the neural network. "
   ]
  },
  {
   "cell_type": "code",
   "execution_count": 7,
   "metadata": {
    "collapsed": true
   },
   "outputs": [],
   "source": [
    "class NN(NN_proto):\n",
    "    \n",
    "    ## reshaping functions. \n",
    "    ## These functions are required, because scipy minimize can take a function of a vector only.\n",
    "    # reshaping Wmats and gradmats (from a vector to matrices)\n",
    "    def reshapeW_vec2mats(self,vec):\n",
    "        mats = np.zeros(self.L,dtype='object')\n",
    "        tmp = 0\n",
    "        for l in range(self.L):\n",
    "            matlsize = self.num_elements[l+1]*(self.num_elements[l]+1)\n",
    "            mats[l] = np.reshape(vec[tmp:tmp+matlsize], ( self.num_elements[l+1], self.num_elements[l]+1 ))\n",
    "            tmp += matlsize        \n",
    "        return mats\n",
    "    # reshaping Wmats and gradmats (from matrices to a vector)\n",
    "    def reshapeW_mats2vec(self,mats):\n",
    "        vec = np.zeros( np.sum(self.num_elements[1:]*(self.num_elements[:self.L]+1)) )\n",
    "        tmp = 0\n",
    "        for l in range(self.L):\n",
    "            matlsize = self.num_elements[l+1]*(self.num_elements[l]+1)\n",
    "            vec[tmp:tmp+matlsize] = np.reshape(mats[l], matlsize)\n",
    "            tmp += matlsize\n",
    "        return vec\n",
    "    # Cost and gradient functions as a function of a vector, and returns a real number and a vector\n",
    "    def CostAndGrad_vec(self,Wvec, X, T):\n",
    "        Wmats = self.reshapeW_vec2mats(Wvec)\n",
    "        costval, gradmats = self.CostAndGrad(Wmats, X, T)\n",
    "        return costval, self.reshapeW_mats2vec(gradmats)\n",
    "    \n",
    "    def fit(self, X, T, ep = 0.01):\n",
    "        w0 = 2*ep*(np.random.random(np.sum(self.num_elements[1:]*(self.num_elements[:self.L]+1))) - 0.5)\n",
    "        ans = minimize(self.CostAndGrad_vec,x0 = w0, args =(X,T), method='CG', jac=True)\n",
    "        print(ans['fun'])\n",
    "        print(ans['success'])\n",
    "        print(ans['message'])\n",
    "        self.Wmats = self.reshapeW_vec2mats(ans['x'])\n",
    "        \n",
    "    def pred_prob(self, X):\n",
    "        return self.fprop(self.Wmats, X)\n",
    "    def pred_class(self, X):\n",
    "        self.fprop(self.Wmats,X)\n",
    "        return np.argmax(self.Y, axis=1)"
   ]
  },
  {
   "cell_type": "markdown",
   "metadata": {},
   "source": [
    "## 5 Classifying toy data\n",
    "\n",
    "As a toy example, we use the following \"spiral\" data in 2D."
   ]
  },
  {
   "cell_type": "code",
   "execution_count": 8,
   "metadata": {},
   "outputs": [
    {
     "data": {
      "image/png": "[encoded data removed]",
      "text/plain": [
       "<matplotlib.figure.Figure at 0x4871710>"
      ]
     },
     "metadata": {},
     "output_type": "display_data"
    }
   ],
   "source": [
    "C = 3\n",
    "\n",
    "def r(t):\n",
    "    return t**0.5\n",
    "\n",
    "N = 120\n",
    "xdat = np.zeros((N,2))\n",
    "ydat = np.zeros(N,dtype='int')\n",
    "cnt = 0\n",
    "while cnt < N :\n",
    "    c = np.random.randint(0,C)\n",
    "    ydat[cnt] = c\n",
    "    tmp = 2.9*np.random.random() + 0.1\n",
    "    xdat[cnt] = np.array([r(tmp)*np.cos(tmp+c*2*np.pi/3),r(tmp)*np.sin(tmp+c*2*np.pi/3)]) + 0.1*(np.random.random(2) -0.5)\n",
    "    cnt += 1\n",
    "\n",
    "tdat = np.zeros((N,C))\n",
    "for c in range(C):\n",
    "    tdat[:,c] = (ydat == c)\n",
    "    plt.plot(xdat[np.where(ydat==c)][:,0],xdat[np.where(ydat==c)][:,1],'.')\n",
    "plt.show()\n"
   ]
  },
  {
   "cell_type": "markdown",
   "metadata": {},
   "source": [
    "We use a 2-layer neural network with logistic sigmoid activation function and softmax output function."
   ]
  },
  {
   "cell_type": "code",
   "execution_count": 12,
   "metadata": {},
   "outputs": [
    {
     "name": "stdout",
     "output_type": "stream",
     "text": [
      "0.00016892610471769457\n",
      "True\n",
      "Optimization terminated successfully.\n"
     ]
    }
   ],
   "source": [
    "num_elements = np.array([2,3,3])\n",
    "\n",
    "nn_2Dspiral = NN(num_elements,sigmoid,sigmoid_diff,softmax,E,lam=0.0)\n",
    "nn_2Dspiral.fit(xdat,tdat)"
   ]
  },
  {
   "cell_type": "markdown",
   "metadata": {},
   "source": [
    "The prediction of the classifier can be visualized as follows:"
   ]
  },
  {
   "cell_type": "code",
   "execution_count": 13,
   "metadata": {},
   "outputs": [
    {
     "data": {
      "image/png": "[encoded data removed]",
      "text/plain": [
       "<matplotlib.figure.Figure at 0x682f5c0>"
      ]
     },
     "metadata": {},
     "output_type": "display_data"
    }
   ],
   "source": [
    "num0 = 50\n",
    "num1 = 51\n",
    "x0 = np.linspace(-2.0,2.0,num0)\n",
    "x1 = np.linspace(-2.0,2.0,num1)\n",
    "X0,X1 = np.meshgrid(x0,x1)\n",
    "\n",
    "Xtest = np.zeros((np.size(X0),2))\n",
    "Xtest[:,0] = np.reshape(X0,np.size(X0))\n",
    "Xtest[:,1] = np.reshape(X1,np.size(X1))\n",
    "                        \n",
    "pred_label = nn_2Dspiral.pred_class(Xtest)\n",
    "pred_label = np.reshape(pred_label,(num1,num0))\n",
    "\n",
    "plt.pcolormesh(X0,X1, pred_label)\n",
    "for c in range(C):\n",
    "    tdat[:,c] = (ydat == c)\n",
    "    plt.plot(xdat[np.where(ydat==c)][:,0],xdat[np.where(ydat==c)][:,1],'.')\n"
   ]
  },
  {
   "cell_type": "markdown",
   "metadata": {},
   "source": [
    "## 6 Classifying hand written digits\n",
    "\n",
    "As another example, here we apply the neural network to hand written digits."
   ]
  },
  {
   "cell_type": "code",
   "execution_count": 14,
   "metadata": {},
   "outputs": [
    {
     "name": "stdout",
     "output_type": "stream",
     "text": [
      "Training data : 1347\n",
      "Test data : 450\n"
     ]
    }
   ],
   "source": [
    "digits = datasets.load_digits()\n",
    "\n",
    "dat_train, dat_test, label_train, label_test = \\\n",
    "cross_validation.train_test_split(digits.data,digits.target)\n",
    "t_train = np.zeros((len(label_train),10))\n",
    "for c in range(10):\n",
    "    t_train[:,c] = (label_train == c)\n",
    "\n",
    "print(f\"Training data : {len(dat_train)}\")\n",
    "print(f\"Test data : {len(dat_test)}\")"
   ]
  },
  {
   "cell_type": "code",
   "execution_count": 15,
   "metadata": {},
   "outputs": [
    {
     "name": "stdout",
     "output_type": "stream",
     "text": [
      "0.0019163169128980397\n",
      "True\n",
      "Optimization terminated successfully.\n"
     ]
    }
   ],
   "source": [
    "num_elements = np.array([64,35,10])\n",
    "nn_mnist = NN(num_elements, sigmoid, sigmoid_diff, softmax, E, lam=0.01)\n",
    "nn_mnist.fit(dat_train,t_train)"
   ]
  },
  {
   "cell_type": "code",
   "execution_count": 16,
   "metadata": {},
   "outputs": [
    {
     "name": "stdout",
     "output_type": "stream",
     "text": [
      "0.977777777778\n",
      "             precision    recall  f1-score   support\n",
      "\n",
      "          0       1.00      1.00      1.00        37\n",
      "          1       0.96      0.94      0.95        47\n",
      "          2       1.00      0.96      0.98        47\n",
      "          3       0.98      0.96      0.97        49\n",
      "          4       1.00      1.00      1.00        42\n",
      "          5       1.00      0.98      0.99        44\n",
      "          6       1.00      1.00      1.00        55\n",
      "          7       1.00      1.00      1.00        37\n",
      "          8       0.92      0.98      0.95        47\n",
      "          9       0.94      0.98      0.96        45\n",
      "\n",
      "avg / total       0.98      0.98      0.98       450\n",
      "\n"
     ]
    }
   ],
   "source": [
    "label_test_pred = nn_mnist.pred_class(dat_test)\n",
    "ac_score = metrics.accuracy_score(label_test, label_test_pred)\n",
    "cl_report = metrics.classification_report(label_test, label_test_pred)\n",
    "print(ac_score)\n",
    "print(cl_report)"
   ]
  }
 ],
 "metadata": {
  "kernelspec": {
   "display_name": "Python 3",
   "language": "python",
   "name": "python3"
  },
  "language_info": {
   "codemirror_mode": {
    "name": "ipython",
    "version": 3
   },
   "file_extension": ".py",
   "mimetype": "text/x-python",
   "name": "python",
   "nbconvert_exporter": "python",
   "pygments_lexer": "ipython3",
   "version": "3.6.1"
  }
 },
 "nbformat": 4,
 "nbformat_minor": 2
}
