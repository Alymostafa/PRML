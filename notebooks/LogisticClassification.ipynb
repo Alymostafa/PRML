{
 "cells": [
  {
   "cell_type": "markdown",
   "metadata": {},
   "source": [
    "# Logistic regression classifier\n",
    "\n",
    "In this notebook, we implement logistic regression classifier described in Section 4.3 of the book PRML. "
   ]
  },
  {
   "cell_type": "code",
   "execution_count": 1,
   "metadata": {
    "collapsed": true
   },
   "outputs": [],
   "source": [
    "import time\n",
    "import numpy as np\n",
    "import matplotlib as mpl\n",
    "from matplotlib import pyplot as plt\n",
    "\n",
    "%matplotlib inline\n",
    "plt.rcParams['axes.labelsize'] = 14\n",
    "plt.rcParams['xtick.labelsize'] = 12\n",
    "plt.rcParams['ytick.labelsize'] = 12\n",
    "\n",
    "#to make this notebook's output stable across runs\n",
    "np.random.seed(42)"
   ]
  },
  {
   "cell_type": "markdown",
   "metadata": {},
   "source": [
    "# 1. Setting \n",
    "\n",
    "* Let $N \\in \\mathbb{N}$ be the number of training data points, \n",
    "* $d \\in \\mathbb{N}$ be the dimension of input, \n",
    "* $\\mathcal{C} = \\left\\{ 0, 1, \\dots, C-1 \\right\\}$ be the set of class labels, \n",
    "* $x_0, x_1, \\dots , x_{N-1} \\in \\mathbb{R}^d$ be the training input data, $y_0, y_1, \\dots, y_{N-1} \\in \\mathcal{C}$ be the training labels, and\n",
    "$y := (y_0, \\dots, y_{N-1})^T \\in \\mathcal{C}^N$.\n",
    "* Let $t_n \\in \\left\\{0,1\\right\\}^{C}$ be the 1-of-$C$ coding of $y_n$, i.e., for $y_n = c$, $t_n$ is a vector with its $c$ th component being 1 and other components being zero. "
   ]
  },
  {
   "cell_type": "markdown",
   "metadata": {},
   "source": [
    "# 2. Theory \n",
    "\n",
    "## 2.1 Model\n",
    "\n",
    "We consider the following discriminative model (equation (4.104) in PRML)\n",
    "$$\n",
    "\\begin{align}\n",
    "    p(y|x,\\theta) = \\frac{\\exp\\left[{\\theta^{(y)}}^T \\phi(x)\\right] }{ \\sum_{y'=0}^{C-1} \\exp\\left[{\\theta^{(y')}}^T \\phi(x)\\right] }\n",
    "\\end{align}\n",
    "$$\n",
    "where\n",
    "* $\\phi : \\mathbb{R}^d \\rightarrow \\mathbb{R}^M $, $\\phi(x) = (\\phi_0(x), \\dots, \\phi_{M-1}(x))^T$ are basis functions,  \n",
    "* $\\theta^{(y)} \\in \\mathbb{R}^M$ are weight parameters, and \n",
    "* $\\theta = \\left( {\\theta^{(0)}}^T, \\dots, {\\theta^{(C-1)}}^T  \\right)^T \\in \\mathbb{R}^{CM}$\n",
    "\n",
    "Later, we use \"linear\" basis function\n",
    "$$\n",
    "\\begin{align}\n",
    "    \\phi_j(x) = \\begin{cases}\n",
    "        1 & (j=0)\\\\\n",
    "        x^{(j-1)} & (j = 1.\\dots, d) \n",
    "    \\end{cases}\n",
    "\\end{align},\n",
    "$$\n",
    "where $x^{(j)}$ represents $j$-th element of $x \\in \\mathbb{R}^d$\n",
    "\n",
    "\n",
    "Let $\\Phi$ be a $N \\times M$ matrix defined by\n",
    "\\begin{equation}\n",
    "    \\Phi = (\\Phi_{i,j}), \\ \\ \\Phi_{i,j} = \\phi_j(x_i)\n",
    "\\end{equation}"
   ]
  },
  {
   "cell_type": "markdown",
   "metadata": {},
   "source": [
    "## 2.2 Cost function and its derivatives\n",
    "\n",
    "### 2.2.1 Cost function\n",
    "\n",
    "In training a logistic classifier, we select the parameter that minimizes the following cost function (See equations (4.107) and (4.108) in PRML) : \n",
    "$$\n",
    "\\begin{align}\n",
    "    J(\\theta) :=  - \\frac{1}{N} \\sum_{n=0}^{N-1} \\sum_{c=0}^{C-1} t_{n,c} \\log p_{n,c} + \\frac{\\lambda}{2N} \\| \\theta \\|^2, \n",
    "\\end{align}\n",
    "$$\n",
    "where \n",
    "$$\n",
    "\\begin{align}\n",
    "    p_{n,c} &:= p(c|x_n,\\theta) = \\frac{\\exp\\left[{\\theta^{(c)}}^T \\phi(x_n)\\right] }{ \\sum_{c'=0}^{C-1} \\exp\\left[ {\\theta^{(c')}}^T \\phi(x_n)  \\right]}  \\\\\n",
    "    t_{n,c} &:= \\delta_{y_n, c}\n",
    "\\end{align}\n",
    "$$\n",
    "the first term is negative log likelihood, and the second term is a $l^2$ regularization term.\n",
    "\n",
    "### 2.2.2 Gradient\n",
    "\n",
    "To perform the minimization, we need the gradient of the cost function, which is given by (See equation (4.109) in PRML)\n",
    "$$\n",
    "\\begin{align}\n",
    "    \\frac{\\partial J}{\\partial \\theta^{(c)}_{j}} = \n",
    "        \\frac{1}{N} \\sum_{n=0}^{N-1} ( p_{n,c} -  t_{n,c}) \\phi_j(x_n) + \\frac{\\lambda}{N} \\theta^{(c)}_{j}\n",
    "\\end{align}\n",
    "$$\n",
    "\n",
    "### 2.2.3 Hessian\n",
    "\n",
    "Later, we use the second derivative, or Hessian, of the cost function to perform minimization (Newton-Raphson) method. Here, the Hessian is given by (See equation (4.110) in PRML)\n",
    "$$\n",
    "\\begin{align}\n",
    "    H_{(c, j), (c', j')} &:= \\frac{\\partial^2 J}{\\partial \\theta^{(c)}_{j} \\partial \\theta^{(c')}_{j'}} \\\\\n",
    "    &= \\frac{1}{N} \\sum_{n=0}^{N-1} p_{n, c} \\left( \\delta_{c, c'} - p_{n, c'}\\right) \\Phi_{n, j} \\Phi_{n, j'}\n",
    "    + \\frac{\\lambda}{N} \\delta_{c, c'} \\delta_{j, j'} \n",
    "\\end{align}\n",
    "$$"
   ]
  },
  {
   "cell_type": "markdown",
   "metadata": {},
   "source": [
    "## 2.3 Minimization of the cost function\n",
    "\n",
    "In contrast to the linear regression cases discussed in Chapter 3 of PRML, we now have a cost function which cannot be analytically minimized. Thus, we resort to numerical minimization of the cost function. \n",
    "\n",
    "Here we try two methods: gradient descent and Newton-Raphson method. \n",
    "\n",
    "### 2.3.1 Gradient Descent\n",
    "\n",
    "In gradient descent method, we iteratively update our variable in the direction of gradient, i.e., if we denote the function to be minimized by $f$ and its variable by $x$, then in the $n$-th step of iteration, we have\n",
    "$$\n",
    "\\begin{align}\n",
    "    x_{n+1} = x_n - \\alpha \\nabla f(x_n)\n",
    "\\end{align}\n",
    "$$\n",
    "where $\\alpha > 0$ is learning rate, which should be specified by the user.\n",
    "\n",
    "### 2.3.2 Newton-Raphson method\n",
    "\n",
    "In Newton-Raphson algorithm, we utilize the information of second derivative. More specifically, if we denote\n",
    "* the function to be minimized by $f$, \n",
    "* the Hessian of the function by $H$, and\n",
    "* the variable by $x$, \n",
    "\n",
    "then in $n$-th step, we have\n",
    "$$\n",
    "\\begin{align}\n",
    "    x_{n+1} = x_{n} - \\left[H(x_n)\\right]^{-1} \\nabla f(x_n)\n",
    "\\end{align}\n",
    "$$\n",
    "\n",
    "### 2.3.3 Comparison\n",
    "\n",
    "Because Newton-Raphson method requires the information of Hessian and inverting it, the computational cost for each iteration is higher than that of gradient descent. \n",
    "However, it usually converges much faster than gradient descent in the sense that the number of iteration required is much smaller. Thus, Newton-Raphson method is usually preferred when the dimension of the input (feature) is not too large. \n",
    "\n",
    "For detail, see a lecture by Prof. Andrew Ng https://www.youtube.com/watch?v=iwO0JPt59YQ"
   ]
  },
  {
   "cell_type": "markdown",
   "metadata": {},
   "source": [
    "# 3. From math to code\n",
    "\n",
    "## 3.1 Matrix representation\n",
    "\n",
    "Here we express cost function and its gradient using a matrix notation. \n",
    "The following matrix will be used:\n",
    "* $\\Phi$ or `Phi` : `(N, M)` array, where `Phi[n, m]` = $\\phi_m(x_n)$\n",
    "* $\\Theta$ or `Theta` : `(C, M)` array, where `Theta[c, j]` = $\\theta^{(c)}_{j}$\n",
    "* $T$ or `T` : `(N,C)` array, where `T[n, c]` = $t_{n, c}$\n",
    "* $P$ or `P` : `(N, C)` array, where `P[n, c]` = $p_{n, c}$\n",
    "\n",
    "Note that $P$ can be expressed by $\\Phi$ and $\\Theta$ as \n",
    "\n",
    "$$\n",
    "\\begin{align}\n",
    "    P_{n,c} &= \\frac{\\exp\\left[\\sum_{j=0}^{M-1} \\theta^{(c)}_{j} \\phi_{j}(x_n)\\right] }{ \\sum_{c'=0}^{C-1} \\exp\\left[ \\sum_{j=0}^{M-1} \\theta^{(c')}_{j} \\phi_{j}(x_n)  \\right]} \\\\\n",
    "    &= \\frac{ \\exp \\left[ \\left( \\Phi \\Theta^T \\right)_{n, c'} \\right]  }{ \\sum_{c'=0}^{C-1} \\exp\\left[ \\left( \\Phi \\Theta^T \\right)_{n, c'} \\right] }\n",
    "\\end{align}\n",
    "$$"
   ]
  },
  {
   "cell_type": "code",
   "execution_count": 2,
   "metadata": {
    "collapsed": true
   },
   "outputs": [],
   "source": [
    "def calcPhimat(X):\n",
    "    '''\n",
    "    This function generates the design matrix Phi from X, the input data\n",
    "        \n",
    "    Parameters\n",
    "    ----------\n",
    "    X : 2-D numpy array\n",
    "        (N,d) numpy array, with X[n, i] = i-th element of x_n\n",
    "            \n",
    "    Returns\n",
    "    ----------\n",
    "    Phi : 2-D numpy array\n",
    "        The design matrix\n",
    "    '''\n",
    "    N = len(X)\n",
    "    if len(np.shape(X)) == 1:\n",
    "        d = 1\n",
    "    else:\n",
    "        d = np.shape(X)[1]\n",
    "    Phi = np.zeros((N,d+1))\n",
    "    Phi[:,0] = np.ones(N)\n",
    "    Phi[:,1:] = np.reshape(X, (N,d))\n",
    "    return Phi\n",
    "\n",
    "def calcTmat(y, C):\n",
    "    '''\n",
    "    This function generates the matrix T from the training label y and the number of classes C\n",
    "    \n",
    "    Parameters\n",
    "    ----------\n",
    "    y : 1-D numpy array\n",
    "        The elements of y should be integers in [0, C-1]\n",
    "    C : int\n",
    "        The number of classes\n",
    "        \n",
    "    Returns\n",
    "    ----------\n",
    "    T : (len(y), C) numpy array\n",
    "        T[n, c] = 1 if y[n] == c else 0\n",
    "    '''\n",
    "    N = len(y)\n",
    "    T = np.zeros((N, C))\n",
    "    for c in range(C):\n",
    "        T[:, c] = (y == c)\n",
    "    return T\n",
    "\n",
    "def calcPmat(Theta, Phi):\n",
    "    '''\n",
    "    This function generates the matrix P from the weight Theta and the design matrix Phi\n",
    "    \n",
    "    Parameters\n",
    "    ----------\n",
    "    Theta : 2-D numpy array\n",
    "        Matrix representing the weight parameter\n",
    "    Phi : 2-D numpy array\n",
    "        The design matrix\n",
    "        \n",
    "    Returns\n",
    "    ----------\n",
    "    P : 2-D numpy array\n",
    "    '''\n",
    "    P = np.exp( Phi @ (Theta.T) )\n",
    "    P = P/np.reshape( np.sum(P, axis= 1), (len(Phi),1)  ) \n",
    "    return P"
   ]
  },
  {
   "cell_type": "markdown",
   "metadata": {},
   "source": [
    "## 3.2 Cost function and its derivatives\n",
    "\n",
    "With these definitions, for the cost function, we have\n",
    "$$\n",
    "\\begin{align}\n",
    "    J(\\Theta) \n",
    "        &= - \\frac{1}{N} \\sum_{n=0}^{N-1} \\sum_{c=0}^{C-1} t_{n,c} \\log p_{n,c} + \\frac{\\lambda}{2N} \\| \\theta \\|^2  \\\\\n",
    "        &= -\\frac{1}{N} sum(T \\ast \\log P) + \\frac{\\lambda}{2N} \\| \\Theta \\|_{2}^{2}\n",
    "\\end{align}\n",
    "$$\n",
    "where $\\log$ means elementwise log, $\\ast$ means elementwise product, and, $sum$ means summing up all elements of a matrix. "
   ]
  },
  {
   "cell_type": "code",
   "execution_count": 3,
   "metadata": {
    "collapsed": true
   },
   "outputs": [],
   "source": [
    "def cost_function(thtvec, Phi, T, lam):\n",
    "    '''\n",
    "    This function calculate the loss function and its gradient\n",
    "    \n",
    "    Parameters\n",
    "    ----------\n",
    "    thtvec : 1-D numpy array \n",
    "        (M*C,) array, which represents the weight parameter Theta, in flattened form\n",
    "    Phi : 2-D numpy array\n",
    "        (N, M) array, design matrix\n",
    "    T : 2-D numpy array\n",
    "        (N, C) array, where T[n, c] = 1 if y[n] == c else 0\n",
    "    lam : float\n",
    "        The regularization constant\n",
    "    \n",
    "    Returns\n",
    "    ----------\n",
    "    J : float\n",
    "        The value of cost function        \n",
    "    '''\n",
    "    N, M = np.shape(Phi)\n",
    "    C = np.shape(T)[1]\n",
    "    Theta = np.reshape(thtvec, (C, M))\n",
    "    P = calcPmat(Theta, Phi)\n",
    "    J = -1.0/N*np.sum(T*np.log(P)) + lam/(2.0*N)*np.linalg.norm(thtvec)**2\n",
    "    return J"
   ]
  },
  {
   "cell_type": "markdown",
   "metadata": {},
   "source": [
    "If we regard $\\frac{\\partial J(\\Theta)}{\\partial \\Theta}$ as a matrix, then the gradient can be written as\n",
    "$$\n",
    "\\begin{align}\n",
    "    \\frac{\\partial J(\\Theta)}{\\partial \\Theta}\n",
    "    &= \\left(  \\frac{1}{N} \\sum_{n=0}^{N-1} ( p_{n,c} -  t_{n,c}) \\phi_j(x_n) + \\frac{\\lambda}{N} \\theta^{(c)}_{j} \\right)_{c,j} \\\\\n",
    "    &= \\frac{1}{N} (P-T)^T \\Phi + \\frac{\\lambda}{N} \\Theta. \n",
    "\\end{align}\n",
    "$$\n",
    "Because our (and many other) minimization functions assume that gradient is given as a vector (or 1-D array), we convert the matrix (2-D array) by invoking `np.reshape`. "
   ]
  },
  {
   "cell_type": "code",
   "execution_count": 4,
   "metadata": {
    "collapsed": true
   },
   "outputs": [],
   "source": [
    "def grad_cost_function(thtvec, Phi, T, lam):\n",
    "    '''\n",
    "    This function calculates the gradient of the cost function \n",
    "    \n",
    "    Parameters\n",
    "    ----------\n",
    "    See the help for cost_function\n",
    "        \n",
    "    Returns\n",
    "    ----------\n",
    "    grad_vec : 2-D array\n",
    "        The gradient of the cost function with respect to the weight parameter Theta, in flattened form\n",
    "    '''\n",
    "    N, M = np.shape(Phi)\n",
    "    C = np.shape(T)[1]\n",
    "    Theta = np.reshape(thtvec, (C, M))\n",
    "    P = calcPmat(Theta, Phi)\n",
    "    grad_mat = 1.0/N*((P - T).T) @ Phi + lam/N*Theta\n",
    "    grad_vec = np.reshape(grad_mat, len(thtvec))\n",
    "    return grad_vec"
   ]
  },
  {
   "cell_type": "markdown",
   "metadata": {},
   "source": [
    "Calculating Hessian is more complicated (Recall that our implementation of Newton-Raphson method assumes that Hessian is a matrix, i.e., it is 2-D array. ) . \n",
    "Before delving into the calculation, let us recall the analytic expression for the Hessian (We have rewritten indeices here).\n",
    "$$\n",
    "\\begin{align}\n",
    "    H_{(i, j), (k, l)} &= \\frac{\\partial^2 J}{\\partial \\theta^{(i)}_{j} \\partial \\theta^{(k)}_{l}} \\\\\n",
    "    &= \\frac{1}{N} \\sum_{n=0}^{N-1} p_{n, i} \\left( \\delta_{i, k} - p_{n, k}\\right) \\Phi_{n, j} \\Phi_{n, l}\n",
    "    + \\frac{\\lambda}{N} \\delta_{(i,j), (k,l)}\n",
    "\\end{align}\n",
    "$$\n",
    "Frist, we calculate a $(C, M, C, M)$ array corresponding to the first term, i.e., we treat the regularization term later, because it is just a $CM \\times CM$ identity matrix.\n",
    "\n",
    "For doing this, we can make use of numpy broadcasting and `np.einsum`"
   ]
  },
  {
   "cell_type": "code",
   "execution_count": 5,
   "metadata": {
    "collapsed": true
   },
   "outputs": [],
   "source": [
    "def hess_cost_function(thtvec, Phi, T, lam):\n",
    "    '''\n",
    "    This function calculates the Hessian of the cost function \n",
    "    \n",
    "    Parameters\n",
    "    ----------\n",
    "    See the help for cost_function\n",
    "    \n",
    "    Returns\n",
    "    ----------\n",
    "    H : 2-D array\n",
    "        The hessian\n",
    "    '''\n",
    "    N, M = np.shape(Phi)\n",
    "    C = np.shape(T)[1]\n",
    "    Theta = np.reshape(thtvec, (C, M))\n",
    "    P = calcPmat(Theta, Phi)\n",
    "    tmparr_A = np.reshape(P, (N, C, 1)) * ( np.reshape(np.identity(C), (1, C, C)) - np.reshape(P, (N, 1, C)) )\n",
    "    tmparr_B = np.reshape(Phi, (N, M, 1)) * np.reshape(Phi, (N, 1, M)) \n",
    "    H_tmp = np.einsum('nik,njl->ijkl', tmparr_A, tmparr_B)/N\n",
    "    H = np.reshape(H_tmp, (C*M, C*M)) + lam/N*np.identity(C*M)\n",
    "    return H"
   ]
  },
  {
   "cell_type": "markdown",
   "metadata": {},
   "source": [
    "## 3.3 Minimization\n",
    "\n",
    "Here, we use gradient descent and Newton-Raphson method to numerically minimize the cost function. The functions performing these minimization procedures are given below."
   ]
  },
  {
   "cell_type": "code",
   "execution_count": 6,
   "metadata": {
    "collapsed": true
   },
   "outputs": [],
   "source": [
    "def minimize_GD(func, x0, grad, alpha=0.01, maxiter=1e4, ftol=1e-5):\n",
    "    '''\n",
    "    This function minimizes the given function using gradient descent method\n",
    "    \n",
    "    Parameters\n",
    "    ----------\n",
    "    func : callable\n",
    "        Function to be minimized (real-valued)\n",
    "    x0 : 1-D array\n",
    "        Initial value of the variable\n",
    "    grad : callable\n",
    "        The gradient of func (returns 1-D array)\n",
    "    alpha : float\n",
    "        Learning rate\n",
    "    maxiter : int\n",
    "        Maximum number of iteration\n",
    "    ftol : float\n",
    "        The threshold for stopping criterion. If the change of the value of function is smaller than this value, the iteration stops.\n",
    "    \n",
    "    Returns\n",
    "    ----------\n",
    "    result : dictionary\n",
    "        result['x'] ... variable, result['nit'] ... the number of iteration, result['func']...the value of the function, result['success']... whether the minimization is successful or not\n",
    "    '''\n",
    "    x = x0\n",
    "    nit = 0\n",
    "    while nit < maxiter:\n",
    "        xold = x\n",
    "        x = x - alpha*grad(x)\n",
    "        nit += 1\n",
    "        if abs(func(x) - func(xold)) < ftol:\n",
    "            break\n",
    "    success = (nit < maxiter)\n",
    "    return {'x': x, 'nit':nit, 'func':func(x), 'success':success}\n",
    "\n",
    "def minimize_NR(func, x0, grad, hess, maxiter=1e4, ftol=1e-5):\n",
    "    '''\n",
    "    This function minimizes the given function using Newton-Raphson method\n",
    "    \n",
    "    Parameters\n",
    "    ----------\n",
    "    func : callable\n",
    "        Function to be minimized (real-valued)\n",
    "    x0 : 1-D array\n",
    "        Initial value of the variable\n",
    "    grad : callable\n",
    "        The gradient of func (returns 1-D array)\n",
    "    hess: callable\n",
    "        The hessian of func (returns 2-D array)\n",
    "    maxiter : int\n",
    "        Maximum number of iteration\n",
    "    ftol : float\n",
    "        The threshold for stopping criterion. If the change of the value of function is smaller than this value, the iteration stops.\n",
    "    \n",
    "    Returns\n",
    "    ----------\n",
    "    result : dictionary\n",
    "        result['x'] ... variable, result['nit'] ... the number of iteration, result['func']...the value of the function, result['success']... whether the minimization is successful or not\n",
    "    '''\n",
    "    x = x0\n",
    "    nit = 0\n",
    "    while nit < maxiter:\n",
    "        xold = x\n",
    "        x = x - np.linalg.solve(hess(x), grad(x))\n",
    "        nit += 1\n",
    "        if abs(func(x) - func(xold)) < ftol:\n",
    "            break\n",
    "    success = (nit < maxiter)\n",
    "    return {'x': x, 'nit':nit, 'func':func(x), 'success':success} \n",
    "\n",
    "def minimize(func, x0, method, grad, hess=None, alpha=None, maxiter=1e4, ftol=1e-5):\n",
    "    '''\n",
    "    This function minimizes the given function using the method speicified by user.\n",
    "    \n",
    "    Parameters\n",
    "    ----------\n",
    "    func : callable\n",
    "        Function to be minimized (real-valued)\n",
    "    x0 : 1-D array\n",
    "        Initial value of the variable\n",
    "    method : string\n",
    "        One of 'GD', 'NR'.\n",
    "    grad : callable\n",
    "        The gradient of func (returns 1-D array)\n",
    "    hess : callable\n",
    "        The hessian of func (returns 2-D array). Required when method='NR'\n",
    "    alpha : float\n",
    "        Learning rate\n",
    "    maxiter : int\n",
    "        Maximum number of iteration\n",
    "    ftol : float\n",
    "        The threshold for stopping criterion. If the change of the value of function is smaller than this value, the iteration stops.\n",
    "    \n",
    "    Returns\n",
    "    ----------\n",
    "    result : dictionary\n",
    "        result['x'] ... variable, result['nit'] ... the number of iteration, result['func']...the value of the function, result['success']... whether the minimization is successful or not\n",
    "    '''\n",
    "    if method == 'GD':\n",
    "        if alpha is None:\n",
    "            print(\"Gradient descent needs a learning rate parameter alpha.\")\n",
    "            return\n",
    "        else:\n",
    "            return minimize_GD(func, x0, grad, alpha, maxiter, ftol)\n",
    "    elif method == 'NR':\n",
    "        if hess is None:\n",
    "            print(\"Newton-Raphson methods requires the hessian.\")\n",
    "            return\n",
    "        else:\n",
    "            return minimize_NR(func, x0, grad, hess, maxiter, ftol)"
   ]
  },
  {
   "cell_type": "markdown",
   "metadata": {},
   "source": [
    "## 3.4 Classifier "
   ]
  },
  {
   "cell_type": "code",
   "execution_count": 7,
   "metadata": {
    "collapsed": true
   },
   "outputs": [],
   "source": [
    "class LogisticClf:\n",
    "    def __init__(self, C, lam):\n",
    "        self.C = C  # the number of labels\n",
    "        self.lam = lam #regularization parameter\n",
    "        self.Theta = None\n",
    "            \n",
    "    def fit(self, X, y, method='NR', alpha=None, maxiter=1e4, ftol=1e-5, show_message=False):\n",
    "        '''\n",
    "        Parameters\n",
    "        ----------\n",
    "        X : 1-D or 2-D numpy array\n",
    "            (N,) or (N, d) array, representing the training input data\n",
    "        y : 1-D numpy arra\n",
    "            (N,) array, representing training labels\n",
    "        '''\n",
    "        Phi = calcPhimat(X)\n",
    "        T = calcTmat(y, self.C)\n",
    "        N, M = np.shape(Phi)\n",
    "        \n",
    "        tht0 = np.zeros(M*self.C)\n",
    "        time_start = time.time()\n",
    "        result = minimize(func=lambda x : cost_function(x, Phi, T, self.lam), \n",
    "                          x0=tht0, \n",
    "                          method=method,\n",
    "                          grad=lambda x : grad_cost_function(x, Phi, T, self.lam),\n",
    "                          hess=lambda x : hess_cost_function(x, Phi, T, self.lam),\n",
    "                          alpha=alpha,\n",
    "                          maxiter=maxiter,\n",
    "                          ftol=ftol\n",
    "                         )\n",
    "        time_end = time.time()\n",
    "        if show_message:\n",
    "            print(result['success'])\n",
    "            print(f\"nit: {result['nit']}\")\n",
    "            print(f\"calcualtion time : {time_end - time_start}seconds\")\n",
    "        self.Theta = np.reshape(result['x'], (self.C, M))\n",
    "        \n",
    "    def predict_proba(self, X):\n",
    "        '''\n",
    "        Parameters\n",
    "        ----------\n",
    "        X : 1-D or 2-D numpy array\n",
    "            (N,) or (N, d) array, representing the training input data\n",
    "        Returns\n",
    "        ----------\n",
    "        proba : 2-D numpy arra\n",
    "            (len(X), self.C) array, where proba[n, c] represents the probability that the n-th instance belongs to c-th class\n",
    "        '''\n",
    "        return calcPmat(self.Theta, calcPhimat(X))\n",
    "        \n",
    "    def predict(self, X):\n",
    "        '''\n",
    "        Parameters\n",
    "        ----------\n",
    "        X : 1-D or 2-D numpy array\n",
    "            (N,) or (N, d) array, representing the training input data\n",
    "        Returns\n",
    "        ----------\n",
    "        classes : 1-D numpy arra\n",
    "            (len(X), ) array, where classes[n] represents the predicted class to which the n-th instance belongs\n",
    "        '''\n",
    "        tmp = self.predict_proba(X)\n",
    "        return np.argmax(tmp, axis=1 )"
   ]
  },
  {
   "cell_type": "markdown",
   "metadata": {},
   "source": [
    "# 4. Experiment"
   ]
  },
  {
   "cell_type": "code",
   "execution_count": 8,
   "metadata": {
    "collapsed": true
   },
   "outputs": [],
   "source": [
    "from sklearn import datasets\n",
    "from sklearn.metrics import accuracy_score\n",
    "from sklearn.model_selection import train_test_split"
   ]
  },
  {
   "cell_type": "markdown",
   "metadata": {},
   "source": [
    "## 4.1 Toy data"
   ]
  },
  {
   "cell_type": "code",
   "execution_count": 9,
   "metadata": {},
   "outputs": [
    {
     "data": {
      "image/png": "[encoded data removed]",
      "text/plain": [
       "<Figure size 432x288 with 1 Axes>"
      ]
     },
     "metadata": {},
     "output_type": "display_data"
    }
   ],
   "source": [
    "X, y = datasets.make_blobs(n_samples=200, n_features=2, centers=3)\n",
    "for c in range(3):\n",
    "    plt.plot(X[:,0][y==c], X[:,1][y==c], 'o', label=f'{c}')\n",
    "plt.legend()\n",
    "plt.show()"
   ]
  },
  {
   "cell_type": "code",
   "execution_count": 10,
   "metadata": {
    "collapsed": true
   },
   "outputs": [],
   "source": [
    "xx = np.linspace(np.min(X[:,0]), np.max(X[:,0]),101)\n",
    "yy = np.linspace(np.min(X[:,1]), np.max(X[:,1]),100)\n",
    "Xtest = np.array([[x,y] for x in xx  for y in yy])\n",
    "xxx,yyy = np.meshgrid(xx, yy)\n",
    "\n",
    "def plot_result_blob(clf, C):\n",
    "    for c in range(C):\n",
    "        plt.plot(X[:,0][y==c], X[:,1][y==c],\"o\",label=f\"{c}\")\n",
    "    plt.legend()\n",
    "    pred_val = clf.predict(Xtest)\n",
    "    pred_val_2D = np.reshape(pred_val, (len(xx), len(yy))).T\n",
    "    plt.pcolormesh(xxx, yyy, pred_val_2D)\n",
    "    plt.colorbar()\n",
    "    plt.show()"
   ]
  },
  {
   "cell_type": "markdown",
   "metadata": {},
   "source": [
    "Let us solve the problem by gradient descent and Newton-Raphson method."
   ]
  },
  {
   "cell_type": "code",
   "execution_count": 11,
   "metadata": {
    "scrolled": true
   },
   "outputs": [
    {
     "name": "stdout",
     "output_type": "stream",
     "text": [
      "True\n",
      "nit: 693\n",
      "calcualtion time : 0.13400602340698242seconds\n"
     ]
    },
    {
     "data": {
      "image/png": "[encoded data removed]",
      "text/plain": [
       "<Figure size 432x288 with 2 Axes>"
      ]
     },
     "metadata": {},
     "output_type": "display_data"
    }
   ],
   "source": [
    "clf = LogisticClf(C = 3, lam = 1.0)\n",
    "clf.fit(X, y, show_message=True, method='GD', alpha=0.01)\n",
    "plot_result_blob(clf, 3)"
   ]
  },
  {
   "cell_type": "code",
   "execution_count": 12,
   "metadata": {
    "scrolled": true
   },
   "outputs": [
    {
     "name": "stdout",
     "output_type": "stream",
     "text": [
      "True\n",
      "nit: 8\n",
      "calcualtion time : 0.008000612258911133seconds\n"
     ]
    },
    {
     "data": {
      "image/png": "[encoded data removed]",
      "text/plain": [
       "<Figure size 432x288 with 2 Axes>"
      ]
     },
     "metadata": {},
     "output_type": "display_data"
    }
   ],
   "source": [
    "clf = LogisticClf(C = 3, lam = 1.0)\n",
    "clf.fit(X, y, show_message=True, method='NR')\n",
    "plot_result_blob(clf, 3)"
   ]
  },
  {
   "cell_type": "markdown",
   "metadata": {},
   "source": [
    "We can see that data are completely separated, and the decision boundaries are straight, because we employed 'linear' basis functions. \n",
    "\n",
    "Moreover, Newton-Raphson method converges much faster compared with gradient descent method in terms of both iteration number and real calculaation time. Note that in this case we only have $MC = 9$, which is small."
   ]
  },
  {
   "cell_type": "markdown",
   "metadata": {},
   "source": [
    "## 4.2 Hand-written digits\n",
    "\n",
    "Let us try out larger data. Here, we use MNIST hand-written digits data."
   ]
  },
  {
   "cell_type": "code",
   "execution_count": 13,
   "metadata": {},
   "outputs": [
    {
     "name": "stdout",
     "output_type": "stream",
     "text": [
      "Training data : 1347\n",
      "Test data : 450\n"
     ]
    }
   ],
   "source": [
    "digits = datasets.load_digits()\n",
    "dat_train, dat_test, label_train, label_test = train_test_split(digits.data, digits.target, test_size=0.25)\n",
    "\n",
    "print(f\"Training data : {len(dat_train)}\")\n",
    "print(f\"Test data : {len(dat_test)}\")"
   ]
  },
  {
   "cell_type": "code",
   "execution_count": 14,
   "metadata": {
    "collapsed": true
   },
   "outputs": [],
   "source": [
    "def show_result_digit(clf):\n",
    "    label_test_pred = clf.predict(dat_test)\n",
    "    print(f\"train accuracy score: {accuracy_score(label_train, clf.predict(dat_train))}\")\n",
    "    print(f\"test accuracy score: {accuracy_score(label_test, label_test_pred)}\")"
   ]
  },
  {
   "cell_type": "markdown",
   "metadata": {},
   "source": [
    "Let us compare the results for gradient descent and Newton-Raphson method."
   ]
  },
  {
   "cell_type": "code",
   "execution_count": 15,
   "metadata": {
    "scrolled": true
   },
   "outputs": [
    {
     "name": "stdout",
     "output_type": "stream",
     "text": [
      "True\n",
      "nit: 2104\n",
      "calcualtion time : 2.6761090755462646seconds\n",
      "train accuracy score: 0.9977728285077951\n",
      "test accuracy score: 0.9711111111111111\n"
     ]
    }
   ],
   "source": [
    "clf = LogisticClf(C=10, lam=1.0)\n",
    "clf.fit(dat_train, label_train, method='GD', alpha=0.01, show_message=True)\n",
    "show_result_digit(clf)"
   ]
  },
  {
   "cell_type": "code",
   "execution_count": 16,
   "metadata": {
    "scrolled": false
   },
   "outputs": [
    {
     "name": "stdout",
     "output_type": "stream",
     "text": [
      "True\n",
      "nit: 9\n",
      "calcualtion time : 24.852784872055054seconds\n",
      "train accuracy score: 1.0\n",
      "test accuracy score: 0.9577777777777777\n"
     ]
    }
   ],
   "source": [
    "clf = LogisticClf(C=10, lam=1.0)\n",
    "clf.fit(dat_train, label_train, method='NR', show_message=True)\n",
    "show_result_digit(clf)"
   ]
  },
  {
   "cell_type": "markdown",
   "metadata": {},
   "source": [
    "It can be seen that \n",
    "* the number of iteration for Newton-Raphson method is much smaller compared with that of gradient descent method, but \n",
    "* in terms of the total calculation time, gradient descent method performs better. \n",
    "\n",
    "Interestingly, training accuracy does not reach 1.0, because in this case gradient descent terminated before it reaches true minimum."
   ]
  },
  {
   "cell_type": "markdown",
   "metadata": {},
   "source": [
    "Below, we can see that, as we increase the regularization parameter, the training score gets worse, while the test score gets better, which is consistent with our intuition that large regularization means large bias and small variance."
   ]
  },
  {
   "cell_type": "code",
   "execution_count": 17,
   "metadata": {
    "scrolled": true
   },
   "outputs": [
    {
     "name": "stdout",
     "output_type": "stream",
     "text": [
      "True\n",
      "nit: 11\n",
      "calcualtion time : 28.77142333984375seconds\n",
      "lambda = 0.1\n",
      "train accuracy score: 1.0\n",
      "test accuracy score: 0.9533333333333334\n",
      "True\n",
      "nit: 9\n",
      "calcualtion time : 22.64211106300354seconds\n",
      "lambda = 1.0\n",
      "train accuracy score: 1.0\n",
      "test accuracy score: 0.9577777777777777\n",
      "True\n",
      "nit: 8\n",
      "calcualtion time : 22.95650553703308seconds\n",
      "lambda = 10.0\n",
      "train accuracy score: 0.9992576095025983\n",
      "test accuracy score: 0.9666666666666667\n"
     ]
    }
   ],
   "source": [
    "lams = [0.1, 1.0, 10.0]\n",
    "\n",
    "for lam in lams:\n",
    "    clf = LogisticClf(C=10, lam=lam)\n",
    "    clf.fit(dat_train, label_train, method='NR', show_message=True)\n",
    "    print(f\"lambda = {lam}\")\n",
    "    show_result_digit(clf)"
   ]
  },
  {
   "cell_type": "markdown",
   "metadata": {},
   "source": [
    "# Appendix scikit-learn\n",
    "\n",
    "In this appendix, we demonstrate how we can use the scikit-learn library to perform logistic regression.\n",
    "\n",
    "For detail, see official documentations."
   ]
  },
  {
   "cell_type": "code",
   "execution_count": 18,
   "metadata": {
    "collapsed": true
   },
   "outputs": [],
   "source": [
    "from sklearn.linear_model import LogisticRegression"
   ]
  },
  {
   "cell_type": "code",
   "execution_count": 19,
   "metadata": {
    "scrolled": true
   },
   "outputs": [
    {
     "data": {
      "image/png": "[encoded data removed]",
      "text/plain": [
       "<Figure size 432x288 with 2 Axes>"
      ]
     },
     "metadata": {},
     "output_type": "display_data"
    }
   ],
   "source": [
    "clf = LogisticRegression(solver='newton-cg', multi_class='multinomial')\n",
    "clf.fit(X, y)\n",
    "plot_result_blob(clf, 3)"
   ]
  },
  {
   "cell_type": "code",
   "execution_count": 20,
   "metadata": {},
   "outputs": [
    {
     "name": "stdout",
     "output_type": "stream",
     "text": [
      "train accuracy score: 1.0\n",
      "test accuracy score: 0.9622222222222222\n"
     ]
    }
   ],
   "source": [
    "clf = LogisticRegression(solver='newton-cg', multi_class='multinomial')\n",
    "clf.fit(dat_train, label_train)\n",
    "show_result_digit(clf)"
   ]
  }
 ],
 "metadata": {
  "kernelspec": {
   "display_name": "Python 3",
   "language": "python",
   "name": "python3"
  },
  "language_info": {
   "codemirror_mode": {
    "name": "ipython",
    "version": 3
   },
   "file_extension": ".py",
   "mimetype": "text/x-python",
   "name": "python",
   "nbconvert_exporter": "python",
   "pygments_lexer": "ipython3",
   "version": "3.6.6"
  }
 },
 "nbformat": 4,
 "nbformat_minor": 2
}
