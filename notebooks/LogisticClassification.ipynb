{
 "cells": [
  {
   "cell_type": "markdown",
   "metadata": {},
   "source": [
    "# Logistic classification \n",
    "\n",
    "In this notebook, logistic classification (usually called \"logistic regerssion\", but a classification algorithm) described in Section 4.3 of the book PRML. "
   ]
  },
  {
   "cell_type": "code",
   "execution_count": 1,
   "metadata": {
    "collapsed": true
   },
   "outputs": [],
   "source": [
    "import numpy as np\n",
    "from scipy.optimize import minimize\n",
    "import matplotlib as mpl\n",
    "from matplotlib import pyplot as plt\n",
    "from sklearn import datasets, metrics\n",
    "from sklearn.model_selection import train_test_split\n",
    "\n",
    "%matplotlib inline\n",
    "mpl.rc(\"savefig\",dpi=100)"
   ]
  },
  {
   "cell_type": "markdown",
   "metadata": {},
   "source": [
    "## 1. Setting \n",
    "\n",
    "* Let $N \\in \\mathbb{N}$ be the number of training data points, \n",
    "* $d \\in \\mathbb{N}$ be the dimension of input, \n",
    "* $\\mathcal{C} = \\left\\{ 0, 1, \\dots, C-1 \\right\\}$ be the set of class labels, \n",
    "* $x_1, x_2, \\dots , x_N \\in \\mathbb{R}^d$ be the training input data, $y_1, y_2, \\dots, y_N \\in \\mathcal{C}$ be the training labels, and\n",
    "$y := {}^t (y_1, \\dots, y_N) \\in \\mathcal{C}^N$.\n",
    "* Let $t_n \\in \\left\\{0,1\\right\\}^{C}$ be the 1-of-$C$ coding of $y_n$, i.e., for $y_n = c$, $t_n$ is a vector with its $c$ th component being 1 and other components being zero. "
   ]
  },
  {
   "cell_type": "markdown",
   "metadata": {},
   "source": [
    "## 2. Theory \n",
    "\n",
    "### 2.1 Model\n",
    "\n",
    "We consider the following discriminative model \n",
    "$$\n",
    "\\begin{align}\n",
    "    p(y|x,\\theta) = \\frac{\\exp\\left[{\\theta^{(y)}}^T \\phi(x)\\right] }{ \\sum_{y'=1}^{C} \\exp\\left[{\\theta^{(y')}}^T \\phi(x)\\right] }\n",
    "\\end{align}\n",
    "$$\n",
    "where\n",
    "* $\\phi : \\mathbb{R}^d \\rightarrow \\mathbb{R}^M $, $\\phi(x) = (\\phi_0(x), \\dots, \\phi_{M-1}(x))^T$ are basis functions,  \n",
    "* $\\theta^{(y)} \\in \\mathbb{R}^M$ are weight parameters, and \n",
    "* $\\theta = \\left( {\\theta^{(1)}}^T, \\dots, {\\theta^{(c)}}^T  \\right)^T \\in \\mathbb{R}^{cM}$\n",
    "\n",
    "Later, we use \"linear\" basis function\n",
    "$$\n",
    "\\begin{align}\n",
    "    \\phi_j(x) = \\begin{cases}\n",
    "        1 & (j=0)\\\\\n",
    "        x^{(j-1)} & (j = 1.\\dots, d) \n",
    "    \\end{cases}\n",
    "\\end{align}\n",
    "$$\n",
    "\n",
    "\n",
    "Let $\\Phi$ be a $N \\times M$ matrix defined by\n",
    "\\begin{equation}\n",
    "    \\Phi = (\\Phi_{i,j}), \\ \\ \\Phi_{i,j} = \\phi_j(x_i)\n",
    "\\end{equation}"
   ]
  },
  {
   "cell_type": "markdown",
   "metadata": {},
   "source": [
    "### 2.2 Training \n",
    "\n",
    "#### 2.2.1 Cost function\n",
    "\n",
    "In training a logistic classifier, we select the parameter that minimizes the following cost function : \n",
    "$$\n",
    "\\begin{align}\n",
    "    J(\\theta) :=  - \\frac{1}{N} \\sum_{n=0}^{N-1} \\sum_{y=0}^{C-1} t_{n,c} \\log p_{n,c} + \\frac{\\lambda}{2N} \\| \\theta \\|^2, \n",
    "\\end{align}\n",
    "$$\n",
    "where \n",
    "$$\n",
    "\\begin{align}\n",
    "    p_{n,c} &:= p(c|x_n,\\theta) \\\\\n",
    "    t_{n,c} &:= \\delta_{y_n, c}\n",
    "\\end{align}\n",
    "$$\n",
    "the first term is negative log likelihood, and the second term is a $l^2$ regularization term.\n",
    "\n",
    "#### 2.2.2 Gradient\n",
    "\n",
    "To perform the minimization, we need the gradient of the cost function, which is given by \n",
    "$$\n",
    "\\begin{align}\n",
    "    \\frac{\\partial J}{\\partial \\theta^{(c)}_{j}} = \n",
    "        \\frac{1}{N} \\sum_{n=0}^{N-1} ( p_{n,c} -  t_{n,c}) \\phi_j(x_n) + \\frac{\\lambda}{N} \\theta^{(c)}_{j}\n",
    "\\end{align}\n",
    "$$"
   ]
  },
  {
   "cell_type": "markdown",
   "metadata": {},
   "source": [
    "## 3. From math to code\n",
    "\n",
    "### 3.1 Matrix expression\n",
    "\n",
    "Here we express cost function and its gradient using a matrix notation. \n",
    "The following matrix will be used:\n",
    "$$\n",
    "\\begin{align}\n",
    "    & \\Phi \\ : \\ N \\times M, \\ \\ \\Phi_{n,m} = \\phi_m(x_n) \\\\\n",
    "    & \\Theta \\ : C \\times M, \\ \\ \\Theta_{c,j} = \\theta^{(c)}_{j} \\\\\n",
    "    & T \\ : \\ N \\times C, \\ \\ T_{n,c} = t_{n,c} \\\\\n",
    "    & P \\ : \\ N \\times C, \\ \\ P_{n,c} = p_{n,c} \n",
    "\\end{align}\n",
    "$$\n",
    "Note that $P$ can be expressed by $\\Phi$ and $\\Theta$. \n",
    "\n",
    "With these definition, we have\n",
    "$$\n",
    "\\begin{align}\n",
    "    J(\\Theta) \n",
    "        &= - \\frac{1}{N} \\sum_{n=0}^{N-1} \\sum_{c=0}^{C-1} t_{n,c} \\log p_{n,c} + \\frac{\\lambda}{2N} \\| \\theta \\|^2  \\\\\n",
    "        &= -\\frac{1}{N} {\\rm Tr}(T^T \\log P) + \\frac{\\lambda}{2N} \\| \\Theta \\|_{2}^{2}\n",
    "\\end{align}\n",
    "$$\n",
    "where $\\log$ means elementwise log, and \n",
    "$$\n",
    "\\begin{align}\n",
    "    \\frac{\\partial J(\\Theta)}{\\partial \\Theta}\n",
    "    &= \\left(  \\frac{1}{N} \\sum_{n=0}^{N-1} ( p_{n,c} -  t_{n,c}) \\phi_j(x_n) + \\frac{\\lambda}{N} \\theta^{(c)}_{j} \\right)_{c,j} \\\\\n",
    "    &= \\frac{1}{N} (P-T)^T \\Phi + \\frac{\\lambda}{N} \\Theta\n",
    "\\end{align}\n",
    "$$"
   ]
  },
  {
   "cell_type": "code",
   "execution_count": 2,
   "metadata": {
    "collapsed": true
   },
   "outputs": [],
   "source": [
    "class LogisticClf:\n",
    "    def __init__(self, C, lam):\n",
    "        self.C = C  # the number of labels\n",
    "        self.lam = lam #regularization parameter\n",
    "        \n",
    "    def genPhimat(self, X):\n",
    "        '''\n",
    "        generate the matrix $\\Phi$ from X\n",
    "        '''\n",
    "        N = len(X)\n",
    "        if len(np.shape(X)) == 1:\n",
    "            out = np.zeros((N,2))\n",
    "            out[:,0] = np.ones(N)\n",
    "            out[:,1] = X\n",
    "        else:\n",
    "            d = np.shape(X)[1]\n",
    "            out = np.zeros((N,d+1))\n",
    "            out[:,0] = np.ones(N)\n",
    "            out[:,1:] = X\n",
    "        return out\n",
    "\n",
    "    def genTmat(self, y):\n",
    "        '''\n",
    "        generate the matrix $T$ from the training label y\n",
    "        '''\n",
    "        N = len(y)\n",
    "        out = np.zeros((N, self.C))\n",
    "        c = 0\n",
    "        for c in range(self.C):\n",
    "            out[:,c] = (y == c)\n",
    "        return out\n",
    "\n",
    "    def genPmat(self, thtmat, phimat):\n",
    "        out = np.exp( phimat @ (thtmat.T) )\n",
    "        out = out/np.reshape( np.sum(out, axis= 1), (len(phimat),1)  ) \n",
    "        return out\n",
    "    \n",
    "    def fit(self, X, y):\n",
    "        N = len(X)\n",
    "        phimat = self.genPhimat(X)\n",
    "        tmat = self.genTmat(y)\n",
    "        M = len(phimat[0])\n",
    "        \n",
    "        # cost function (and its gradient)\n",
    "        def JandGradJ(thtvec):\n",
    "            thtmat = np.reshape(thtvec,(self.C, M))\n",
    "            pmat = self.genPmat(thtmat, phimat)\n",
    "        \n",
    "            J = -1.0/N*np.trace( tmat.T @ np.log(pmat) ) + self.lam/(2.0*N)*np.linalg.norm(thtvec)**2\n",
    "            gradJmat = 1.0/N*((pmat-tmat).T) @ phimat + self.lam/N*thtmat\n",
    "            gradJvec = np.reshape(gradJmat, len(thtvec))\n",
    "            return J, gradJvec\n",
    "\n",
    "        tht0 = np.zeros(M*self.C)\n",
    "        result = minimize(JandGradJ, tht0, jac = True)\n",
    "        self.thtmat = np.reshape(result['x'], (self.C, M))\n",
    "        \n",
    "    def predict_prob(self, Xtest):\n",
    "        return self.genPmat(self.thtmat, self.genPhimat(Xtest))\n",
    "        \n",
    "    def predict(self, Xtest):\n",
    "        tmp = self.predict_prob(Xtest)\n",
    "        return np.argmax(tmp, axis = 1 )"
   ]
  },
  {
   "cell_type": "markdown",
   "metadata": {},
   "source": [
    "## 4. Experiment\n",
    "\n",
    "### 4.1 Toy data"
   ]
  },
  {
   "cell_type": "code",
   "execution_count": 3,
   "metadata": {},
   "outputs": [
    {
     "data": {
      "image/png": "[encoded data removed]",
      "text/plain": [
       "<matplotlib.figure.Figure at 0x8e014a8>"
      ]
     },
     "metadata": {},
     "output_type": "display_data"
    }
   ],
   "source": [
    "X, y = datasets.make_blobs(200, 2, 3)\n",
    "for c in range(3):\n",
    "    plt.plot(X[:,0][y==c], X[:,1][y==c], 'o', label=f'{c}')\n",
    "plt.show()\n",
    "\n",
    "xx = np.linspace(np.min(X[:,0]), np.max(X[:,0]),101)\n",
    "yy = np.linspace(np.min(X[:,1]), np.max(X[:,1]),100)\n",
    "Xtest = np.array([[x,y] for x in xx  for y in yy])\n",
    "xxx,yyy = np.meshgrid(xx, yy)\n",
    "\n",
    "def plot_result(clf, C):\n",
    "    for c in range(C):\n",
    "        plt.plot(X[:,0][y==c], X[:,1][y==c],\"o\",label=f\"{c}\")\n",
    "    plt.legend()\n",
    "    pred_val = clf.predict(Xtest)\n",
    "    pred_val_2D = np.reshape(pred_val, (len(xx), len(yy))).T\n",
    "    plt.pcolormesh(xxx, yyy, pred_val_2D)\n",
    "    plt.colorbar()\n",
    "    plt.show()"
   ]
  },
  {
   "cell_type": "code",
   "execution_count": 4,
   "metadata": {},
   "outputs": [
    {
     "data": {
      "image/png": "[encoded data removed]",
      "text/plain": [
       "<matplotlib.figure.Figure at 0x8de8be0>"
      ]
     },
     "metadata": {},
     "output_type": "display_data"
    }
   ],
   "source": [
    "clf = LogisticClf(C = 3, lam = 0.01)\n",
    "clf.fit(X, y)\n",
    "plot_result(clf, 3)"
   ]
  },
  {
   "cell_type": "markdown",
   "metadata": {},
   "source": [
    "### 4.2 Hand-written digits"
   ]
  },
  {
   "cell_type": "code",
   "execution_count": 5,
   "metadata": {},
   "outputs": [
    {
     "name": "stdout",
     "output_type": "stream",
     "text": [
      "Training data : 1347\n",
      "Test data : 450\n"
     ]
    }
   ],
   "source": [
    "digits = datasets.load_digits()\n",
    "dat_train, dat_test, label_train, label_test = train_test_split(digits.data, digits.target, test_size=0.25)\n",
    "\n",
    "print(f\"Training data : {len(dat_train)}\")\n",
    "print(f\"Test data : {len(dat_test)}\")"
   ]
  },
  {
   "cell_type": "code",
   "execution_count": 6,
   "metadata": {},
   "outputs": [
    {
     "name": "stdout",
     "output_type": "stream",
     "text": [
      "0.955555555556\n",
      "             precision    recall  f1-score   support\n",
      "\n",
      "          0       1.00      1.00      1.00        38\n",
      "          1       0.92      0.90      0.91        50\n",
      "          2       1.00      1.00      1.00        43\n",
      "          3       0.95      0.95      0.95        42\n",
      "          4       0.97      1.00      0.98        56\n",
      "          5       0.94      0.92      0.93        48\n",
      "          6       1.00      0.96      0.98        54\n",
      "          7       0.95      0.93      0.94        41\n",
      "          8       0.95      0.93      0.94        43\n",
      "          9       0.87      0.97      0.92        35\n",
      "\n",
      "avg / total       0.96      0.96      0.96       450\n",
      "\n"
     ]
    }
   ],
   "source": [
    "clf2 = LogisticClf(C = 10, lam = 0.01)\n",
    "clf2.fit(dat_train, label_train)\n",
    "label_test_pred = clf2.predict(dat_test)\n",
    "ac_score = metrics.accuracy_score(label_test, label_test_pred)\n",
    "cl_report = metrics.classification_report(label_test, label_test_pred)\n",
    "print(ac_score)\n",
    "print(cl_report)"
   ]
  }
 ],
 "metadata": {
  "kernelspec": {
   "display_name": "Python 3",
   "language": "python",
   "name": "python3"
  },
  "language_info": {
   "codemirror_mode": {
    "name": "ipython",
    "version": 3
   },
   "file_extension": ".py",
   "mimetype": "text/x-python",
   "name": "python",
   "nbconvert_exporter": "python",
   "pygments_lexer": "ipython3",
   "version": "3.6.1"
  }
 },
 "nbformat": 4,
 "nbformat_minor": 2
}
