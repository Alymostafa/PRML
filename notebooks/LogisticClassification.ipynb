{
 "cells": [
  {
   "cell_type": "markdown",
   "metadata": {},
   "source": [
    "# Logistic regression classifier\n",
    "\n",
    "In this notebook, we implement logistic regression classifier described in Section 4.3 of the book PRML. "
   ]
  },
  {
   "cell_type": "code",
   "execution_count": 1,
   "metadata": {
    "collapsed": true
   },
   "outputs": [],
   "source": [
    "import numpy as np\n",
    "from scipy.optimize import minimize\n",
    "import matplotlib as mpl\n",
    "from matplotlib import pyplot as plt\n",
    "\n",
    "%matplotlib inline\n",
    "plt.rcParams['axes.labelsize'] = 14\n",
    "plt.rcParams['xtick.labelsize'] = 12\n",
    "plt.rcParams['ytick.labelsize'] = 12\n",
    "\n",
    "#to make this notebook's output stable across runs\n",
    "np.random.seed(42)"
   ]
  },
  {
   "cell_type": "markdown",
   "metadata": {},
   "source": [
    "# 1. Setting \n",
    "\n",
    "* Let $N \\in \\mathbb{N}$ be the number of training data points, \n",
    "* $d \\in \\mathbb{N}$ be the dimension of input, \n",
    "* $\\mathcal{C} = \\left\\{ 0, 1, \\dots, C-1 \\right\\}$ be the set of class labels, \n",
    "* $x_0, x_1, \\dots , x_{N-1} \\in \\mathbb{R}^d$ be the training input data, $y_0, y_1, \\dots, y_{N-1} \\in \\mathcal{C}$ be the training labels, and\n",
    "$y := (y_0, \\dots, y_{N-1})^T \\in \\mathcal{C}^N$.\n",
    "* Let $t_n \\in \\left\\{0,1\\right\\}^{C}$ be the 1-of-$C$ coding of $y_n$, i.e., for $y_n = c$, $t_n$ is a vector with its $c$ th component being 1 and other components being zero. "
   ]
  },
  {
   "cell_type": "markdown",
   "metadata": {},
   "source": [
    "# 2. Theory \n",
    "\n",
    "## 2.1 Model\n",
    "\n",
    "We consider the following discriminative model (equation (4.104) in PRML)\n",
    "$$\n",
    "\\begin{align}\n",
    "    p(y|x,\\theta) = \\frac{\\exp\\left[{\\theta^{(y)}}^T \\phi(x)\\right] }{ \\sum_{y'=0}^{C-1} \\exp\\left[{\\theta^{(y')}}^T \\phi(x)\\right] }\n",
    "\\end{align}\n",
    "$$\n",
    "where\n",
    "* $\\phi : \\mathbb{R}^d \\rightarrow \\mathbb{R}^M $, $\\phi(x) = (\\phi_0(x), \\dots, \\phi_{M-1}(x))^T$ are basis functions,  \n",
    "* $\\theta^{(y)} \\in \\mathbb{R}^M$ are weight parameters, and \n",
    "* $\\theta = \\left( {\\theta^{(0)}}^T, \\dots, {\\theta^{(C-1)}}^T  \\right)^T \\in \\mathbb{R}^{CM}$\n",
    "\n",
    "Later, we use \"linear\" basis function\n",
    "$$\n",
    "\\begin{align}\n",
    "    \\phi_j(x) = \\begin{cases}\n",
    "        1 & (j=0)\\\\\n",
    "        x^{(j-1)} & (j = 1.\\dots, d) \n",
    "    \\end{cases}\n",
    "\\end{align},\n",
    "$$\n",
    "where $x^{(j)}$ represents $j$-th element of $x \\in \\mathbb{R}^d$\n",
    "\n",
    "\n",
    "Let $\\Phi$ be a $N \\times M$ matrix defined by\n",
    "\\begin{equation}\n",
    "    \\Phi = (\\Phi_{i,j}), \\ \\ \\Phi_{i,j} = \\phi_j(x_i)\n",
    "\\end{equation}"
   ]
  },
  {
   "cell_type": "markdown",
   "metadata": {},
   "source": [
    "## 2.2 Training \n",
    "\n",
    "### 2.2.1 Cost function\n",
    "\n",
    "In training a logistic classifier, we select the parameter that minimizes the following cost function (See equations (4.107) and (4.108) in PRML) : \n",
    "$$\n",
    "\\begin{align}\n",
    "    J(\\theta) :=  - \\frac{1}{N} \\sum_{n=0}^{N-1} \\sum_{c=0}^{C-1} t_{n,c} \\log p_{n,c} + \\frac{\\lambda}{2N} \\| \\theta \\|^2, \n",
    "\\end{align}\n",
    "$$\n",
    "where \n",
    "$$\n",
    "\\begin{align}\n",
    "    p_{n,c} &:= p(c|x_n,\\theta) = \\frac{\\exp\\left[{\\theta^{(c)}}^T \\phi(x_n)\\right] }{ \\sum_{c'=0}^{C-1} \\exp\\left[ {\\theta^{(c')}}^T \\phi(x_n)  \\right]}  \\\\\n",
    "    t_{n,c} &:= \\delta_{y_n, c}\n",
    "\\end{align}\n",
    "$$\n",
    "the first term is negative log likelihood, and the second term is a $l^2$ regularization term.\n",
    "\n",
    "### 2.2.2 Gradient\n",
    "\n",
    "To perform the minimization, we need the gradient of the cost function, which is given by (See equation (4.109) in PRML)\n",
    "$$\n",
    "\\begin{align}\n",
    "    \\frac{\\partial J}{\\partial \\theta^{(c)}_{j}} = \n",
    "        \\frac{1}{N} \\sum_{n=0}^{N-1} ( p_{n,c} -  t_{n,c}) \\phi_j(x_n) + \\frac{\\lambda}{N} \\theta^{(c)}_{j}\n",
    "\\end{align}\n",
    "$$"
   ]
  },
  {
   "cell_type": "markdown",
   "metadata": {},
   "source": [
    "# 3. From math to code\n",
    "\n",
    "## 3.1 Matrix representation\n",
    "\n",
    "Here we express cost function and its gradient using a matrix notation. \n",
    "The following matrix will be used:\n",
    "* $\\Phi$ or `Phi` : `(N, M)` array, where `Phi[n, m]` = $\\phi_m(x_n)$\n",
    "* $\\Theta$ or `Theta` : `(C, M)` array, where `Theta[c, j]` = $\\theta^{(c)}_{j}$\n",
    "* $T$ or `T` : `(N,C)` array, where `T[n, c]` = $t_{n, c}$\n",
    "* $P$ or `P` : `(N, C)` array, where `P[n, c]` = $p_{n, c}$\n",
    "\n",
    "Note that $P$ can be expressed by $\\Phi$ and $\\Theta$ as \n",
    "\n",
    "$$\n",
    "\\begin{align}\n",
    "    P_{n,c} &= \\frac{\\exp\\left[\\sum_{j=0}^{M-1} \\theta^{(c)}_{j} \\phi_{j}(x_n)\\right] }{ \\sum_{c'=0}^{C-1} \\exp\\left[ \\sum_{j=0}^{M-1} \\theta^{(c')}_{j} \\phi_{j}(x_n)  \\right]} \\\\\n",
    "    &= \\frac{ \\exp \\left[ \\left( \\Phi \\Theta^T \\right)_{n, c'} \\right]  }{ \\sum_{c'=0}^{C-1} \\exp\\left[ \\left( \\Phi \\Theta^T \\right)_{n, c'} \\right] }\n",
    "\\end{align}\n",
    "$$"
   ]
  },
  {
   "cell_type": "code",
   "execution_count": 2,
   "metadata": {
    "collapsed": true
   },
   "outputs": [],
   "source": [
    "def genPhimat(X):\n",
    "    '''\n",
    "    This function generates the design matrix Phi from X, the input data\n",
    "        \n",
    "    Parameters\n",
    "    ----------\n",
    "    X : 2-D numpy array\n",
    "        (N,d) numpy array, with X[n, i] = i-th element of x_n\n",
    "            \n",
    "    Returns\n",
    "    ----------\n",
    "    Phi : 2-D numpy array\n",
    "        The design matrix\n",
    "    '''\n",
    "    N = len(X)\n",
    "    if len(np.shape(X)) == 1:\n",
    "        d = 1\n",
    "    else:\n",
    "        d = np.shape(X)[1]\n",
    "    Phi = np.zeros((N,d+1))\n",
    "    Phi[:,0] = np.ones(N)\n",
    "    Phi[:,1:] = np.reshape(X, (N,d))\n",
    "    return Phi\n",
    "\n",
    "def genTmat(y, C):\n",
    "    '''\n",
    "    This function generates the matrix T from the training label y and the number of classes C\n",
    "    \n",
    "    Parameters\n",
    "    ----------\n",
    "    y : 1-D numpy array\n",
    "        The elements of y should be integers in [0, C-1]\n",
    "    C : int\n",
    "        The number of classes\n",
    "        \n",
    "    Returns\n",
    "    ----------\n",
    "    T : (len(y), C) numpy array\n",
    "        T[n, c] = 1 if y[n] == c else 0\n",
    "    '''\n",
    "    N = len(y)\n",
    "    T = np.zeros((N, C))\n",
    "    for c in range(C):\n",
    "        T[:, c] = (y == c)\n",
    "    return T\n",
    "\n",
    "def genPmat(Theta, Phi):\n",
    "    '''\n",
    "    This function generates the matrix P from the weight Theta and the design matrix Phi\n",
    "    \n",
    "    Parameters\n",
    "    ----------\n",
    "    Theta : 2-D numpy array\n",
    "        Matrix representing the weight parameter\n",
    "    Phi : 2-D numpy array\n",
    "        The design matrix\n",
    "        \n",
    "    Returns\n",
    "    ----------\n",
    "    P : 2-D numpy array\n",
    "    '''\n",
    "    P = np.exp( Phi @ (Theta.T) )\n",
    "    P = P/np.reshape( np.sum(P, axis= 1), (len(Phi),1)  ) \n",
    "    return P"
   ]
  },
  {
   "cell_type": "markdown",
   "metadata": {},
   "source": [
    "## 3.2 Loss function and its gradient"
   ]
  },
  {
   "cell_type": "markdown",
   "metadata": {},
   "source": [
    "With these definitions, we have\n",
    "$$\n",
    "\\begin{align}\n",
    "    J(\\Theta) \n",
    "        &= - \\frac{1}{N} \\sum_{n=0}^{N-1} \\sum_{c=0}^{C-1} t_{n,c} \\log p_{n,c} + \\frac{\\lambda}{2N} \\| \\theta \\|^2  \\\\\n",
    "        &= -\\frac{1}{N} sum(T \\ast \\log P) + \\frac{\\lambda}{2N} \\| \\Theta \\|_{2}^{2}\n",
    "\\end{align}\n",
    "$$\n",
    "where $\\log$ means elementwise log, $\\ast$ means elementwise product, and, $sum$ means summing up all elements of a matrix. \n",
    "If we regard $\\frac{\\partial J(\\Theta)}{\\partial \\Theta}$ as a matrix, \n",
    "$$\n",
    "\\begin{align}\n",
    "    \\frac{\\partial J(\\Theta)}{\\partial \\Theta}\n",
    "    &= \\left(  \\frac{1}{N} \\sum_{n=0}^{N-1} ( p_{n,c} -  t_{n,c}) \\phi_j(x_n) + \\frac{\\lambda}{N} \\theta^{(c)}_{j} \\right)_{c,j} \\\\\n",
    "    &= \\frac{1}{N} (P-T)^T \\Phi + \\frac{\\lambda}{N} \\Theta\n",
    "\\end{align}\n",
    "$$"
   ]
  },
  {
   "cell_type": "code",
   "execution_count": 3,
   "metadata": {
    "collapsed": true
   },
   "outputs": [],
   "source": [
    "class LogisticClf:\n",
    "    def __init__(self, C, lam):\n",
    "        self.C = C  # the number of labels\n",
    "        self.lam = lam #regularization parameter\n",
    "        self.Theta = None\n",
    "        \n",
    "    def JandGradJ(self, thtvec, Phi, T):\n",
    "        '''\n",
    "        This method calculate the loss function and its gradient\n",
    "        \n",
    "        Parameters\n",
    "        ----------\n",
    "        thtvec : 1-D numpy array \n",
    "            (M*C,) array, which represents the weight parameter Theta, in flattened form\n",
    "        Phi : 2-D numpy array\n",
    "            (N, M) array, design matrix\n",
    "        T : 2-D numpy array\n",
    "            (N, C) array, where T[n, c] = 1 if y[n] == c else 0\n",
    "        \n",
    "        Returns\n",
    "        ----------\n",
    "        J : float\n",
    "            The value of loss function\n",
    "        gradJvec : 1-D numpy array\n",
    "            The gradient of the loss function with respect to the weight parameter Theta, in flattened form\n",
    "        \n",
    "        '''\n",
    "        N, M = np.shape(Phi)\n",
    "        Theta = np.reshape(thtvec, (self.C, M))\n",
    "        P = genPmat(Theta, Phi)\n",
    "        J = -1.0/N*np.sum(T*np.log(P)) + self.lam/(2.0*N)*np.linalg.norm(thtvec)**2\n",
    "        gradJmat = 1.0/N*((P - T).T) @ Phi + self.lam/N*Theta\n",
    "        gradJvec = np.reshape(gradJmat, len(thtvec))\n",
    "        return J, gradJvec\n",
    "    \n",
    "    def fit(self, X, y):\n",
    "        '''\n",
    "        Parameters\n",
    "        ----------\n",
    "        X : 1-D or 2-D numpy array\n",
    "            (N,) or (N, d) array, representing the training input data\n",
    "        y : 1-D numpy arra\n",
    "            (N,) array, representing training labels\n",
    "        '''\n",
    "        Phi = genPhimat(X)\n",
    "        T = genTmat(y, self.C)\n",
    "        N, M = np.shape(Phi)\n",
    "        \n",
    "        tht0 = np.ones(M*self.C)\n",
    "        result = minimize(lambda x : self.JandGradJ(x, Phi, T), x0=tht0, jac=True)\n",
    "        self.Theta = np.reshape(result['x'], (self.C, M))\n",
    "        \n",
    "    def predict_proba(self, X):\n",
    "        '''\n",
    "        Parameters\n",
    "        ----------\n",
    "        X : 1-D or 2-D numpy array\n",
    "            (N,) or (N, d) array, representing the training input data\n",
    "        Returns\n",
    "        ----------\n",
    "        proba : 2-D numpy arra\n",
    "            (len(X), self.C) array, where proba[n, c] represents the probability that the n-th instance belongs to c-th class\n",
    "        '''\n",
    "        return genPmat(self.Theta, genPhimat(X))\n",
    "        \n",
    "    def predict(self, X):\n",
    "        '''\n",
    "        Parameters\n",
    "        ----------\n",
    "        X : 1-D or 2-D numpy array\n",
    "            (N,) or (N, d) array, representing the training input data\n",
    "        Returns\n",
    "        ----------\n",
    "        classes : 1-D numpy arra\n",
    "            (len(X), ) array, where classes[n] represents the predicted class to which the n-th instance belongs\n",
    "        '''\n",
    "        tmp = self.predict_proba(X)\n",
    "        return np.argmax(tmp, axis=1 )"
   ]
  },
  {
   "cell_type": "markdown",
   "metadata": {},
   "source": [
    "# 4. Experiment"
   ]
  },
  {
   "cell_type": "code",
   "execution_count": 4,
   "metadata": {
    "collapsed": true
   },
   "outputs": [],
   "source": [
    "from sklearn import datasets\n",
    "from sklearn.metrics import accuracy_score\n",
    "from sklearn.model_selection import train_test_split"
   ]
  },
  {
   "cell_type": "markdown",
   "metadata": {},
   "source": [
    "## 4.1 Toy data"
   ]
  },
  {
   "cell_type": "code",
   "execution_count": 5,
   "metadata": {},
   "outputs": [
    {
     "data": {
      "image/png": "[encoded data removed]",
      "text/plain": [
       "<Figure size 432x288 with 1 Axes>"
      ]
     },
     "metadata": {},
     "output_type": "display_data"
    }
   ],
   "source": [
    "X, y = datasets.make_blobs(n_samples=200, n_features=2, centers=3)\n",
    "for c in range(3):\n",
    "    plt.plot(X[:,0][y==c], X[:,1][y==c], 'o', label=f'{c}')\n",
    "plt.legend()\n",
    "plt.show()"
   ]
  },
  {
   "cell_type": "code",
   "execution_count": 16,
   "metadata": {
    "collapsed": true
   },
   "outputs": [],
   "source": [
    "xx = np.linspace(np.min(X[:,0]), np.max(X[:,0]),101)\n",
    "yy = np.linspace(np.min(X[:,1]), np.max(X[:,1]),100)\n",
    "Xtest = np.array([[x,y] for x in xx  for y in yy])\n",
    "xxx,yyy = np.meshgrid(xx, yy)\n",
    "\n",
    "def plot_result_blob(clf, C):\n",
    "    for c in range(C):\n",
    "        plt.plot(X[:,0][y==c], X[:,1][y==c],\"o\",label=f\"{c}\")\n",
    "    plt.legend()\n",
    "    pred_val = clf.predict(Xtest)\n",
    "    pred_val_2D = np.reshape(pred_val, (len(xx), len(yy))).T\n",
    "    plt.pcolormesh(xxx, yyy, pred_val_2D)\n",
    "    plt.colorbar()\n",
    "    plt.show()"
   ]
  },
  {
   "cell_type": "code",
   "execution_count": 17,
   "metadata": {},
   "outputs": [
    {
     "data": {
      "image/png": "[encoded data removed]",
      "text/plain": [
       "<Figure size 432x288 with 2 Axes>"
      ]
     },
     "metadata": {},
     "output_type": "display_data"
    }
   ],
   "source": [
    "clf = LogisticClf(C = 3, lam = 1.0)\n",
    "clf.fit(X, y)\n",
    "plot_result_blob(clf, 3)"
   ]
  },
  {
   "cell_type": "markdown",
   "metadata": {},
   "source": [
    "We can see that data are completely separated, and the decision boundaries are straight, because we employed 'linear' basis functions."
   ]
  },
  {
   "cell_type": "markdown",
   "metadata": {},
   "source": [
    "## 4.2 Hand-written digits"
   ]
  },
  {
   "cell_type": "code",
   "execution_count": 8,
   "metadata": {},
   "outputs": [
    {
     "name": "stdout",
     "output_type": "stream",
     "text": [
      "Training data : 1347\n",
      "Test data : 450\n"
     ]
    }
   ],
   "source": [
    "digits = datasets.load_digits()\n",
    "dat_train, dat_test, label_train, label_test = train_test_split(digits.data, digits.target, test_size=0.25)\n",
    "\n",
    "print(f\"Training data : {len(dat_train)}\")\n",
    "print(f\"Test data : {len(dat_test)}\")"
   ]
  },
  {
   "cell_type": "code",
   "execution_count": 9,
   "metadata": {
    "collapsed": true
   },
   "outputs": [],
   "source": [
    "def show_result_digit(clf):\n",
    "    label_test_pred = clf.predict(dat_test)\n",
    "    print(f\"train accuracy score: {accuracy_score(label_train, clf.predict(dat_train))}\")\n",
    "    print(f\"test accuracy score: {accuracy_score(label_test, label_test_pred)}\")"
   ]
  },
  {
   "cell_type": "markdown",
   "metadata": {},
   "source": [
    "Below, we can see that, as we increase the regularization parameter, the training score gets worse, while the test score gets better, which is consistent with our intuition that large regularization means large bias and small variance."
   ]
  },
  {
   "cell_type": "code",
   "execution_count": 15,
   "metadata": {
    "scrolled": true
   },
   "outputs": [
    {
     "name": "stdout",
     "output_type": "stream",
     "text": [
      "lambda = 0.1\n",
      "train accuracy score: 1.0\n",
      "test accuracy score: 0.9533333333333334\n",
      "lambda = 1.0\n",
      "train accuracy score: 1.0\n",
      "test accuracy score: 0.9577777777777777\n",
      "lambda = 10.0\n",
      "train accuracy score: 0.9992576095025983\n",
      "test accuracy score: 0.9666666666666667\n"
     ]
    }
   ],
   "source": [
    "lams = [0.1, 1.0, 10.0]\n",
    "\n",
    "for lam in lams:\n",
    "    clf = LogisticClf(C=10, lam=lam)\n",
    "    clf.fit(dat_train, label_train)\n",
    "    print(f\"lambda = {lam}\")\n",
    "    show_result_digit(clf)"
   ]
  },
  {
   "cell_type": "markdown",
   "metadata": {},
   "source": [
    "# Appendix scikit-learn\n",
    "\n",
    "In this appendix, we demonstrate how we can use the scikit-learn library to perform logistic regression.\n",
    "\n",
    "For detail, see official documentations."
   ]
  },
  {
   "cell_type": "code",
   "execution_count": 18,
   "metadata": {
    "collapsed": true
   },
   "outputs": [],
   "source": [
    "from sklearn.linear_model import LogisticRegression"
   ]
  },
  {
   "cell_type": "code",
   "execution_count": 22,
   "metadata": {
    "scrolled": true
   },
   "outputs": [
    {
     "data": {
      "image/png": "[encoded data removed]",
      "text/plain": [
       "<Figure size 432x288 with 2 Axes>"
      ]
     },
     "metadata": {},
     "output_type": "display_data"
    }
   ],
   "source": [
    "clf = LogisticRegression()\n",
    "clf.fit(X, y)\n",
    "plot_result_blob(clf, 3)"
   ]
  },
  {
   "cell_type": "code",
   "execution_count": 26,
   "metadata": {},
   "outputs": [
    {
     "name": "stdout",
     "output_type": "stream",
     "text": [
      "train accuracy score: 0.9992576095025983\n",
      "test accuracy score: 0.9533333333333334\n"
     ]
    }
   ],
   "source": [
    "clf = LogisticRegression()\n",
    "clf.fit(dat_train, label_train)\n",
    "show_result_digit(clf)"
   ]
  }
 ],
 "metadata": {
  "kernelspec": {
   "display_name": "Python 3",
   "language": "python",
   "name": "python3"
  },
  "language_info": {
   "codemirror_mode": {
    "name": "ipython",
    "version": 3
   },
   "file_extension": ".py",
   "mimetype": "text/x-python",
   "name": "python",
   "nbconvert_exporter": "python",
   "pygments_lexer": "ipython3",
   "version": "3.6.6"
  }
 },
 "nbformat": 4,
 "nbformat_minor": 2
}
