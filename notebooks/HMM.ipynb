{
 "cells": [
  {
   "cell_type": "markdown",
   "metadata": {},
   "source": [
    "# Hidden Markov Model and Maximum Likelihood Estimation \n",
    "\n",
    "In this notebook, we will see an implementation of maximum likelihood estimation for Hidden Markov Model (HMM), which is described in Chapter 13 of the book PRML. "
   ]
  },
  {
   "cell_type": "code",
   "execution_count": 1,
   "metadata": {
    "collapsed": true
   },
   "outputs": [],
   "source": [
    "import numpy as np\n",
    "import matplotlib as mpl\n",
    "from matplotlib import pyplot as plt\n",
    "\n",
    "%matplotlib inline\n",
    "mpl.rc(\"savefig\",dpi=100)"
   ]
  },
  {
   "cell_type": "markdown",
   "metadata": {},
   "source": [
    "## 1. Model\n",
    "\n",
    "### 1.1 Setting\n",
    "\n",
    "#### Observed variables\n",
    "* $N \\in \\mathbb{N}$ : the number of observation data\n",
    "* $X = (x_0, x_1, \\dots, x_{N-1})$ : the set of observation data. All $x_n$ belong to an appropriatespecified set.\n",
    "\n",
    "#### Latent variables\n",
    "* $K \\in \\mathbb{K}$ : the number of latent states\n",
    "* $Z = (z_0, z_1, \\dots, z_{N-1})$ : the set of latent variable. $z_n \\in \\{ 0,1 \\}^K$, and $\\sum_{k=0}^{K-1}z_{n,k} = 1$\n",
    "\n",
    "#### Parameters\n",
    "* $\\pi \\in [0,1]^{K}$ : $\\pi_k$ stands for the probability that $z_{0,k}=1$. Note that $\\sum_{k=0}^{K-1} \\pi_k = 1$ holds. \n",
    "* $A = \\left( A_{j,k} \\right)_{j,k = 0,1,\\dots, K-1}$ : $A_{j,k} = p(z_{n,k}=1 | z_{n-1,j}=1)$, i.e., $A_{j,k}$ stands for the transition probability from state $j$ to state $k$.\n",
    "* $\\phi = \\left( \\phi_k \\right)_{k=0,1, \\dots, K-1}$ : the parameters for emission probability\n",
    "\n",
    "### 1.2 Model\n",
    "\n",
    "The joint distribution of $X$ and $Z$ is given by \n",
    "\n",
    "$$\n",
    "\\begin{align}\n",
    "    p\\left( X, Z \\middle| \\theta \\right) = \n",
    "    p\\left( z_0 \\middle| \\pi \\right)\n",
    "    \\left[ \\prod_{n=1}^{N-1} p\\left( z_n \\middle| z_{n-1} , A\\right) \\right]\n",
    "    \\left[ \\prod_{n=0}^{N-1}  p\\left( x_n \\middle| z_n, \\phi \\right) \\right]\n",
    "\\end{align}\n",
    "$$\n",
    "\n",
    "where\n",
    "\n",
    "$$\n",
    "\\begin{align}\n",
    "    \\theta &= \\left( \\pi, A, \\phi \\right) \\\\\n",
    "    p\\left( z_0 \\middle| \\pi \\right) &= \\prod_{k=0}^{K-1} \\pi_{k}^{z_{0,k}}  \\\\\n",
    "    p\\left( z_n \\middle| z_{n-1}, A \\right) &=  \\prod_{k=0}^{K-1} \\prod_{j=0}^{K-1} A_{j,k} ^{z_{n-1,j} z_{n,k}} \\\\\n",
    "    p\\left( x_n \\middle| z_n, \\phi \\right) &= \\prod_{k=0}^{K-1} p(x_n | \\phi_k)^{z_{n,k}}\n",
    "\\end{align}\n",
    "$$\n"
   ]
  },
  {
   "cell_type": "markdown",
   "metadata": {},
   "source": [
    "## 2. Maximum Likelihood Estimation : EM algorithm\n",
    "\n",
    "Our goal here is to obtain $\\theta$ that maximizes\n",
    "\\begin{align}\n",
    "    p(X|\\theta) = \\sum_{Z} p(X,Z|\\theta)\n",
    "\\end{align}\n",
    "Because here we have a latent variable $Z$, we can utilise EM algorithm to perform the maximization. \n",
    "\n",
    "### 2.1 EM algorithm\n",
    "\n",
    "0. input : $\\theta_{ini}$, $X$.\n",
    "1. $\\theta^{old} \\leftarrow \\theta_{ini}$\n",
    "2. while not converge\n",
    "    1. E-step : Calculate $Q(\\theta, \\theta^{old}) := \\sum_{Z} p \\left( Z \\middle| X,\\theta^{old} \\right) \\log p(X,Z|\\theta)$ as a function of $\\theta$\n",
    "    2. M-step : Let $\\theta_M$ be $\\theta$ that maximizes $Q(\\theta, \\theta^{old})$, and set $\\theta^{old} \\leftarrow \\theta_M$\n",
    "\n",
    "### 2.2 E-step\n",
    "\n",
    "The function $Q(\\theta, \\theta^{old})$ is given by\n",
    "\n",
    "$$\n",
    "\\begin{align}\n",
    "    Q(\\theta, \\theta^{old}) &= \n",
    "    \\sum_{k=0}^{K-1} \\gamma_{0,k} \\log \\pi_k \n",
    "    {} + \\sum_{n=1}^{N-1} \\sum_{j,k=0}^{K-1} \\xi_{n,j,k} \\log A_{j,k} \n",
    "    {} + \\sum_{n=0}^{N-1} \\sum_{k=0}^{K-1} \\gamma_{n,k} \\log p(x_n | \\phi_k) \\\\\n",
    "    \\gamma_{n,k} &:= p(z_{n,k}=1 | X, \\theta^{old}) \\\\\n",
    "    \\xi_{n,j,k} &:= p(z_{n-1,j}=1 , z_{n,k}=1 | X, \\theta^{old})\n",
    "\\end{align}\n",
    "$$\n",
    "\n",
    "The quantities $\\gamma$ and $\\xi$ can be obtained as follows (See Sections 13.2.2 and 13.2.4 of the book.)\n",
    "\n",
    "$$\n",
    "\\begin{align}\n",
    "    \\gamma_{n,k} &=  \\hat{\\alpha}_{n,k} \\hat{\\beta}_{n,k} \\\\\n",
    "    \\hat{\\alpha}_{n,k} &:= p(z_{n,k}=1 | x_1, \\dots, x_n ) \\\\\n",
    "    \\hat{\\beta}_{n,k} &:= \\frac{p(x_{n+1}, \\dots, x_N | z_{n,k} = 1)}{ p(x_{n+1}, \\dots, x_N | x_1, \\dots, x_n) } \\ \\ (n= 0, 1, \\dots, N-2) \\\\\n",
    "    \\hat{\\beta}_{N-1,k} &:= 1 \\\\\n",
    "    \\xi_{n,j,k} &= \\frac{1}{c_n} \\hat{\\alpha}_{n-1,j} p(x_n|\\phi_k) A_{j,k} \\hat{\\beta}_{n,k}\n",
    "\\end{align}\n",
    "$$\n",
    "\n",
    "where $\\alpha$ and $\\beta$ can be calculated recursively : \n",
    "\n",
    "$$\n",
    "\\begin{align}\n",
    "    c_n \\hat\\alpha_{n,k} &= p(x_n | \\phi_k) \\sum_{j=0}^{K-1} \\hat\\alpha_{n-1,j} A_{j,k}^{old} \\\\\n",
    "    \\hat\\alpha_{0,k} &= \\frac{\\pi_k p(x_0 | \\phi_k)}{ \\sum_{j=0}^{K-1}\\pi_k p(x_0 | \\phi_k) } \\\\\n",
    "    c_{n+1} \\hat\\beta_{n,k} &= \\sum_{j=1}^{K-1} \\hat\\beta_{n+1,j} p(x_{n+1}|\\phi_j) A_{k,j}^{old} \\\\\n",
    "    \\hat\\beta_{N-1,k} &= 1\n",
    "\\end{align}\n",
    "$$\n",
    "\n",
    "Note that $c_n$ can be obtained as a normalization constant of $\\alpha$. \n",
    "\n",
    "### 2.3 M-step\n",
    "\n",
    "$$\n",
    "\\begin{align}\n",
    "    \\pi_k &= \\frac{\\gamma_{0,k}}{\\sum_{j=0}^{K-1} \\gamma_{0,j}} \\\\\n",
    "    A_{j,k} &= \\frac{ \\sum_{n=1}^{N-1} \\xi_{n,j,k} }{  \\sum_{n=1}^{N-1} \\sum_{l=0}^{K-1} \\xi_{n,j,l}  }\n",
    "\\end{align}\n",
    "$$\n",
    "\n",
    "The maximization w.r.t. $\\phi$ depends on the specific form of emission probability."
   ]
  },
  {
   "cell_type": "markdown",
   "metadata": {},
   "source": [
    "## 3. From math to code\n",
    "\n",
    "### 3.1 Emission probability\n",
    "\n",
    "For specificity, here we consider the case where the emission probability is a Bernoulli distribution: \n",
    "\n",
    "$$\n",
    "\\begin{align}\n",
    "    p(x|\\phi_k) = \\phi_{k}^{x} \\left( 1 - \\phi_{k} \\right)^{1-x} \n",
    "\\end{align}\n",
    "$$\n",
    "\n",
    "with $x \\in \\{ 0,1 \\}$ and $\\phi_k \\in [0,1]$.\n",
    "\n",
    "For this emissoin probability, we have, in M-step\n",
    "\n",
    "$$\n",
    "\\begin{align}\n",
    "    \\phi_k = \\frac{ \\sum_{n=0}^{N-1} \\gamma_{n,k} x_n }{ \\sum_{n=0}^{N-1} \\gamma_{n,k}}\n",
    "\\end{align}\n",
    "$$\n",
    "\n",
    "### 3.2 Arrays\n",
    "* pi : (K,) array. pi[k] = $\\pi_k$\n",
    "* A : (K,K) array. A[j,k] = $A_{j,k}$.\n",
    "* phi : (K,) array. \n",
    "\n",
    "* Pmat : (N,K) array, Pmat[n,k] = $p(x_n|\\phi_k)$\n",
    "* gamma : (N,K) array. gamma[n,k] = $\\gamma_{n,k}$\n",
    "* alpha : (N,K) array. alpha[n,k] = $\\hat\\alpha_{n,k}$\n",
    "* beta : (N,K) array. beta[n,k] = $\\hat\\beta_{n,k}$\n",
    "\n",
    "### 3.3 Code"
   ]
  },
  {
   "cell_type": "code",
   "execution_count": 2,
   "metadata": {
    "collapsed": true
   },
   "outputs": [],
   "source": [
    "class HMM:\n",
    "    def __init__(self, K):\n",
    "        self.K = K\n",
    "        \n",
    "        self.pi = None\n",
    "        self.A = None\n",
    "        self.phi = None\n",
    "                    \n",
    "    \n",
    "    # emissoin probability dependent part\n",
    "    def calc_Pmat(self):\n",
    "        '''\n",
    "        Calculate Pmat (p (x_n | \\phi_k)) for E step. \n",
    "        '''\n",
    "        self.Pmat = np.zeros((self.N, self.K))\n",
    "        for k in range(self.K):\n",
    "            tmp = self.phi[k]\n",
    "            self.Pmat[:,k] = (tmp**self.X)*((1-tmp)**(1-self.X))\n",
    "    def calc_phi(self):\n",
    "        '''\n",
    "        M step calculation for emission probability parameter phi\n",
    "        '''\n",
    "        self.phi = (self.gamma.T @ self.X)  / np.sum(self.gamma, axis=0)\n",
    "    def init_phi(self):\n",
    "        '''\n",
    "        initialize the parameter phi\n",
    "        '''\n",
    "        self.phi = np.random.random(self.K)\n",
    "    \n",
    "\n",
    "    # initialization\n",
    "    def load_dat(self, X):\n",
    "        self.X = X\n",
    "        self.N = len(X)\n",
    "    def init_params(self):\n",
    "        self.init_phi()\n",
    "        tmp = np.random.random(self.K)\n",
    "        self.pi =  tmp / np.sum(tmp)\n",
    "        tmp = np.random.random((self.K, self.K))\n",
    "        self.A = tmp / np.reshape( np.sum(tmp, axis=1) , (self.K, 1))\n",
    "\n",
    "    \n",
    "    # E step\n",
    "    def forward(self):\n",
    "        '''\n",
    "        Calculate alpha by recursion\n",
    "        '''\n",
    "        self.alpha = np.zeros((self.N, self.K))\n",
    "        self.c = np.ones(self.N)\n",
    "        tmp = self.pi*self.Pmat[0]\n",
    "        self.alpha[0] = tmp / np.sum(tmp)\n",
    "        for n in range(1,self.N,1):\n",
    "            tmp = self.Pmat[n]*( (self.A).T @  self.alpha[n-1] )\n",
    "            self.c[n] = np.sum(tmp)\n",
    "            self.alpha[n] = tmp / self.c[n]\n",
    "    def backward(self):\n",
    "        '''\n",
    "        Calculate beta by recursion\n",
    "        '''\n",
    "        self.beta = np.zeros((self.N, self.K))\n",
    "        self.beta[self.N - 1] = np.ones(self.K)\n",
    "        for n in range(self.N-2,-1,-1):\n",
    "            self.beta[n] = self.A @ ( self.beta[n+1]*self.Pmat[n+1] ) / self.c[n+1]\n",
    "    def estep(self):\n",
    "        self.calc_Pmat()\n",
    "        self.forward()\n",
    "        self.backward()        \n",
    "        # calculate gamma\n",
    "        self.gamma = self.alpha*self.beta\n",
    "        # calculate xi. \n",
    "        self.xi = np.einsum( \"nj,nk->njk\", np.roll(self.alpha,shift=1,axis=0), self.Pmat ) * np.einsum(\"jk,nk->njk\",self.A, self.beta) /np.reshape( self.c, (self.N, 1,1))\n",
    "        \n",
    "    \n",
    "    # M step\n",
    "    def mstep(self):\n",
    "        self.pi = self.gamma[0]/np.sum(self.gamma[0])\n",
    "        xitmp = np.sum(self.xi[1:], axis=0)\n",
    "        self.A = xitmp / np.reshape(np.sum(xitmp, axis=1) , (self.K, 1))\n",
    "        # calculate phi\n",
    "        self.calc_phi()\n",
    "\n",
    "        \n",
    "    def fit(self,X, tol=1e-6):\n",
    "        self.load_dat(X)\n",
    "        self.init_params()\n",
    "        \n",
    "        cnt = 0\n",
    "        while True:\n",
    "            A = np.copy(self.A)\n",
    "            pi = np.copy(self.pi)\n",
    "            phi = np.copy(self.phi)\n",
    "            \n",
    "            self.estep()\n",
    "            self.mstep()\n",
    "            cnt += 1\n",
    "            \n",
    "            err = np.linalg.norm(A - self.A)**2 + np.linalg.norm(pi - self.pi)**2 + np.linalg.norm(phi - self.phi)**2 \n",
    "            if err < tol:\n",
    "                break\n",
    "        print(cnt)"
   ]
  },
  {
   "cell_type": "markdown",
   "metadata": {},
   "source": [
    "## 4. Experiment"
   ]
  },
  {
   "cell_type": "markdown",
   "metadata": {},
   "source": [
    "For illustration, we consider a toy data, which is generated from a two-state coin. \n",
    "In state $j$, the probability of getting head is $\\mu_j$. \n",
    "After each coin toss, the coin can change its state stochastically. "
   ]
  },
  {
   "cell_type": "code",
   "execution_count": 3,
   "metadata": {
    "collapsed": true
   },
   "outputs": [],
   "source": [
    "N = 200 # the number of data\n",
    "\n",
    "# Here we consider a heavily biased coin.\n",
    "mu0 = 0.1 \n",
    "mu1 = 0.9\n",
    "\n",
    "tp = 0.05 # transition probability\n",
    "\n",
    "X = np.zeros(N)\n",
    "Z = np.zeros(N)\n",
    "z = False\n",
    "for n in range(N):\n",
    "    Z[n] = int(z)\n",
    "    tmp =  np.random.random()\n",
    "    if tmp < mu0*(not(z)) + mu1*z:\n",
    "        X[n] = 1.0\n",
    "    tmp = np.random.random()\n",
    "    if tmp < tp:\n",
    "        z = not(z)"
   ]
  },
  {
   "cell_type": "code",
   "execution_count": 4,
   "metadata": {},
   "outputs": [
    {
     "data": {
      "image/png": "[encoded data removed]",
      "text/plain": [
       "<matplotlib.figure.Figure at 0x7e909e8>"
      ]
     },
     "metadata": {},
     "output_type": "display_data"
    }
   ],
   "source": [
    "plt.plot(2*X-1,'.-',label='observation')\n",
    "plt.plot(4*Z-2,'.-',label='latent variable')\n",
    "plt.legend()\n",
    "plt.show()"
   ]
  },
  {
   "cell_type": "code",
   "execution_count": 5,
   "metadata": {},
   "outputs": [
    {
     "name": "stdout",
     "output_type": "stream",
     "text": [
      "13\n"
     ]
    }
   ],
   "source": [
    "hmm = HMM(K=2)\n",
    "hmm.fit(X)"
   ]
  },
  {
   "cell_type": "code",
   "execution_count": 6,
   "metadata": {},
   "outputs": [
    {
     "name": "stdout",
     "output_type": "stream",
     "text": [
      "pi = [  9.05347383e-12   1.00000000e+00]\n",
      "A = [[ 0.90026184  0.09973816]\n",
      " [ 0.03228069  0.96771931]]\n",
      "phi = [ 0.86828411  0.12408299]\n",
      "==========\n"
     ]
    }
   ],
   "source": [
    "def printparams(hmm):\n",
    "    print(f\"pi = {hmm.pi}\")\n",
    "    print(f\"A = {hmm.A}\")\n",
    "    print(f\"phi = {hmm.phi}\")\n",
    "    print(\"==========\") \n",
    "printparams(hmm)"
   ]
  },
  {
   "cell_type": "code",
   "execution_count": 8,
   "metadata": {},
   "outputs": [
    {
     "data": {
      "text/plain": [
       "<matplotlib.legend.Legend at 0x844dc18>"
      ]
     },
     "execution_count": 8,
     "metadata": {},
     "output_type": "execute_result"
    },
    {
     "data": {
      "image/png": "[encoded data removed]",
      "text/plain": [
       "<matplotlib.figure.Figure at 0x839fe10>"
      ]
     },
     "metadata": {},
     "output_type": "display_data"
    }
   ],
   "source": [
    "plt.plot(2*Z-1, label='ground truth latent variable')\n",
    "plt.plot(hmm.gamma[:,0]-0.5, label='esetimated')\n",
    "plt.legend()"
   ]
  }
 ],
 "metadata": {
  "kernelspec": {
   "display_name": "Python 3",
   "language": "python",
   "name": "python3"
  },
  "language_info": {
   "codemirror_mode": {
    "name": "ipython",
    "version": 3
   },
   "file_extension": ".py",
   "mimetype": "text/x-python",
   "name": "python",
   "nbconvert_exporter": "python",
   "pygments_lexer": "ipython3",
   "version": "3.6.1"
  }
 },
 "nbformat": 4,
 "nbformat_minor": 2
}
