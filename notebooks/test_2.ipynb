{
 "cells": [
  {
   "cell_type": "markdown",
   "metadata": {},
   "source": [
    "# Test 1\n",
    "\n",
    "## two lines\n",
    "\n",
    "Here, the sourcecode is \n",
    "1. \"a =\" \n",
    "2. \"b + c\" \n",
    "\n",
    "\n",
    "$$\n",
    "\\begin{align}\n",
    "    a = \n",
    "    b + c\n",
    "\\end{align}\n",
    "$$\n"
   ]
  },
  {
   "cell_type": "markdown",
   "metadata": {},
   "source": [
    "## three lines, with the third line beginning from \"+\"\n",
    "\n",
    "Here, the sourcecode is \n",
    "1. \"a =\" \n",
    "2. \"b\" \n",
    "3. \"+ c\" \n",
    "\n",
    "$$\n",
    "\\begin{align}\n",
    "    a = \n",
    "    b \n",
    "    + c\n",
    "\\end{align}\n",
    "$$\n"
   ]
  },
  {
   "cell_type": "markdown",
   "metadata": {},
   "source": [
    "## three lines, with the third line beginning from \"c\"\n",
    "\n",
    "Here, the sourcecode is \n",
    "1. \"a =\" \n",
    "2. \"b +\"  \n",
    "3. \"c\" \n",
    "\n",
    "$$\n",
    "\\begin{align}\n",
    "    a = \n",
    "    b +\n",
    "    c\n",
    "\\end{align}\n",
    "$$\n"
   ]
  },
  {
   "cell_type": "markdown",
   "metadata": {
    "collapsed": true
   },
   "source": [
    "# Test 2 \n",
    "\n",
    "## one line\n",
    "\n",
    "$$\n",
    "\\begin{align}\n",
    "    + a\n",
    "\\end{align}\n",
    "$$"
   ]
  },
  {
   "cell_type": "markdown",
   "metadata": {},
   "source": [
    "## two lines\n",
    "\n",
    "source code \n",
    "1. \"a=\"\n",
    "2. \"+ 1\"\n",
    "\n",
    "$$\n",
    "\\begin{align}\n",
    "    a = \n",
    "    + 1\n",
    "\\end{align}\n",
    "$$"
   ]
  },
  {
   "cell_type": "markdown",
   "metadata": {},
   "source": [
    "## two lines\n",
    "\n",
    "source code \n",
    "1. \"a\"\n",
    "2. \"= + 1\"\n",
    "\n",
    "$$\n",
    "\\begin{align}\n",
    "    a\n",
    "    = + 1\n",
    "\\end{align}\n",
    "$$"
   ]
  },
  {
   "cell_type": "markdown",
   "metadata": {},
   "source": [
    "## two lines\n",
    "\n",
    "source code \n",
    "1. \"a\"\n",
    "2. \"= 1\"\n",
    "\n",
    "$$\n",
    "\\begin{align}\n",
    "    a\n",
    "    =  1\n",
    "\\end{align}\n",
    "$$"
   ]
  },
  {
   "cell_type": "code",
   "execution_count": null,
   "metadata": {
    "collapsed": true
   },
   "outputs": [],
   "source": []
  }
 ],
 "metadata": {
  "kernelspec": {
   "display_name": "Python 3",
   "language": "python",
   "name": "python3"
  },
  "language_info": {
   "codemirror_mode": {
    "name": "ipython",
    "version": 3
   },
   "file_extension": ".py",
   "mimetype": "text/x-python",
   "name": "python",
   "nbconvert_exporter": "python",
   "pygments_lexer": "ipython3",
   "version": "3.6.1"
  }
 },
 "nbformat": 4,
 "nbformat_minor": 2
}
