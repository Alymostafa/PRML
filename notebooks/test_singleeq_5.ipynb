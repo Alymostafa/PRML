{
 "cells": [
  {
   "cell_type": "markdown",
   "metadata": {},
   "source": [
    "# title 4\n",
    "\n",
    "### 4.2 Gradient\n",
    "\n",
    "To perform the optimization, we also need the gradient, which is given by \n",
    "\n",
    "$$\n",
    "\\begin{align}\n",
    "    \\frac{\\partial}{\\partial \\theta_i} \\log p( \\boldsymbol{t} | \\theta ) \n",
    "    = -\\frac{1}{2} Tr \\left( C^{-1} \\frac{\\partial C}{\\partial \\theta_i} \\right)\n",
    "        + \\frac{1}{2} \\boldsymbol{t}^T C^{-1} \\frac{\\partial C}{\\partial \\theta_i} C^{-1} \\boldsymbol{t}\n",
    "\\end{align}\n",
    "$$\n"
   ]
  },
  {
   "cell_type": "code",
   "execution_count": null,
   "metadata": {
    "collapsed": true
   },
   "outputs": [],
   "source": []
  }
 ],
 "metadata": {
  "kernelspec": {
   "display_name": "Python 3",
   "language": "python",
   "name": "python3"
  },
  "language_info": {
   "codemirror_mode": {
    "name": "ipython",
    "version": 3
   },
   "file_extension": ".py",
   "mimetype": "text/x-python",
   "name": "python",
   "nbconvert_exporter": "python",
   "pygments_lexer": "ipython3",
   "version": "3.6.1"
  }
 },
 "nbformat": 4,
 "nbformat_minor": 2
}
