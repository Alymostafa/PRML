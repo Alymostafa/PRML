{
 "cells": [
  {
   "cell_type": "markdown",
   "metadata": {},
   "source": [
    "# title 12\n",
    "\n",
    "### 4.2 Gradient\n",
    "\n",
    "To perform the optimization, we also need the gradient, which is given by \n",
    "\n",
    "$$\n",
    "\\begin{align}\n",
    "    \\frac{\\partial}{\\partial \\theta_i} \\log p( \\boldsymbol{t} | \\theta )  \n",
    "    = -\\frac{1}{2} Tr \\left( C^{-1} \\frac{\\partial C}{\\partial \\theta_i} \\right) + \\frac{1}{2}\n",
    "\\end{align}\n",
    "$$\n",
    "\n",
    "a"
   ]
  },
  {
   "cell_type": "markdown",
   "metadata": {
    "collapsed": true
   },
   "source": [
    " \\boldsymbol{t}^T C^{-1} \\frac{\\partial C}{\\partial \\theta_i} C^{-1} \\boldsymbol{t}"
   ]
  },
  {
   "cell_type": "code",
   "execution_count": null,
   "metadata": {
    "collapsed": true
   },
   "outputs": [],
   "source": []
  }
 ],
 "metadata": {
  "kernelspec": {
   "display_name": "Python 3",
   "language": "python",
   "name": "python3"
  },
  "language_info": {
   "codemirror_mode": {
    "name": "ipython",
    "version": 3
   },
   "file_extension": ".py",
   "mimetype": "text/x-python",
   "name": "python",
   "nbconvert_exporter": "python",
   "pygments_lexer": "ipython3",
   "version": "3.6.1"
  }
 },
 "nbformat": 4,
 "nbformat_minor": 2
}
