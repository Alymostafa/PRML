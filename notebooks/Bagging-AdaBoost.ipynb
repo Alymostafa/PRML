{
 "cells": [
  {
   "cell_type": "markdown",
   "metadata": {},
   "source": [
    "# Bagging and AdaBoost\n",
    "\n",
    "In this notebook, I will implement algorithms described in Sections 14.2 and 14.3 of the book PRML, i.e., bagging and adaboost for binary classifications."
   ]
  },
  {
   "cell_type": "code",
   "execution_count": 1,
   "metadata": {
    "collapsed": true
   },
   "outputs": [],
   "source": [
    "import numpy as np\n",
    "import matplotlib as mpl\n",
    "from matplotlib import pyplot as plt\n",
    "from sklearn import datasets\n",
    "\n",
    "%matplotlib inline\n",
    "mpl.rc(\"savefig\",dpi=100)"
   ]
  },
  {
   "cell_type": "markdown",
   "metadata": {},
   "source": [
    "## 1. Setting\n",
    "\n",
    "* $N \\in \\mathbb{N}$ : the number of observation data\n",
    "* $X = (x_0, x_1, \\dots, x_{N-1})$ : the set of observation data. All $x_n$ belong to an appropriatespecified set, say, $\\mathcal{X}$.\n",
    "* $T = (t_0, t_1, \\dots, t_{N-1})$ : the target labels.\n",
    "* $y : \\mathcal{X} \\times \\Theta \\rightarrow \\{1, -1\\}$ : a binary classifier parametrized by $\\theta \\in \\Theta$."
   ]
  },
  {
   "cell_type": "markdown",
   "metadata": {},
   "source": [
    "## 2. Theory \n",
    "\n",
    "In this notebook, we construct strong classifier from a given simple classifier, which we call a base classifier. \n",
    "\n",
    "### 2.1 Base classifier : decision stump\n",
    "\n",
    "#### 2.1.1 Definition \n",
    "Here, for simplicity, we assume $\\mathcal{X} = \\mathbb{R}^D$ with $D \\in \\mathbb{N}$, and use decision stump as base classifiers. \n",
    "\n",
    "A decision stump is characterized by parameter $\\theta = (d, a, s) \\in \\{ 0,1, \\dots, D-1 \\} \\times \\mathbb{R} \\times \\{ 1, -1 \\} $, where its prediction is given by\n",
    "$$\n",
    "\\begin{align}\n",
    "    y(x, (d,a,s)) = \n",
    "    \\begin{cases}\n",
    "        s & (x_d \\geq a ) \\\\\n",
    "        -s & (x_d < a)\n",
    "    \\end{cases}\n",
    "\\end{align}\n",
    "$$\n",
    "In essence, the decision stump $y(\\cdot, (d,a,s))$ makes prediction according to whether the $d$ th coordinate of the input is larger than $a$ or not. \n",
    "\n",
    "#### 2.1.2 Training\n",
    "In training a decision stump, we choose a parameter $\\theta$ that minimizes\n",
    "$$\n",
    "\\begin{align}\n",
    "    \\sum_{n=0}^{N-1} w_n I\\left[ y(x_n, \\theta) \\neq t_n \\right]. \n",
    "\\end{align}\n",
    "$$\n",
    "\n",
    "Given training data $x_0, \\dots, x_{N-1}$, there are essentially only $2D(N-1)$ possible decision stumps because there are\n",
    "* two ways of choosing the sign $s$, \n",
    "* $D$ possible ways of choosing the dimension $d$, and\n",
    "* $N-1$ possible ways of choosing the position of the threshold $a$. \n",
    "\n",
    "As to the las point: although there are infinitely many ways of choosing $a$, here we limit the possible values of $a$ to be the average of two adjacent (in terms of $d$ the coordinate) inpout points, because this limitation does not affect the values of the error function. \n",
    "\n",
    "In the later implementation, we perform this exhaustive search."
   ]
  },
  {
   "cell_type": "markdown",
   "metadata": {},
   "source": [
    "### 2.2 Bagging \n",
    "\n",
    "The idea of bagging, or bootstrap aggregation, is to train $M$ base classifiers using different \"training data\" for each classifier, where we obtain the \"training data\" by resampling from the original training data. \n",
    "\n",
    "#### 2.2.1 Training \n",
    "\n",
    "For $m = 0,1, \\dots, M-1$, \n",
    "1. randomly sample $N$ data points from $(X,T)$ with replacement, and\n",
    "2. train the $m$ th classifier $y(\\cdot, \\theta_m)$ using the resampled data. \n",
    "\n",
    "#### 2.2.2 Prediction \n",
    "Output the prediction for input $x$ by \n",
    "$$\n",
    "\\begin{align}\n",
    "    y_{bag}(x) = \\frac{1}{M} \\sum_{m=0}^{M-1} y(x, \\theta_m)\n",
    "\\end{align}\n",
    "$$"
   ]
  },
  {
   "cell_type": "markdown",
   "metadata": {},
   "source": [
    "### 2.3 AdaBoost\n",
    "\n",
    "#### 2.3.1 Training\n",
    "\n",
    "In AdaBoost, we train the classifier following the algorithm shown below: \n",
    "\n",
    "0. input : training data (X, T), base classifier $y$, the number of boosting $M$. \n",
    "1. Initialize data weighs $(w_0, w_1, \\dots, w_{N-1})$ as $w^{(0)}_{n} = 1/N$. \n",
    "2. For $m = 1, \\dots, M$: \n",
    "    1. Choose $\\theta_m \\in \\Theta$ such that\n",
    "    $$\n",
    "    \\begin{align}\n",
    "        \\sum_{n=1}^{N} w^{(m)}_{n} I \\left[ y(x_n, \\theta_m) \\neq t_n \\right]\n",
    "    \\end{align}\n",
    "    $$\n",
    "    is minimized.\n",
    "    2. Evalute \n",
    "    $$\n",
    "    \\begin{align}\n",
    "        \\varepsilon_m &:= \\sum_{n=1}^{N} w^{(m)}_{n}  I \\left[ y(x_n, \\theta_m) \\neq t_n \\right] \\\\     \n",
    "        \\alpha_m &:= \\log \\left(\\frac{1 - \\varepsilon_m}{\\varepsilon_m} \\right)\n",
    "    \\end{align}\n",
    "    $$\n",
    "    3. Update the data weight by \n",
    "    $$\n",
    "    \\begin{align}\n",
    "        \\tilde{w}^{(m+1)}_{n} &= w^{(m)}_{n} \\exp\\left\\{ \\alpha_m I \\left[ y(x_n, \\theta_m) \\neq t_n \\right]  \\right\\} \\\\\n",
    "        w^{(m+1)}_{n} &= \\frac{\\tilde{w}^{(m+1)}_{n}}{ \\sum_{n'=1}^{N} \\tilde{w}^{(m+1)}_{n'} }\n",
    "    \\end{align}\n",
    "    $$\n",
    "    \n",
    "Note :\n",
    "* We normalize the weight here.\n",
    "* It is implicitly assumed that the base classifier is better than random in the sense that $\\varepsilon_m < \\frac{1}{2}$ for all $m$. As far as I understand, the algorithm does not work when $\\varepsilon_m > \\frac{1}{2}$.\n",
    "\n",
    "#### 2.3.2 Prediction \n",
    "\n",
    "Having obtained the classifier, the predicted label for input $x$ is given by \n",
    "$$\n",
    "\\begin{align}\n",
    "    \\textrm{sign} \\left[ \\sum_{m=0}^{M-1} \\alpha_m y(x, \\theta_m) \\right]\n",
    "\\end{align}\n",
    "$$"
   ]
  },
  {
   "cell_type": "markdown",
   "metadata": {},
   "source": [
    "## 3. From math to code\n",
    "\n",
    "### 3.1  Decision stump\n",
    "\n",
    "In fitting a decision stump, we \n",
    "* first perform the exhaustive search over $s$ and $a$ for each dimension using fit_onedim (where the dimension $d$ is given), and \n",
    "* then compare the result for each dimension $d$. \n",
    "\n",
    "In fit_onedim, we use the folowoing arrays, assuming that $x$ and $w$ are sorted according the value of the $d$ th coordinate of $x$:  \n",
    "* pred : (N-1, N) array, where pred[m,n] = $y\\left(x_n, \\left(d, \\frac{x_m + x_{m+1}}{2} \\right), 1 \\right)$. Note that it can generated easily by using np.tri (Although it is inefficient in terms of memory. ).\n",
    "* result : (N-1, N) array, where result[m,n] = $I \\left[ y\\left(x_n, \\left(d, \\frac{x_m + x_{m+1}}{2} \\right), 1 \\right) \\neq t_n\\right] $\n",
    "* errs : (2, N-1) array, where \n",
    "    * errs[0,m] = $\\sum_{n=0}^{N-1} w_n I \\left[ y\\left(x_n, \\left(d, \\frac{x_m + x_{m+1}}{2} \\right), 1 \\right) \\neq t_n\\right] $\n",
    "    * errs[1,m] = $\\sum_{n=0}^{N-1} w_n I \\left[ y\\left(x_n, \\left(d, \\frac{x_m + x_{m+1}}{2} \\right), -1 \\right) \\neq t_n\\right] $\n",
    "\n",
    "\n"
   ]
  },
  {
   "cell_type": "code",
   "execution_count": 2,
   "metadata": {
    "collapsed": true
   },
   "outputs": [],
   "source": [
    "class Decision_stump:\n",
    "    \n",
    "    \n",
    "    def fit_onedim(self, X, T, sample_weight, d):\n",
    "        N = len(X)\n",
    "        # Here we sort everything according the d th coordinate of X\n",
    "        sort_ind = np.argsort(X[:,d])\n",
    "        sorted_label = T[sort_ind]\n",
    "        sorted_input = X[sort_ind]\n",
    "        sorted_sample_weight = sample_weight[sort_ind]\n",
    "        \n",
    "        pred = -2*np.tri(N-1, N, 0) + 1 \n",
    "        result = 1*(pred != np.reshape(sorted_label, (1,N)) )\n",
    "        \n",
    "        # The (weighted) error is calculated for each classifier\n",
    "        errs = np.zeros((2,N-1))\n",
    "        errs[0] = result @ sorted_sample_weight\n",
    "        errs[1] = (-result+ 1) @ sorted_sample_weight\n",
    "        \n",
    "        # Here, we select the best threshold and sign\n",
    "        ind = np.unravel_index(np.argmin(errs, axis=None), errs.shape)\n",
    "        sign = -2*ind[0] + 1\n",
    "        thresh = 0.5* ( sorted_input[ind[1],d] + sorted_input[ind[1]+1, d] ) \n",
    "        err = errs[ind]\n",
    "        return sign, thresh, err\n",
    "\n",
    "        \n",
    "    def fit(self, X, T, sample_weight=None):\n",
    "        N = len(X)\n",
    "        D = len(X[0])\n",
    "        \n",
    "        if sample_weight is None:\n",
    "            sample_weight = np.ones(N)/N\n",
    "        \n",
    "        signs = np.zeros(D)\n",
    "        threshs = np.zeros(D)\n",
    "        errs = np.zeros(D)\n",
    "        for d in range(D):\n",
    "            signs[d], threshs[d], errs[d] = self.fit_onedim(X, T, sample_weight, d)\n",
    "        self.d = np.argmin(errs)\n",
    "        self.sign = signs[self.d]\n",
    "        self.thresh = threshs[self.d]           \n",
    "\n",
    "    def predict(self, X):\n",
    "        return self.sign*( 2*(X[:,self.d] >= self.thresh) - 1 )"
   ]
  },
  {
   "cell_type": "markdown",
   "metadata": {},
   "source": [
    "### 3.2 Bagging \n",
    "\n",
    "The implementation is rather straightforward. \n",
    "\n",
    "The code is written in a that it can be used for other base classifiers, asuming that the base classifier class has a fit method, which takes input data, label, and sample weight."
   ]
  },
  {
   "cell_type": "code",
   "execution_count": 3,
   "metadata": {
    "collapsed": true
   },
   "outputs": [],
   "source": [
    "class Bagging:\n",
    "    def __init__(self, BC, M):\n",
    "        self.BC = BC # base classifier class\n",
    "        self.M = M\n",
    "        self.clfs = np.empty(self.M, dtype='object')\n",
    "\n",
    "    def fit(self, X, T):\n",
    "        N = len(X)\n",
    "        for m in range(self.M):\n",
    "            self.clfs[m] = self.BC()\n",
    "            \n",
    "            # resampling is performed here\n",
    "            sample_ind = np.random.randint(0,N,N)\n",
    "            X_resampled = X[sample_ind] \n",
    "            T_resampled = T[sample_ind]\n",
    "            # traing the classifier using the resampled training data\n",
    "            self.clfs[m].fit(X_resampled, T_resampled)\n",
    "            \n",
    "    def predict(self, Xtest):\n",
    "        base_pred = np.zeros((self.M, len(Xtest)))\n",
    "        for m in range(self.M):\n",
    "            base_pred[m] = self.clfs[m].predict(Xtest)\n",
    "        return np.sign(  np.sum(base_pred, axis = 0 ) )"
   ]
  },
  {
   "cell_type": "markdown",
   "metadata": {},
   "source": [
    "### 3.3 AdaBoost\n",
    "\n",
    "The code is also written in a that it can be used for other base classifiers, asuming that the base classifier class has a fit method, which takes input data, label, and sample weight. \n",
    "\n",
    "* X : (N,D) array\n",
    "* T : (N,) array\n",
    "* alpha : (M,) array, alpha[m] = $\\alpha_m$"
   ]
  },
  {
   "cell_type": "code",
   "execution_count": 4,
   "metadata": {
    "collapsed": true
   },
   "outputs": [],
   "source": [
    "class Adaboost:\n",
    "    def __init__(self, BC, M):\n",
    "        self.BC = BC # base classifier class\n",
    "        self.M = M\n",
    "        self.alpha = np.zeros(self.M)\n",
    "        self.clfs = np.empty(self.M, dtype='object')\n",
    "        \n",
    "    def fit(self, X, T):\n",
    "        N = len(X)\n",
    "        w = 1.0/N * np.ones(N) # initialize the weight\n",
    "        for m in range(self.M):\n",
    "            # invoke the base classifier\n",
    "            self.clfs[m] = self.BC()\n",
    "            self.clfs[m].fit(X, T, sample_weight = w)\n",
    "            pred_err = (self.clfs[m].predict(X) != T) # prediction error\n",
    "            \n",
    "            # calculate the epsilon and alpha\n",
    "            ep = np.sum ( w*pred_err)\n",
    "            \n",
    "            self.alpha[m] = np.log(1.0/ep - 1)\n",
    "            \n",
    "            # update the weight\n",
    "            w = w * np.exp(  self.alpha[m]* pred_err )\n",
    "            w = w/np.sum(w)\n",
    "        \n",
    "    def predict(self, Xtest):\n",
    "        base_pred = np.zeros((self.M, len(Xtest)))\n",
    "        for m in range(self.M):\n",
    "            base_pred[m] = self.clfs[m].predict(Xtest)\n",
    "        return np.sign( np.sum(np.reshape(self.alpha,(self.M,1))*base_pred, axis=0)  )"
   ]
  },
  {
   "cell_type": "markdown",
   "metadata": {
    "collapsed": true
   },
   "source": [
    "## 4. Experiment"
   ]
  },
  {
   "cell_type": "code",
   "execution_count": 5,
   "metadata": {
    "collapsed": true
   },
   "outputs": [],
   "source": [
    "N = 50\n",
    "xdat,tdat = datasets.make_moons(n_samples = N, noise = 0.1)\n",
    "tdat = 2*tdat-1\n",
    "\n",
    "xx = np.linspace(np.min(xdat[:,0]),np.max(xdat[:,0]),101)\n",
    "yy = np.linspace(np.min(xdat[:,1]),np.max(xdat[:,1]),100)\n",
    "Xtest = np.array([[x,y] for x in xx  for y in yy])\n",
    "xxx,yyy = np.meshgrid(xx,yy)\n",
    "\n",
    "def plot_result(clf):\n",
    "    plt.plot(xdat[:,0][tdat==1],xdat[:,1][tdat==1],\"o\",label=\"1\")\n",
    "    plt.plot(xdat[:,0][tdat==-1],xdat[:,1][tdat==-1],\"o\",label=\"-1\")\n",
    "    plt.legend()\n",
    "    pred_val = clf.predict(Xtest)\n",
    "    pred_val_2D = np.reshape(pred_val,(len(xx),len(yy))).T\n",
    "    plt.pcolormesh(xxx,yyy,pred_val_2D)\n",
    "    plt.colorbar()\n",
    "    plt.show()"
   ]
  },
  {
   "cell_type": "markdown",
   "metadata": {},
   "source": [
    "### 4.1 Single decision stump\n",
    "\n",
    "First, let us quickly see the performance of the decision stump. "
   ]
  },
  {
   "cell_type": "code",
   "execution_count": 6,
   "metadata": {},
   "outputs": [
    {
     "data": {
      "image/png": "[encoded data removed]",
      "text/plain": [
       "<matplotlib.figure.Figure at 0x8d26588>"
      ]
     },
     "metadata": {},
     "output_type": "display_data"
    }
   ],
   "source": [
    "ds = Decision_stump()\n",
    "ds.fit(xdat,tdat, np.ones(N)/N)\n",
    "plot_result(ds)"
   ]
  },
  {
   "cell_type": "markdown",
   "metadata": {},
   "source": [
    "### 4.2 Bagging"
   ]
  },
  {
   "cell_type": "code",
   "execution_count": 7,
   "metadata": {},
   "outputs": [
    {
     "data": {
      "image/png": "[encoded data removed]",
      "text/plain": [
       "<matplotlib.figure.Figure at 0x8ec7898>"
      ]
     },
     "metadata": {},
     "output_type": "display_data"
    }
   ],
   "source": [
    "bag = Bagging(Decision_stump, 100)\n",
    "bag.fit(xdat,tdat)\n",
    "plot_result(bag)"
   ]
  },
  {
   "cell_type": "markdown",
   "metadata": {},
   "source": [
    "We can see that the result slightly improved compared with the case with single decision stump.\n",
    "\n",
    "### 4.3 AdaBoost"
   ]
  },
  {
   "cell_type": "code",
   "execution_count": 8,
   "metadata": {
    "scrolled": true
   },
   "outputs": [
    {
     "data": {
      "image/png": "[encoded data removed]",
      "text/plain": [
       "<matplotlib.figure.Figure at 0x8ed5da0>"
      ]
     },
     "metadata": {},
     "output_type": "display_data"
    }
   ],
   "source": [
    "ada = Adaboost(Decision_stump, 100)\n",
    "ada.fit(xdat,tdat)\n",
    "plot_result(ada)"
   ]
  },
  {
   "cell_type": "markdown",
   "metadata": {},
   "source": [
    "Now, we can see that the decision boundary fits well with the data. "
   ]
  }
 ],
 "metadata": {
  "kernelspec": {
   "display_name": "Python 3",
   "language": "python",
   "name": "python3"
  },
  "language_info": {
   "codemirror_mode": {
    "name": "ipython",
    "version": 3
   },
   "file_extension": ".py",
   "mimetype": "text/x-python",
   "name": "python",
   "nbconvert_exporter": "python",
   "pygments_lexer": "ipython3",
   "version": "3.6.1"
  }
 },
 "nbformat": 4,
 "nbformat_minor": 2
}
