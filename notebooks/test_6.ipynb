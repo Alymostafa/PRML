{
 "cells": [
  {
   "cell_type": "markdown",
   "metadata": {},
   "source": [
    "# Test 1\n",
    "\n",
    "\n",
    "## two lines\n",
    "\n",
    "Here, the sourcecode is \n",
    "1. \"a =\" \n",
    "2. \"b + c\" \n",
    "\n",
    "\n",
    "$$\n",
    "\\begin{align}\n",
    "    a = \n",
    "    b + c\n",
    "\\end{align}\n",
    "$$\n"
   ]
  },
  {
   "cell_type": "markdown",
   "metadata": {},
   "source": [
    "## three lines, with the third line beginning from \"+\"\n",
    "\n",
    "Here, the sourcecode is \n",
    "1. \"a =\" \n",
    "2. \"b\" \n",
    "3. \"+ c\" \n",
    "\n",
    "$$\n",
    "\\begin{align}\n",
    "    a = \n",
    "    b \n",
    "    + c\n",
    "\\end{align}\n",
    "$$\n"
   ]
  },
  {
   "cell_type": "markdown",
   "metadata": {},
   "source": [
    "## three lines, with the third line beginning from \"c\"\n",
    "\n",
    "Here, the sourcecode is \n",
    "1. \"a =\" \n",
    "2. \"b +\"  \n",
    "3. \"c\" \n",
    "\n",
    "$$\n",
    "\\begin{align}\n",
    "    a = \n",
    "    b +\n",
    "    c\n",
    "\\end{align}\n",
    "$$\n"
   ]
  },
  {
   "cell_type": "markdown",
   "metadata": {
    "collapsed": true
   },
   "source": [
    "# Test 2 \n",
    "\n",
    "「行数に関係なく「+」が先頭に来るとダメ」であることの確認\n",
    "\n",
    "## one line\n",
    "\n",
    "$$\n",
    "\\begin{align}\n",
    "    + a\n",
    "\\end{align}\n",
    "$$"
   ]
  },
  {
   "cell_type": "markdown",
   "metadata": {},
   "source": [
    "## two lines\n",
    "\n",
    "source code \n",
    "1. \"a=\"\n",
    "2. \"+ 1\"\n",
    "\n",
    "$$\n",
    "\\begin{align}\n",
    "    a = \n",
    "    + 1\n",
    "\\end{align}\n",
    "$$"
   ]
  },
  {
   "cell_type": "markdown",
   "metadata": {},
   "source": [
    "## two lines\n",
    "\n",
    "source code \n",
    "1. \"a\"\n",
    "2. \"= + 1\"\n",
    "\n",
    "$$\n",
    "\\begin{align}\n",
    "    a\n",
    "    = + 1\n",
    "\\end{align}\n",
    "$$"
   ]
  },
  {
   "cell_type": "markdown",
   "metadata": {},
   "source": [
    "## two lines\n",
    "\n",
    "source code \n",
    "1. \"a\"\n",
    "2. \"= 1\"\n",
    "\n",
    "$$\n",
    "\\begin{align}\n",
    "    a\n",
    "    =  1\n",
    "\\end{align}\n",
    "$$\n",
    "\n",
    "\"=\"で始まっても問題ない. \n",
    "\n"
   ]
  },
  {
   "cell_type": "markdown",
   "metadata": {},
   "source": [
    "## two lines\n",
    "\n",
    "source code \n",
    "1. \"a = \"\n",
    "2. \"- 1\"\n",
    "\n",
    "$$\n",
    "\\begin{align}\n",
    "    a =\n",
    "    - 1\n",
    "\\end{align}\n",
    "$$\n",
    "\n",
    "\"-\"で始まってもダメ\n"
   ]
  },
  {
   "cell_type": "markdown",
   "metadata": {
    "collapsed": true
   },
   "source": [
    "## many lines \n",
    "\n",
    "符号がない場合は複数行でもOK?\n",
    "\n",
    "$$\n",
    "\\begin{align}\n",
    "    a\n",
    "    b\n",
    "    c\n",
    "    d\n",
    "\\end{align}\n",
    "$$\n",
    "\n",
    "OK"
   ]
  },
  {
   "cell_type": "markdown",
   "metadata": {
    "collapsed": true
   },
   "source": [
    "## 前に空白を挿入\n",
    "\n",
    "$$\n",
    "\\begin{align}\n",
    "    {} +1\n",
    "\\end{align}\n",
    "$$\n",
    "\n",
    "これで正しくrenderingされる"
   ]
  },
  {
   "cell_type": "markdown",
   "metadata": {
    "collapsed": true
   },
   "source": [
    "# ドルマークの有無\n",
    "\n",
    "ドルマークあり/align\n",
    "\n",
    "$$\n",
    "\\begin{align}\n",
    "    a\n",
    "    + 1\n",
    "\\end{align}\n",
    "$$\n",
    "\n",
    "\n",
    "ドルマークなし/align\n",
    "\n",
    "\\begin{align}\n",
    "    a\n",
    "    + 1\n",
    "\\end{align}\n",
    "\n",
    "\n",
    "ドルマークあり/equation\n",
    "\n",
    "$$\n",
    "\\begin{equation}\n",
    "    a\n",
    "    + 1\n",
    "\\end{equation}\n",
    "$$\n",
    "\n",
    "\n",
    "ドルマークなし/equation\n",
    "\n",
    "\\begin{equation}\n",
    "    a\n",
    "    + 1\n",
    "\\end{equation}\n",
    "\n",
    "\n",
    "ドルマークあり/eqnarray\n",
    "\n",
    "$$\n",
    "\\begin{eqnarray}\n",
    "    a\n",
    "    + 1\n",
    "\\end{eqnarray}\n",
    "$$\n",
    "\n",
    "\n",
    "ドルマークなし/eqnarray\n",
    "\n",
    "\\begin{eqnarray}\n",
    "    a\n",
    "    + 1\n",
    "\\end{eqnarray}\n"
   ]
  },
  {
   "cell_type": "markdown",
   "metadata": {},
   "source": [
    "## ドルマークのみの場合\n",
    "\n",
    "$$\n",
    "a\n",
    "+1\n",
    "$$"
   ]
  },
  {
   "cell_type": "code",
   "execution_count": null,
   "metadata": {
    "collapsed": true
   },
   "outputs": [],
   "source": []
  }
 ],
 "metadata": {
  "kernelspec": {
   "display_name": "Python 3",
   "language": "python",
   "name": "python3"
  },
  "language_info": {
   "codemirror_mode": {
    "name": "ipython",
    "version": 3
   },
   "file_extension": ".py",
   "mimetype": "text/x-python",
   "name": "python",
   "nbconvert_exporter": "python",
   "pygments_lexer": "ipython3",
   "version": "3.6.1"
  }
 },
 "nbformat": 4,
 "nbformat_minor": 2
}
